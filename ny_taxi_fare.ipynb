{
 "metadata": {
  "language_info": {
   "codemirror_mode": {
    "name": "ipython",
    "version": 3
   },
   "file_extension": ".py",
   "mimetype": "text/x-python",
   "name": "python",
   "nbconvert_exporter": "python",
   "pygments_lexer": "ipython3",
   "version": "3.9.12-final"
  },
  "orig_nbformat": 2,
  "kernelspec": {
   "name": "python3",
   "display_name": "Python 3.9.12 64-bit ('base': conda)",
   "metadata": {
    "interpreter": {
     "hash": "0c96bc825673a46e62aca9fce20a366a806e91ccbabfa4f8976ca6654a1e3be0"
    }
   }
  }
 },
 "nbformat": 4,
 "nbformat_minor": 2,
 "cells": [
  {
   "cell_type": "code",
   "execution_count": 1,
   "metadata": {},
   "outputs": [],
   "source": [
    "import numpy as np\n",
    "import pandas as pd\n",
    "import matplotlib.pyplot as pyplot\n",
    "import seaborn as sns\n",
    "import random"
   ]
  },
  {
   "cell_type": "code",
   "execution_count": 6,
   "metadata": {},
   "outputs": [],
   "source": [
    "kaggle_dataset = pd.read_csv('data/taxi_trip_data.csv', nrows = 15_000_000)"
   ]
  },
  {
   "cell_type": "code",
   "execution_count": 4,
   "metadata": {},
   "outputs": [
    {
     "output_type": "execute_result",
     "data": {
      "text/plain": [
       "   vendor_id      pickup_datetime     dropoff_datetime  passenger_count  \\\n",
       "0          2  2018-03-29 13:37:13  2018-03-29 14:17:01                1   \n",
       "1          2  2018-03-29 13:37:18  2018-03-29 14:15:33                1   \n",
       "2          2  2018-03-29 13:26:57  2018-03-29 13:28:03                1   \n",
       "3          2  2018-03-29 13:07:48  2018-03-29 14:03:05                2   \n",
       "4          2  2018-03-29 14:19:11  2018-03-29 15:19:59                5   \n",
       "\n",
       "   trip_distance  rate_code store_and_fwd_flag  payment_type  fare_amount  \\\n",
       "0          18.15          3                  N             1         70.0   \n",
       "1           4.59          1                  N             1         25.0   \n",
       "2           0.30          1                  N             1          3.0   \n",
       "3          16.97          1                  N             1         49.5   \n",
       "4          14.45          1                  N             1         45.5   \n",
       "\n",
       "   extra  mta_tax  tip_amount  tolls_amount  imp_surcharge  total_amount  \\\n",
       "0    0.0      0.0       16.16         10.50            0.3         96.96   \n",
       "1    0.0      0.5        5.16          0.00            0.3         30.96   \n",
       "2    0.0      0.5        0.76          0.00            0.3          4.56   \n",
       "3    0.0      0.5        5.61          5.76            0.3         61.67   \n",
       "4    0.0      0.5       10.41          5.76            0.3         62.47   \n",
       "\n",
       "   pickup_location_id  dropoff_location_id  \n",
       "0                 161                    1  \n",
       "1                  13                  230  \n",
       "2                 231                  231  \n",
       "3                 231                  138  \n",
       "4                  87                  138  "
      ],
      "text/html": "<div>\n<style scoped>\n    .dataframe tbody tr th:only-of-type {\n        vertical-align: middle;\n    }\n\n    .dataframe tbody tr th {\n        vertical-align: top;\n    }\n\n    .dataframe thead th {\n        text-align: right;\n    }\n</style>\n<table border=\"1\" class=\"dataframe\">\n  <thead>\n    <tr style=\"text-align: right;\">\n      <th></th>\n      <th>vendor_id</th>\n      <th>pickup_datetime</th>\n      <th>dropoff_datetime</th>\n      <th>passenger_count</th>\n      <th>trip_distance</th>\n      <th>rate_code</th>\n      <th>store_and_fwd_flag</th>\n      <th>payment_type</th>\n      <th>fare_amount</th>\n      <th>extra</th>\n      <th>mta_tax</th>\n      <th>tip_amount</th>\n      <th>tolls_amount</th>\n      <th>imp_surcharge</th>\n      <th>total_amount</th>\n      <th>pickup_location_id</th>\n      <th>dropoff_location_id</th>\n    </tr>\n  </thead>\n  <tbody>\n    <tr>\n      <th>0</th>\n      <td>2</td>\n      <td>2018-03-29 13:37:13</td>\n      <td>2018-03-29 14:17:01</td>\n      <td>1</td>\n      <td>18.15</td>\n      <td>3</td>\n      <td>N</td>\n      <td>1</td>\n      <td>70.0</td>\n      <td>0.0</td>\n      <td>0.0</td>\n      <td>16.16</td>\n      <td>10.50</td>\n      <td>0.3</td>\n      <td>96.96</td>\n      <td>161</td>\n      <td>1</td>\n    </tr>\n    <tr>\n      <th>1</th>\n      <td>2</td>\n      <td>2018-03-29 13:37:18</td>\n      <td>2018-03-29 14:15:33</td>\n      <td>1</td>\n      <td>4.59</td>\n      <td>1</td>\n      <td>N</td>\n      <td>1</td>\n      <td>25.0</td>\n      <td>0.0</td>\n      <td>0.5</td>\n      <td>5.16</td>\n      <td>0.00</td>\n      <td>0.3</td>\n      <td>30.96</td>\n      <td>13</td>\n      <td>230</td>\n    </tr>\n    <tr>\n      <th>2</th>\n      <td>2</td>\n      <td>2018-03-29 13:26:57</td>\n      <td>2018-03-29 13:28:03</td>\n      <td>1</td>\n      <td>0.30</td>\n      <td>1</td>\n      <td>N</td>\n      <td>1</td>\n      <td>3.0</td>\n      <td>0.0</td>\n      <td>0.5</td>\n      <td>0.76</td>\n      <td>0.00</td>\n      <td>0.3</td>\n      <td>4.56</td>\n      <td>231</td>\n      <td>231</td>\n    </tr>\n    <tr>\n      <th>3</th>\n      <td>2</td>\n      <td>2018-03-29 13:07:48</td>\n      <td>2018-03-29 14:03:05</td>\n      <td>2</td>\n      <td>16.97</td>\n      <td>1</td>\n      <td>N</td>\n      <td>1</td>\n      <td>49.5</td>\n      <td>0.0</td>\n      <td>0.5</td>\n      <td>5.61</td>\n      <td>5.76</td>\n      <td>0.3</td>\n      <td>61.67</td>\n      <td>231</td>\n      <td>138</td>\n    </tr>\n    <tr>\n      <th>4</th>\n      <td>2</td>\n      <td>2018-03-29 14:19:11</td>\n      <td>2018-03-29 15:19:59</td>\n      <td>5</td>\n      <td>14.45</td>\n      <td>1</td>\n      <td>N</td>\n      <td>1</td>\n      <td>45.5</td>\n      <td>0.0</td>\n      <td>0.5</td>\n      <td>10.41</td>\n      <td>5.76</td>\n      <td>0.3</td>\n      <td>62.47</td>\n      <td>87</td>\n      <td>138</td>\n    </tr>\n  </tbody>\n</table>\n</div>"
     },
     "metadata": {},
     "execution_count": 4
    }
   ],
   "source": [
    "kaggle_dataset.head()"
   ]
  },
  {
   "cell_type": "code",
   "execution_count": 7,
   "metadata": {},
   "outputs": [
    {
     "output_type": "execute_result",
     "data": {
      "text/plain": [
       "vendor_id                int64\n",
       "pickup_datetime         object\n",
       "dropoff_datetime        object\n",
       "passenger_count          int64\n",
       "trip_distance          float64\n",
       "rate_code                int64\n",
       "store_and_fwd_flag      object\n",
       "payment_type             int64\n",
       "fare_amount            float64\n",
       "extra                  float64\n",
       "mta_tax                float64\n",
       "tip_amount             float64\n",
       "tolls_amount           float64\n",
       "imp_surcharge          float64\n",
       "total_amount           float64\n",
       "pickup_location_id       int64\n",
       "dropoff_location_id      int64\n",
       "dtype: object"
      ]
     },
     "metadata": {},
     "execution_count": 7
    }
   ],
   "source": [
    "kaggle_dataset.dtypes"
   ]
  },
  {
   "cell_type": "code",
   "execution_count": 4,
   "metadata": {},
   "outputs": [],
   "source": [
    "# read entire dataset (~40gb)\n",
    "nyc_taxi_data_2016_2022 = pd.read_csv('data/nyc_taxi_data_2016_2022.csv')"
   ]
  },
  {
   "cell_type": "code",
   "execution_count": 2,
   "metadata": {},
   "outputs": [],
   "source": [
    "# read random sample of dataset (about 5%)\n",
    "nyc_taxi_data_2016_2022 = pd.read_csv('data/nyc_taxi_data_2016_2022.csv', index_col = 0,header = 0, skiprows = lambda i: i > 0 and random.random() > 0.05)"
   ]
  },
  {
   "cell_type": "code",
   "execution_count": 3,
   "metadata": {},
   "outputs": [
    {
     "output_type": "execute_result",
     "data": {
      "text/plain": [
       "  Unnamed: 0 VendorID tpep_pickup_datetime tpep_dropoff_datetime  \\\n",
       "0          7        1  2022-10-01 00:02:42   2022-10-01 00:50:01   \n",
       "1         19        2  2022-10-01 00:22:29   2022-10-01 00:33:53   \n",
       "2         36        2  2022-10-01 00:24:59   2022-10-01 00:52:10   \n",
       "3         69        2  2022-10-01 00:08:34   2022-10-01 00:25:20   \n",
       "4         73        2  2022-10-01 00:57:39   2022-10-01 01:25:22   \n",
       "\n",
       "  passenger_count trip_distance RatecodeID store_and_fwd_flag PULocationID  \\\n",
       "0             1.0          12.2        1.0                  N          100   \n",
       "1             2.0          1.67        1.0                  N          249   \n",
       "2             1.0          5.68        1.0                  N          163   \n",
       "3             1.0          1.84        1.0                  N          125   \n",
       "4             3.0          9.17        1.0                  N          231   \n",
       "\n",
       "  DOLocationID payment_type fare_amount extra mta_tax tip_amount tolls_amount  \\\n",
       "0           22            1        41.0   3.0     0.5        3.0          0.0   \n",
       "1          224            1         8.5   0.5     0.5       2.46          0.0   \n",
       "2          129            1        22.0   0.5     0.5        5.0          0.0   \n",
       "3           87            1        11.0   0.5     0.5       2.96          0.0   \n",
       "4          198            1        29.5   0.5     0.5       8.32          0.0   \n",
       "\n",
       "  improvement_surcharge total_amount congestion_surcharge airport_fee  \n",
       "0                   0.3         47.8                  2.5         0.0  \n",
       "1                   0.3        14.76                  2.5         0.0  \n",
       "2                   0.3         30.8                  2.5         0.0  \n",
       "3                   0.3        17.76                  2.5         0.0  \n",
       "4                   0.3        41.62                  2.5         0.0  "
      ],
      "text/html": "<div>\n<style scoped>\n    .dataframe tbody tr th:only-of-type {\n        vertical-align: middle;\n    }\n\n    .dataframe tbody tr th {\n        vertical-align: top;\n    }\n\n    .dataframe thead th {\n        text-align: right;\n    }\n</style>\n<table border=\"1\" class=\"dataframe\">\n  <thead>\n    <tr style=\"text-align: right;\">\n      <th></th>\n      <th>Unnamed: 0</th>\n      <th>VendorID</th>\n      <th>tpep_pickup_datetime</th>\n      <th>tpep_dropoff_datetime</th>\n      <th>passenger_count</th>\n      <th>trip_distance</th>\n      <th>RatecodeID</th>\n      <th>store_and_fwd_flag</th>\n      <th>PULocationID</th>\n      <th>DOLocationID</th>\n      <th>payment_type</th>\n      <th>fare_amount</th>\n      <th>extra</th>\n      <th>mta_tax</th>\n      <th>tip_amount</th>\n      <th>tolls_amount</th>\n      <th>improvement_surcharge</th>\n      <th>total_amount</th>\n      <th>congestion_surcharge</th>\n      <th>airport_fee</th>\n    </tr>\n  </thead>\n  <tbody>\n    <tr>\n      <th>0</th>\n      <td>7</td>\n      <td>1</td>\n      <td>2022-10-01 00:02:42</td>\n      <td>2022-10-01 00:50:01</td>\n      <td>1.0</td>\n      <td>12.2</td>\n      <td>1.0</td>\n      <td>N</td>\n      <td>100</td>\n      <td>22</td>\n      <td>1</td>\n      <td>41.0</td>\n      <td>3.0</td>\n      <td>0.5</td>\n      <td>3.0</td>\n      <td>0.0</td>\n      <td>0.3</td>\n      <td>47.8</td>\n      <td>2.5</td>\n      <td>0.0</td>\n    </tr>\n    <tr>\n      <th>1</th>\n      <td>19</td>\n      <td>2</td>\n      <td>2022-10-01 00:22:29</td>\n      <td>2022-10-01 00:33:53</td>\n      <td>2.0</td>\n      <td>1.67</td>\n      <td>1.0</td>\n      <td>N</td>\n      <td>249</td>\n      <td>224</td>\n      <td>1</td>\n      <td>8.5</td>\n      <td>0.5</td>\n      <td>0.5</td>\n      <td>2.46</td>\n      <td>0.0</td>\n      <td>0.3</td>\n      <td>14.76</td>\n      <td>2.5</td>\n      <td>0.0</td>\n    </tr>\n    <tr>\n      <th>2</th>\n      <td>36</td>\n      <td>2</td>\n      <td>2022-10-01 00:24:59</td>\n      <td>2022-10-01 00:52:10</td>\n      <td>1.0</td>\n      <td>5.68</td>\n      <td>1.0</td>\n      <td>N</td>\n      <td>163</td>\n      <td>129</td>\n      <td>1</td>\n      <td>22.0</td>\n      <td>0.5</td>\n      <td>0.5</td>\n      <td>5.0</td>\n      <td>0.0</td>\n      <td>0.3</td>\n      <td>30.8</td>\n      <td>2.5</td>\n      <td>0.0</td>\n    </tr>\n    <tr>\n      <th>3</th>\n      <td>69</td>\n      <td>2</td>\n      <td>2022-10-01 00:08:34</td>\n      <td>2022-10-01 00:25:20</td>\n      <td>1.0</td>\n      <td>1.84</td>\n      <td>1.0</td>\n      <td>N</td>\n      <td>125</td>\n      <td>87</td>\n      <td>1</td>\n      <td>11.0</td>\n      <td>0.5</td>\n      <td>0.5</td>\n      <td>2.96</td>\n      <td>0.0</td>\n      <td>0.3</td>\n      <td>17.76</td>\n      <td>2.5</td>\n      <td>0.0</td>\n    </tr>\n    <tr>\n      <th>4</th>\n      <td>73</td>\n      <td>2</td>\n      <td>2022-10-01 00:57:39</td>\n      <td>2022-10-01 01:25:22</td>\n      <td>3.0</td>\n      <td>9.17</td>\n      <td>1.0</td>\n      <td>N</td>\n      <td>231</td>\n      <td>198</td>\n      <td>1</td>\n      <td>29.5</td>\n      <td>0.5</td>\n      <td>0.5</td>\n      <td>8.32</td>\n      <td>0.0</td>\n      <td>0.3</td>\n      <td>41.62</td>\n      <td>2.5</td>\n      <td>0.0</td>\n    </tr>\n  </tbody>\n</table>\n</div>"
     },
     "metadata": {},
     "execution_count": 3
    }
   ],
   "source": [
    "# read first few tows\n",
    "nyc_taxi_data_2016_2022.head()"
   ]
  },
  {
   "cell_type": "code",
   "execution_count": 31,
   "metadata": {},
   "outputs": [
    {
     "output_type": "execute_result",
     "data": {
      "text/plain": [
       "Unnamed: 0               object\n",
       "VendorID                 object\n",
       "tpep_pickup_datetime     object\n",
       "tpep_dropoff_datetime    object\n",
       "passenger_count          object\n",
       "trip_distance            object\n",
       "RatecodeID               object\n",
       "store_and_fwd_flag       object\n",
       "PULocationID             object\n",
       "DOLocationID             object\n",
       "payment_type             object\n",
       "fare_amount              object\n",
       "extra                    object\n",
       "mta_tax                  object\n",
       "tip_amount               object\n",
       "tolls_amount             object\n",
       "improvement_surcharge    object\n",
       "total_amount             object\n",
       "congestion_surcharge     object\n",
       "airport_fee              object\n",
       "dtype: object"
      ]
     },
     "metadata": {},
     "execution_count": 31
    }
   ],
   "source": [
    "# check datatypes\n",
    "nyc_taxi_data_2016_2022.dtypes"
   ]
  },
  {
   "cell_type": "code",
   "execution_count": 23,
   "metadata": {},
   "outputs": [
    {
     "output_type": "execute_result",
     "data": {
      "text/plain": [
       "DOLocationID             0.0\n",
       "PULocationID             0.0\n",
       "RatecodeID               0.0\n",
       "Unnamed: 0               0.0\n",
       "VendorID                 0.0\n",
       "airport_fee              0.0\n",
       "congestion_surcharge     0.0\n",
       "extra                    0.0\n",
       "fare_amount              0.0\n",
       "improvement_surcharge    0.0\n",
       "mta_tax                  0.0\n",
       "passenger_count          0.0\n",
       "payment_type             0.0\n",
       "store_and_fwd_flag       0.0\n",
       "tip_amount               0.0\n",
       "tolls_amount             0.0\n",
       "total_amount             0.0\n",
       "tpep_dropoff_datetime    0.0\n",
       "tpep_pickup_datetime     0.0\n",
       "trip_distance            0.0\n",
       "dtype: float64"
      ]
     },
     "metadata": {},
     "execution_count": 23
    }
   ],
   "source": [
    "# find null columns\n",
    "nyc_taxi_data_2016_2022.isnull().sum().sort_index()/len(nyc_taxi_data_2016_2022)"
   ]
  },
  {
   "cell_type": "code",
   "execution_count": 40,
   "metadata": {},
   "outputs": [
    {
     "output_type": "execute_result",
     "data": {
      "text/plain": [
       "         Unnamed: 0 VendorID tpep_pickup_datetime tpep_dropoff_datetime  \\\n",
       "0                 7        1  2022-10-01 00:02:42   2022-10-01 00:50:01   \n",
       "1                19        2  2022-10-01 00:22:29   2022-10-01 00:33:53   \n",
       "2                36        2  2022-10-01 00:24:59   2022-10-01 00:52:10   \n",
       "3                69        2  2022-10-01 00:08:34   2022-10-01 00:25:20   \n",
       "4                73        2  2022-10-01 00:57:39   2022-10-01 01:25:22   \n",
       "...             ...      ...                  ...                   ...   \n",
       "3352902     2820920        1  2021-09-30 23:44:36   2021-09-30 23:54:38   \n",
       "3352903     2820928        2  2021-09-30 23:08:51   2021-09-30 23:19:21   \n",
       "3510833        2924        1  2020-12-01 07:50:43   2020-12-01 07:50:58   \n",
       "4109352      182399        1  2020-11-04 23:55:03   2020-11-05 00:00:01   \n",
       "10215033    2788636        1  2018-01-12 00:47:17   2018-01-12 00:55:40   \n",
       "\n",
       "          passenger_count  trip_distance  RatecodeID store_and_fwd_flag  \\\n",
       "0                     1.0          12.20         1.0                  N   \n",
       "1                     2.0           1.67         1.0                  N   \n",
       "2                     1.0           5.68         1.0                  N   \n",
       "3                     1.0           1.84         1.0                  N   \n",
       "4                     3.0           9.17         1.0                  N   \n",
       "...                   ...            ...         ...                ...   \n",
       "3352902               1.0           1.90         1.0                  N   \n",
       "3352903               1.0           2.06         1.0                  N   \n",
       "3510833               1.0           0.10         1.0                  Y   \n",
       "4109352               1.0           1.40         1.0                  Y   \n",
       "10215033              1.0           1.80         1.0                  Y   \n",
       "\n",
       "         PULocationID DOLocationID  payment_type  fare_amount  extra  mta_tax  \\\n",
       "0                 100           22           1.0         41.0    3.0      0.5   \n",
       "1                 249          224           1.0          8.5    0.5      0.5   \n",
       "2                 163          129           1.0         22.0    0.5      0.5   \n",
       "3                 125           87           1.0         11.0    0.5      0.5   \n",
       "4                 231          198           1.0         29.5    0.5      0.5   \n",
       "...               ...          ...           ...          ...    ...      ...   \n",
       "3352902           161          137           2.0          9.0    3.0      0.5   \n",
       "3352903           142          229           1.0          9.5    0.5      0.5   \n",
       "3510833            19           19           3.0          2.5    0.0      0.5   \n",
       "4109352           186          137           1.0          6.5    3.0      0.5   \n",
       "10215033          239           43           1.0          8.5    2.5      0.5   \n",
       "\n",
       "          tip_amount  tolls_amount  improvement_surcharge  total_amount  \\\n",
       "0               3.00           0.0                    0.3         47.80   \n",
       "1               2.46           0.0                    0.3         14.76   \n",
       "2               5.00           0.0                    0.3         30.80   \n",
       "3               2.96           0.0                    0.3         17.76   \n",
       "4               8.32           0.0                    0.3         41.62   \n",
       "...              ...           ...                    ...           ...   \n",
       "3352902         0.00           0.0                    0.3         12.80   \n",
       "3352903         1.25           0.0                    0.3         14.55   \n",
       "3510833         0.00           0.0                    0.3          3.30   \n",
       "4109352         2.00           0.0                    0.3         12.30   \n",
       "10215033        2.35           0.0                    0.3         14.15   \n",
       "\n",
       "          congestion_surcharge  airport_fee  \n",
       "0                          2.5          0.0  \n",
       "1                          2.5          0.0  \n",
       "2                          2.5          0.0  \n",
       "3                          2.5          0.0  \n",
       "4                          2.5          0.0  \n",
       "...                        ...          ...  \n",
       "3352902                    2.5          0.0  \n",
       "3352903                    2.5          0.0  \n",
       "3510833                    0.0          0.0  \n",
       "4109352                    2.5          0.0  \n",
       "10215033                   2.5          0.0  \n",
       "\n",
       "[3015458 rows x 20 columns]"
      ],
      "text/html": "<div>\n<style scoped>\n    .dataframe tbody tr th:only-of-type {\n        vertical-align: middle;\n    }\n\n    .dataframe tbody tr th {\n        vertical-align: top;\n    }\n\n    .dataframe thead th {\n        text-align: right;\n    }\n</style>\n<table border=\"1\" class=\"dataframe\">\n  <thead>\n    <tr style=\"text-align: right;\">\n      <th></th>\n      <th>Unnamed: 0</th>\n      <th>VendorID</th>\n      <th>tpep_pickup_datetime</th>\n      <th>tpep_dropoff_datetime</th>\n      <th>passenger_count</th>\n      <th>trip_distance</th>\n      <th>RatecodeID</th>\n      <th>store_and_fwd_flag</th>\n      <th>PULocationID</th>\n      <th>DOLocationID</th>\n      <th>payment_type</th>\n      <th>fare_amount</th>\n      <th>extra</th>\n      <th>mta_tax</th>\n      <th>tip_amount</th>\n      <th>tolls_amount</th>\n      <th>improvement_surcharge</th>\n      <th>total_amount</th>\n      <th>congestion_surcharge</th>\n      <th>airport_fee</th>\n    </tr>\n  </thead>\n  <tbody>\n    <tr>\n      <th>0</th>\n      <td>7</td>\n      <td>1</td>\n      <td>2022-10-01 00:02:42</td>\n      <td>2022-10-01 00:50:01</td>\n      <td>1.0</td>\n      <td>12.20</td>\n      <td>1.0</td>\n      <td>N</td>\n      <td>100</td>\n      <td>22</td>\n      <td>1.0</td>\n      <td>41.0</td>\n      <td>3.0</td>\n      <td>0.5</td>\n      <td>3.00</td>\n      <td>0.0</td>\n      <td>0.3</td>\n      <td>47.80</td>\n      <td>2.5</td>\n      <td>0.0</td>\n    </tr>\n    <tr>\n      <th>1</th>\n      <td>19</td>\n      <td>2</td>\n      <td>2022-10-01 00:22:29</td>\n      <td>2022-10-01 00:33:53</td>\n      <td>2.0</td>\n      <td>1.67</td>\n      <td>1.0</td>\n      <td>N</td>\n      <td>249</td>\n      <td>224</td>\n      <td>1.0</td>\n      <td>8.5</td>\n      <td>0.5</td>\n      <td>0.5</td>\n      <td>2.46</td>\n      <td>0.0</td>\n      <td>0.3</td>\n      <td>14.76</td>\n      <td>2.5</td>\n      <td>0.0</td>\n    </tr>\n    <tr>\n      <th>2</th>\n      <td>36</td>\n      <td>2</td>\n      <td>2022-10-01 00:24:59</td>\n      <td>2022-10-01 00:52:10</td>\n      <td>1.0</td>\n      <td>5.68</td>\n      <td>1.0</td>\n      <td>N</td>\n      <td>163</td>\n      <td>129</td>\n      <td>1.0</td>\n      <td>22.0</td>\n      <td>0.5</td>\n      <td>0.5</td>\n      <td>5.00</td>\n      <td>0.0</td>\n      <td>0.3</td>\n      <td>30.80</td>\n      <td>2.5</td>\n      <td>0.0</td>\n    </tr>\n    <tr>\n      <th>3</th>\n      <td>69</td>\n      <td>2</td>\n      <td>2022-10-01 00:08:34</td>\n      <td>2022-10-01 00:25:20</td>\n      <td>1.0</td>\n      <td>1.84</td>\n      <td>1.0</td>\n      <td>N</td>\n      <td>125</td>\n      <td>87</td>\n      <td>1.0</td>\n      <td>11.0</td>\n      <td>0.5</td>\n      <td>0.5</td>\n      <td>2.96</td>\n      <td>0.0</td>\n      <td>0.3</td>\n      <td>17.76</td>\n      <td>2.5</td>\n      <td>0.0</td>\n    </tr>\n    <tr>\n      <th>4</th>\n      <td>73</td>\n      <td>2</td>\n      <td>2022-10-01 00:57:39</td>\n      <td>2022-10-01 01:25:22</td>\n      <td>3.0</td>\n      <td>9.17</td>\n      <td>1.0</td>\n      <td>N</td>\n      <td>231</td>\n      <td>198</td>\n      <td>1.0</td>\n      <td>29.5</td>\n      <td>0.5</td>\n      <td>0.5</td>\n      <td>8.32</td>\n      <td>0.0</td>\n      <td>0.3</td>\n      <td>41.62</td>\n      <td>2.5</td>\n      <td>0.0</td>\n    </tr>\n    <tr>\n      <th>...</th>\n      <td>...</td>\n      <td>...</td>\n      <td>...</td>\n      <td>...</td>\n      <td>...</td>\n      <td>...</td>\n      <td>...</td>\n      <td>...</td>\n      <td>...</td>\n      <td>...</td>\n      <td>...</td>\n      <td>...</td>\n      <td>...</td>\n      <td>...</td>\n      <td>...</td>\n      <td>...</td>\n      <td>...</td>\n      <td>...</td>\n      <td>...</td>\n      <td>...</td>\n    </tr>\n    <tr>\n      <th>3352902</th>\n      <td>2820920</td>\n      <td>1</td>\n      <td>2021-09-30 23:44:36</td>\n      <td>2021-09-30 23:54:38</td>\n      <td>1.0</td>\n      <td>1.90</td>\n      <td>1.0</td>\n      <td>N</td>\n      <td>161</td>\n      <td>137</td>\n      <td>2.0</td>\n      <td>9.0</td>\n      <td>3.0</td>\n      <td>0.5</td>\n      <td>0.00</td>\n      <td>0.0</td>\n      <td>0.3</td>\n      <td>12.80</td>\n      <td>2.5</td>\n      <td>0.0</td>\n    </tr>\n    <tr>\n      <th>3352903</th>\n      <td>2820928</td>\n      <td>2</td>\n      <td>2021-09-30 23:08:51</td>\n      <td>2021-09-30 23:19:21</td>\n      <td>1.0</td>\n      <td>2.06</td>\n      <td>1.0</td>\n      <td>N</td>\n      <td>142</td>\n      <td>229</td>\n      <td>1.0</td>\n      <td>9.5</td>\n      <td>0.5</td>\n      <td>0.5</td>\n      <td>1.25</td>\n      <td>0.0</td>\n      <td>0.3</td>\n      <td>14.55</td>\n      <td>2.5</td>\n      <td>0.0</td>\n    </tr>\n    <tr>\n      <th>3510833</th>\n      <td>2924</td>\n      <td>1</td>\n      <td>2020-12-01 07:50:43</td>\n      <td>2020-12-01 07:50:58</td>\n      <td>1.0</td>\n      <td>0.10</td>\n      <td>1.0</td>\n      <td>Y</td>\n      <td>19</td>\n      <td>19</td>\n      <td>3.0</td>\n      <td>2.5</td>\n      <td>0.0</td>\n      <td>0.5</td>\n      <td>0.00</td>\n      <td>0.0</td>\n      <td>0.3</td>\n      <td>3.30</td>\n      <td>0.0</td>\n      <td>0.0</td>\n    </tr>\n    <tr>\n      <th>4109352</th>\n      <td>182399</td>\n      <td>1</td>\n      <td>2020-11-04 23:55:03</td>\n      <td>2020-11-05 00:00:01</td>\n      <td>1.0</td>\n      <td>1.40</td>\n      <td>1.0</td>\n      <td>Y</td>\n      <td>186</td>\n      <td>137</td>\n      <td>1.0</td>\n      <td>6.5</td>\n      <td>3.0</td>\n      <td>0.5</td>\n      <td>2.00</td>\n      <td>0.0</td>\n      <td>0.3</td>\n      <td>12.30</td>\n      <td>2.5</td>\n      <td>0.0</td>\n    </tr>\n    <tr>\n      <th>10215033</th>\n      <td>2788636</td>\n      <td>1</td>\n      <td>2018-01-12 00:47:17</td>\n      <td>2018-01-12 00:55:40</td>\n      <td>1.0</td>\n      <td>1.80</td>\n      <td>1.0</td>\n      <td>Y</td>\n      <td>239</td>\n      <td>43</td>\n      <td>1.0</td>\n      <td>8.5</td>\n      <td>2.5</td>\n      <td>0.5</td>\n      <td>2.35</td>\n      <td>0.0</td>\n      <td>0.3</td>\n      <td>14.15</td>\n      <td>2.5</td>\n      <td>0.0</td>\n    </tr>\n  </tbody>\n</table>\n<p>3015458 rows × 20 columns</p>\n</div>"
     },
     "metadata": {},
     "execution_count": 40
    }
   ],
   "source": [
    "# remove null values, fill missed values with 0\n",
    "nyc_taxi_data_2016_2022.dropna(subset=['RatecodeID', 'airport_fee', 'congestion_surcharge', 'passenger_count', 'store_and_fwd_flag'], inplace = True)\n",
    "nyc_taxi_data_2016_2022.fillna(0)"
   ]
  },
  {
   "cell_type": "code",
   "execution_count": 47,
   "metadata": {},
   "outputs": [
    {
     "output_type": "execute_result",
     "data": {
      "text/plain": [
       "         Unnamed: 0 VendorID tpep_pickup_datetime tpep_dropoff_datetime  \\\n",
       "0                 7        1  2022-10-01 00:02:42   2022-10-01 00:50:01   \n",
       "1                19        2  2022-10-01 00:22:29   2022-10-01 00:33:53   \n",
       "2                36        2  2022-10-01 00:24:59   2022-10-01 00:52:10   \n",
       "3                69        2  2022-10-01 00:08:34   2022-10-01 00:25:20   \n",
       "4                73        2  2022-10-01 00:57:39   2022-10-01 01:25:22   \n",
       "...             ...      ...                  ...                   ...   \n",
       "3352902     2820920        1  2021-09-30 23:44:36   2021-09-30 23:54:38   \n",
       "3352903     2820928        2  2021-09-30 23:08:51   2021-09-30 23:19:21   \n",
       "3510833        2924        1  2020-12-01 07:50:43   2020-12-01 07:50:58   \n",
       "4109352      182399        1  2020-11-04 23:55:03   2020-11-05 00:00:01   \n",
       "10215033    2788636        1  2018-01-12 00:47:17   2018-01-12 00:55:40   \n",
       "\n",
       "          passenger_count  trip_distance  RatecodeID store_and_fwd_flag  \\\n",
       "0                       1          12.20           1                  N   \n",
       "1                       2           1.67           1                  N   \n",
       "2                       1           5.68           1                  N   \n",
       "3                       1           1.84           1                  N   \n",
       "4                       3           9.17           1                  N   \n",
       "...                   ...            ...         ...                ...   \n",
       "3352902                 1           1.90           1                  N   \n",
       "3352903                 1           2.06           1                  N   \n",
       "3510833                 1           0.10           1                  Y   \n",
       "4109352                 1           1.40           1                  Y   \n",
       "10215033                1           1.80           1                  Y   \n",
       "\n",
       "         PULocationID DOLocationID  payment_type  fare_amount  extra  mta_tax  \\\n",
       "0                 100           22             1         41.0    3.0      0.5   \n",
       "1                 249          224             1          8.5    0.5      0.5   \n",
       "2                 163          129             1         22.0    0.5      0.5   \n",
       "3                 125           87             1         11.0    0.5      0.5   \n",
       "4                 231          198             1         29.5    0.5      0.5   \n",
       "...               ...          ...           ...          ...    ...      ...   \n",
       "3352902           161          137             2          9.0    3.0      0.5   \n",
       "3352903           142          229             1          9.5    0.5      0.5   \n",
       "3510833            19           19             3          2.5    0.0      0.5   \n",
       "4109352           186          137             1          6.5    3.0      0.5   \n",
       "10215033          239           43             1          8.5    2.5      0.5   \n",
       "\n",
       "          tip_amount  tolls_amount  improvement_surcharge  total_amount  \\\n",
       "0               3.00           0.0                    0.3         47.80   \n",
       "1               2.46           0.0                    0.3         14.76   \n",
       "2               5.00           0.0                    0.3         30.80   \n",
       "3               2.96           0.0                    0.3         17.76   \n",
       "4               8.32           0.0                    0.3         41.62   \n",
       "...              ...           ...                    ...           ...   \n",
       "3352902         0.00           0.0                    0.3         12.80   \n",
       "3352903         1.25           0.0                    0.3         14.55   \n",
       "3510833         0.00           0.0                    0.3          3.30   \n",
       "4109352         2.00           0.0                    0.3         12.30   \n",
       "10215033        2.35           0.0                    0.3         14.15   \n",
       "\n",
       "          congestion_surcharge  airport_fee  \n",
       "0                          2.5          0.0  \n",
       "1                          2.5          0.0  \n",
       "2                          2.5          0.0  \n",
       "3                          2.5          0.0  \n",
       "4                          2.5          0.0  \n",
       "...                        ...          ...  \n",
       "3352902                    2.5          0.0  \n",
       "3352903                    2.5          0.0  \n",
       "3510833                    0.0          0.0  \n",
       "4109352                    2.5          0.0  \n",
       "10215033                   2.5          0.0  \n",
       "\n",
       "[3015458 rows x 20 columns]"
      ],
      "text/html": "<div>\n<style scoped>\n    .dataframe tbody tr th:only-of-type {\n        vertical-align: middle;\n    }\n\n    .dataframe tbody tr th {\n        vertical-align: top;\n    }\n\n    .dataframe thead th {\n        text-align: right;\n    }\n</style>\n<table border=\"1\" class=\"dataframe\">\n  <thead>\n    <tr style=\"text-align: right;\">\n      <th></th>\n      <th>Unnamed: 0</th>\n      <th>VendorID</th>\n      <th>tpep_pickup_datetime</th>\n      <th>tpep_dropoff_datetime</th>\n      <th>passenger_count</th>\n      <th>trip_distance</th>\n      <th>RatecodeID</th>\n      <th>store_and_fwd_flag</th>\n      <th>PULocationID</th>\n      <th>DOLocationID</th>\n      <th>payment_type</th>\n      <th>fare_amount</th>\n      <th>extra</th>\n      <th>mta_tax</th>\n      <th>tip_amount</th>\n      <th>tolls_amount</th>\n      <th>improvement_surcharge</th>\n      <th>total_amount</th>\n      <th>congestion_surcharge</th>\n      <th>airport_fee</th>\n    </tr>\n  </thead>\n  <tbody>\n    <tr>\n      <th>0</th>\n      <td>7</td>\n      <td>1</td>\n      <td>2022-10-01 00:02:42</td>\n      <td>2022-10-01 00:50:01</td>\n      <td>1</td>\n      <td>12.20</td>\n      <td>1</td>\n      <td>N</td>\n      <td>100</td>\n      <td>22</td>\n      <td>1</td>\n      <td>41.0</td>\n      <td>3.0</td>\n      <td>0.5</td>\n      <td>3.00</td>\n      <td>0.0</td>\n      <td>0.3</td>\n      <td>47.80</td>\n      <td>2.5</td>\n      <td>0.0</td>\n    </tr>\n    <tr>\n      <th>1</th>\n      <td>19</td>\n      <td>2</td>\n      <td>2022-10-01 00:22:29</td>\n      <td>2022-10-01 00:33:53</td>\n      <td>2</td>\n      <td>1.67</td>\n      <td>1</td>\n      <td>N</td>\n      <td>249</td>\n      <td>224</td>\n      <td>1</td>\n      <td>8.5</td>\n      <td>0.5</td>\n      <td>0.5</td>\n      <td>2.46</td>\n      <td>0.0</td>\n      <td>0.3</td>\n      <td>14.76</td>\n      <td>2.5</td>\n      <td>0.0</td>\n    </tr>\n    <tr>\n      <th>2</th>\n      <td>36</td>\n      <td>2</td>\n      <td>2022-10-01 00:24:59</td>\n      <td>2022-10-01 00:52:10</td>\n      <td>1</td>\n      <td>5.68</td>\n      <td>1</td>\n      <td>N</td>\n      <td>163</td>\n      <td>129</td>\n      <td>1</td>\n      <td>22.0</td>\n      <td>0.5</td>\n      <td>0.5</td>\n      <td>5.00</td>\n      <td>0.0</td>\n      <td>0.3</td>\n      <td>30.80</td>\n      <td>2.5</td>\n      <td>0.0</td>\n    </tr>\n    <tr>\n      <th>3</th>\n      <td>69</td>\n      <td>2</td>\n      <td>2022-10-01 00:08:34</td>\n      <td>2022-10-01 00:25:20</td>\n      <td>1</td>\n      <td>1.84</td>\n      <td>1</td>\n      <td>N</td>\n      <td>125</td>\n      <td>87</td>\n      <td>1</td>\n      <td>11.0</td>\n      <td>0.5</td>\n      <td>0.5</td>\n      <td>2.96</td>\n      <td>0.0</td>\n      <td>0.3</td>\n      <td>17.76</td>\n      <td>2.5</td>\n      <td>0.0</td>\n    </tr>\n    <tr>\n      <th>4</th>\n      <td>73</td>\n      <td>2</td>\n      <td>2022-10-01 00:57:39</td>\n      <td>2022-10-01 01:25:22</td>\n      <td>3</td>\n      <td>9.17</td>\n      <td>1</td>\n      <td>N</td>\n      <td>231</td>\n      <td>198</td>\n      <td>1</td>\n      <td>29.5</td>\n      <td>0.5</td>\n      <td>0.5</td>\n      <td>8.32</td>\n      <td>0.0</td>\n      <td>0.3</td>\n      <td>41.62</td>\n      <td>2.5</td>\n      <td>0.0</td>\n    </tr>\n    <tr>\n      <th>...</th>\n      <td>...</td>\n      <td>...</td>\n      <td>...</td>\n      <td>...</td>\n      <td>...</td>\n      <td>...</td>\n      <td>...</td>\n      <td>...</td>\n      <td>...</td>\n      <td>...</td>\n      <td>...</td>\n      <td>...</td>\n      <td>...</td>\n      <td>...</td>\n      <td>...</td>\n      <td>...</td>\n      <td>...</td>\n      <td>...</td>\n      <td>...</td>\n      <td>...</td>\n    </tr>\n    <tr>\n      <th>3352902</th>\n      <td>2820920</td>\n      <td>1</td>\n      <td>2021-09-30 23:44:36</td>\n      <td>2021-09-30 23:54:38</td>\n      <td>1</td>\n      <td>1.90</td>\n      <td>1</td>\n      <td>N</td>\n      <td>161</td>\n      <td>137</td>\n      <td>2</td>\n      <td>9.0</td>\n      <td>3.0</td>\n      <td>0.5</td>\n      <td>0.00</td>\n      <td>0.0</td>\n      <td>0.3</td>\n      <td>12.80</td>\n      <td>2.5</td>\n      <td>0.0</td>\n    </tr>\n    <tr>\n      <th>3352903</th>\n      <td>2820928</td>\n      <td>2</td>\n      <td>2021-09-30 23:08:51</td>\n      <td>2021-09-30 23:19:21</td>\n      <td>1</td>\n      <td>2.06</td>\n      <td>1</td>\n      <td>N</td>\n      <td>142</td>\n      <td>229</td>\n      <td>1</td>\n      <td>9.5</td>\n      <td>0.5</td>\n      <td>0.5</td>\n      <td>1.25</td>\n      <td>0.0</td>\n      <td>0.3</td>\n      <td>14.55</td>\n      <td>2.5</td>\n      <td>0.0</td>\n    </tr>\n    <tr>\n      <th>3510833</th>\n      <td>2924</td>\n      <td>1</td>\n      <td>2020-12-01 07:50:43</td>\n      <td>2020-12-01 07:50:58</td>\n      <td>1</td>\n      <td>0.10</td>\n      <td>1</td>\n      <td>Y</td>\n      <td>19</td>\n      <td>19</td>\n      <td>3</td>\n      <td>2.5</td>\n      <td>0.0</td>\n      <td>0.5</td>\n      <td>0.00</td>\n      <td>0.0</td>\n      <td>0.3</td>\n      <td>3.30</td>\n      <td>0.0</td>\n      <td>0.0</td>\n    </tr>\n    <tr>\n      <th>4109352</th>\n      <td>182399</td>\n      <td>1</td>\n      <td>2020-11-04 23:55:03</td>\n      <td>2020-11-05 00:00:01</td>\n      <td>1</td>\n      <td>1.40</td>\n      <td>1</td>\n      <td>Y</td>\n      <td>186</td>\n      <td>137</td>\n      <td>1</td>\n      <td>6.5</td>\n      <td>3.0</td>\n      <td>0.5</td>\n      <td>2.00</td>\n      <td>0.0</td>\n      <td>0.3</td>\n      <td>12.30</td>\n      <td>2.5</td>\n      <td>0.0</td>\n    </tr>\n    <tr>\n      <th>10215033</th>\n      <td>2788636</td>\n      <td>1</td>\n      <td>2018-01-12 00:47:17</td>\n      <td>2018-01-12 00:55:40</td>\n      <td>1</td>\n      <td>1.80</td>\n      <td>1</td>\n      <td>Y</td>\n      <td>239</td>\n      <td>43</td>\n      <td>1</td>\n      <td>8.5</td>\n      <td>2.5</td>\n      <td>0.5</td>\n      <td>2.35</td>\n      <td>0.0</td>\n      <td>0.3</td>\n      <td>14.15</td>\n      <td>2.5</td>\n      <td>0.0</td>\n    </tr>\n  </tbody>\n</table>\n<p>3015458 rows × 20 columns</p>\n</div>"
     },
     "metadata": {},
     "execution_count": 47
    }
   ],
   "source": [
    "# convert columns to correct datatypes\n",
    "convert_columns_float = {\n",
    "                    'trip_distance': float, \n",
    "                    'fare_amount': float, \n",
    "                    'extra': float, \n",
    "                    'mta_tax': float,\n",
    "                    'tip_amount': float,\n",
    "                    'tolls_amount': float,\n",
    "                    'improvement_surcharge': float,\n",
    "                    'total_amount': float,\n",
    "                    'congestion_surcharge': float,\n",
    "                    'airport_fee': float\n",
    "                    }\n",
    "convert_columns_int = {\n",
    "                    'passenger_count': int,\n",
    "                    'RatecodeID': int, \n",
    "                    'payment_type': int, \n",
    "                     }\n",
    "\n",
    "for column in convert_columns_float.keys():\n",
    "    nyc_taxi_data_2016_2022[column] = pd.to_numeric(nyc_taxi_data_2016_2022[column], errors='coerce')\n",
    "for column in convert_columns_int.keys():\n",
    "    nyc_taxi_data_2016_2022[column] = pd.to_numeric(nyc_taxi_data_2016_2022[column], errors='coerce')\n",
    "nyc_taxi_data_2016_2022.astype(convert_columns)"
   ]
  },
  {
   "cell_type": "code",
   "execution_count": null,
   "metadata": {},
   "outputs": [],
   "source": [
    "# parse dates\n"
   ]
  },
  {
   "cell_type": "code",
   "execution_count": 49,
   "metadata": {},
   "outputs": [
    {
     "output_type": "execute_result",
     "data": {
      "text/plain": [
       "Unnamed: 0                object\n",
       "VendorID                  object\n",
       "tpep_pickup_datetime      object\n",
       "tpep_dropoff_datetime     object\n",
       "passenger_count             int8\n",
       "trip_distance            float64\n",
       "RatecodeID                  int8\n",
       "store_and_fwd_flag        object\n",
       "PULocationID              object\n",
       "DOLocationID              object\n",
       "payment_type                int8\n",
       "fare_amount              float64\n",
       "extra                    float64\n",
       "mta_tax                  float64\n",
       "tip_amount               float64\n",
       "tolls_amount             float64\n",
       "improvement_surcharge    float64\n",
       "total_amount             float64\n",
       "congestion_surcharge     float64\n",
       "airport_fee              float64\n",
       "dtype: object"
      ]
     },
     "metadata": {},
     "execution_count": 49
    }
   ],
   "source": [
    "nyc_taxi_data_2016_2022.dtypes"
   ]
  },
  {
   "cell_type": "code",
   "execution_count": 50,
   "metadata": {},
   "outputs": [
    {
     "output_type": "execute_result",
     "data": {
      "text/plain": [
       "       passenger_count  trip_distance    RatecodeID  payment_type  \\\n",
       "count     3.015458e+06   3.015458e+06  3.015458e+06  3.015458e+06   \n",
       "mean      1.413884e+00   3.347857e+00  1.289313e+00  1.237291e+00   \n",
       "std       9.959265e-01   1.361130e+01  4.647087e+00  4.714343e-01   \n",
       "min       0.000000e+00   0.000000e+00  1.000000e+00  1.000000e+00   \n",
       "25%       1.000000e+00   1.100000e+00  1.000000e+00  1.000000e+00   \n",
       "50%       1.000000e+00   1.830000e+00  1.000000e+00  1.000000e+00   \n",
       "75%       1.000000e+00   3.360000e+00  1.000000e+00  1.000000e+00   \n",
       "max       1.120000e+02   1.461450e+04  9.900000e+01  4.000000e+00   \n",
       "\n",
       "        fare_amount         extra       mta_tax    tip_amount  tolls_amount  \\\n",
       "count  3.015458e+06  3.015458e+06  3.015458e+06  3.015458e+06  3.015458e+06   \n",
       "mean   1.390584e+01  1.038801e+00  4.899913e-01  2.570545e+00  4.681205e-01   \n",
       "std    1.749637e+01  1.248301e+00  8.843853e-02  3.085281e+00  1.873183e+00   \n",
       "min   -8.000000e+02 -4.500000e+00 -5.000000e-01 -9.800000e+01 -3.450000e+01   \n",
       "25%    7.000000e+00  0.000000e+00  5.000000e-01  0.000000e+00  0.000000e+00   \n",
       "50%    1.000000e+01  5.000000e-01  5.000000e-01  2.060000e+00  0.000000e+00   \n",
       "75%    1.550000e+01  2.500000e+00  5.000000e-01  3.200000e+00  0.000000e+00   \n",
       "max    6.989500e+03  1.155000e+01  4.550000e+00  4.000000e+02  1.933000e+02   \n",
       "\n",
       "       improvement_surcharge  total_amount  congestion_surcharge   airport_fee  \n",
       "count           3.015458e+06  3.015458e+06          3.015458e+06  3.015458e+06  \n",
       "mean            2.963994e-01  2.044659e+01          2.287500e+00  8.629618e-02  \n",
       "std             4.592673e-02  2.009847e+01          7.379661e-01  3.195633e-01  \n",
       "min            -3.000000e-01 -7.903000e+02         -2.500000e+00 -1.250000e+00  \n",
       "25%             3.000000e-01  1.180000e+01          2.500000e+00  0.000000e+00  \n",
       "50%             3.000000e-01  1.536000e+01          2.500000e+00  0.000000e+00  \n",
       "75%             3.000000e-01  2.180000e+01          2.500000e+00  0.000000e+00  \n",
       "max             1.000000e+00  7.000600e+03          2.750000e+00  1.250000e+00  "
      ],
      "text/html": "<div>\n<style scoped>\n    .dataframe tbody tr th:only-of-type {\n        vertical-align: middle;\n    }\n\n    .dataframe tbody tr th {\n        vertical-align: top;\n    }\n\n    .dataframe thead th {\n        text-align: right;\n    }\n</style>\n<table border=\"1\" class=\"dataframe\">\n  <thead>\n    <tr style=\"text-align: right;\">\n      <th></th>\n      <th>passenger_count</th>\n      <th>trip_distance</th>\n      <th>RatecodeID</th>\n      <th>payment_type</th>\n      <th>fare_amount</th>\n      <th>extra</th>\n      <th>mta_tax</th>\n      <th>tip_amount</th>\n      <th>tolls_amount</th>\n      <th>improvement_surcharge</th>\n      <th>total_amount</th>\n      <th>congestion_surcharge</th>\n      <th>airport_fee</th>\n    </tr>\n  </thead>\n  <tbody>\n    <tr>\n      <th>count</th>\n      <td>3.015458e+06</td>\n      <td>3.015458e+06</td>\n      <td>3.015458e+06</td>\n      <td>3.015458e+06</td>\n      <td>3.015458e+06</td>\n      <td>3.015458e+06</td>\n      <td>3.015458e+06</td>\n      <td>3.015458e+06</td>\n      <td>3.015458e+06</td>\n      <td>3.015458e+06</td>\n      <td>3.015458e+06</td>\n      <td>3.015458e+06</td>\n      <td>3.015458e+06</td>\n    </tr>\n    <tr>\n      <th>mean</th>\n      <td>1.413884e+00</td>\n      <td>3.347857e+00</td>\n      <td>1.289313e+00</td>\n      <td>1.237291e+00</td>\n      <td>1.390584e+01</td>\n      <td>1.038801e+00</td>\n      <td>4.899913e-01</td>\n      <td>2.570545e+00</td>\n      <td>4.681205e-01</td>\n      <td>2.963994e-01</td>\n      <td>2.044659e+01</td>\n      <td>2.287500e+00</td>\n      <td>8.629618e-02</td>\n    </tr>\n    <tr>\n      <th>std</th>\n      <td>9.959265e-01</td>\n      <td>1.361130e+01</td>\n      <td>4.647087e+00</td>\n      <td>4.714343e-01</td>\n      <td>1.749637e+01</td>\n      <td>1.248301e+00</td>\n      <td>8.843853e-02</td>\n      <td>3.085281e+00</td>\n      <td>1.873183e+00</td>\n      <td>4.592673e-02</td>\n      <td>2.009847e+01</td>\n      <td>7.379661e-01</td>\n      <td>3.195633e-01</td>\n    </tr>\n    <tr>\n      <th>min</th>\n      <td>0.000000e+00</td>\n      <td>0.000000e+00</td>\n      <td>1.000000e+00</td>\n      <td>1.000000e+00</td>\n      <td>-8.000000e+02</td>\n      <td>-4.500000e+00</td>\n      <td>-5.000000e-01</td>\n      <td>-9.800000e+01</td>\n      <td>-3.450000e+01</td>\n      <td>-3.000000e-01</td>\n      <td>-7.903000e+02</td>\n      <td>-2.500000e+00</td>\n      <td>-1.250000e+00</td>\n    </tr>\n    <tr>\n      <th>25%</th>\n      <td>1.000000e+00</td>\n      <td>1.100000e+00</td>\n      <td>1.000000e+00</td>\n      <td>1.000000e+00</td>\n      <td>7.000000e+00</td>\n      <td>0.000000e+00</td>\n      <td>5.000000e-01</td>\n      <td>0.000000e+00</td>\n      <td>0.000000e+00</td>\n      <td>3.000000e-01</td>\n      <td>1.180000e+01</td>\n      <td>2.500000e+00</td>\n      <td>0.000000e+00</td>\n    </tr>\n    <tr>\n      <th>50%</th>\n      <td>1.000000e+00</td>\n      <td>1.830000e+00</td>\n      <td>1.000000e+00</td>\n      <td>1.000000e+00</td>\n      <td>1.000000e+01</td>\n      <td>5.000000e-01</td>\n      <td>5.000000e-01</td>\n      <td>2.060000e+00</td>\n      <td>0.000000e+00</td>\n      <td>3.000000e-01</td>\n      <td>1.536000e+01</td>\n      <td>2.500000e+00</td>\n      <td>0.000000e+00</td>\n    </tr>\n    <tr>\n      <th>75%</th>\n      <td>1.000000e+00</td>\n      <td>3.360000e+00</td>\n      <td>1.000000e+00</td>\n      <td>1.000000e+00</td>\n      <td>1.550000e+01</td>\n      <td>2.500000e+00</td>\n      <td>5.000000e-01</td>\n      <td>3.200000e+00</td>\n      <td>0.000000e+00</td>\n      <td>3.000000e-01</td>\n      <td>2.180000e+01</td>\n      <td>2.500000e+00</td>\n      <td>0.000000e+00</td>\n    </tr>\n    <tr>\n      <th>max</th>\n      <td>1.120000e+02</td>\n      <td>1.461450e+04</td>\n      <td>9.900000e+01</td>\n      <td>4.000000e+00</td>\n      <td>6.989500e+03</td>\n      <td>1.155000e+01</td>\n      <td>4.550000e+00</td>\n      <td>4.000000e+02</td>\n      <td>1.933000e+02</td>\n      <td>1.000000e+00</td>\n      <td>7.000600e+03</td>\n      <td>2.750000e+00</td>\n      <td>1.250000e+00</td>\n    </tr>\n  </tbody>\n</table>\n</div>"
     },
     "metadata": {},
     "execution_count": 50
    }
   ],
   "source": [
    "nyc_taxi_data_2016_2022.describe()"
   ]
  },
  {
   "cell_type": "code",
   "execution_count": null,
   "metadata": {},
   "outputs": [],
   "source": []
  }
 ]
}