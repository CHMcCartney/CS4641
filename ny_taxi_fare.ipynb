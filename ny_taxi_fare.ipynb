{
 "metadata": {
  "language_info": {
   "codemirror_mode": {
    "name": "ipython",
    "version": 3
   },
   "file_extension": ".py",
   "mimetype": "text/x-python",
   "name": "python",
   "nbconvert_exporter": "python",
   "pygments_lexer": "ipython3",
   "version": "3.9.13-final"
  },
  "orig_nbformat": 2,
  "kernelspec": {
   "name": "python3",
   "display_name": "Python 3 (ipykernel)",
   "language": "python"
  }
 },
 "nbformat": 4,
 "nbformat_minor": 2,
 "cells": [
  {
   "cell_type": "code",
   "execution_count": 1,
   "metadata": {},
   "outputs": [],
   "source": [
    "import numpy as np\n",
    "import pandas as pd\n",
    "import matplotlib.pyplot as plt\n",
    "import seaborn as sns\n",
    "import random"
   ]
  },
  {
   "cell_type": "code",
   "execution_count": 6,
   "metadata": {},
   "outputs": [],
   "source": [
    "kaggle_dataset = pd.read_csv('data/taxi_trip_data.csv', nrows = 15_000_000)"
   ]
  },
  {
   "cell_type": "code",
   "execution_count": 4,
   "metadata": {},
   "outputs": [
    {
     "output_type": "execute_result",
     "data": {
      "text/plain": [
       "   vendor_id      pickup_datetime     dropoff_datetime  passenger_count  \\\n",
       "0          2  2018-03-29 13:37:13  2018-03-29 14:17:01                1   \n",
       "1          2  2018-03-29 13:37:18  2018-03-29 14:15:33                1   \n",
       "2          2  2018-03-29 13:26:57  2018-03-29 13:28:03                1   \n",
       "3          2  2018-03-29 13:07:48  2018-03-29 14:03:05                2   \n",
       "4          2  2018-03-29 14:19:11  2018-03-29 15:19:59                5   \n",
       "\n",
       "   trip_distance  rate_code store_and_fwd_flag  payment_type  fare_amount  \\\n",
       "0          18.15          3                  N             1         70.0   \n",
       "1           4.59          1                  N             1         25.0   \n",
       "2           0.30          1                  N             1          3.0   \n",
       "3          16.97          1                  N             1         49.5   \n",
       "4          14.45          1                  N             1         45.5   \n",
       "\n",
       "   extra  mta_tax  tip_amount  tolls_amount  imp_surcharge  total_amount  \\\n",
       "0    0.0      0.0       16.16         10.50            0.3         96.96   \n",
       "1    0.0      0.5        5.16          0.00            0.3         30.96   \n",
       "2    0.0      0.5        0.76          0.00            0.3          4.56   \n",
       "3    0.0      0.5        5.61          5.76            0.3         61.67   \n",
       "4    0.0      0.5       10.41          5.76            0.3         62.47   \n",
       "\n",
       "   pickup_location_id  dropoff_location_id  \n",
       "0                 161                    1  \n",
       "1                  13                  230  \n",
       "2                 231                  231  \n",
       "3                 231                  138  \n",
       "4                  87                  138  "
      ],
      "text/html": "<div>\n<style scoped>\n    .dataframe tbody tr th:only-of-type {\n        vertical-align: middle;\n    }\n\n    .dataframe tbody tr th {\n        vertical-align: top;\n    }\n\n    .dataframe thead th {\n        text-align: right;\n    }\n</style>\n<table border=\"1\" class=\"dataframe\">\n  <thead>\n    <tr style=\"text-align: right;\">\n      <th></th>\n      <th>vendor_id</th>\n      <th>pickup_datetime</th>\n      <th>dropoff_datetime</th>\n      <th>passenger_count</th>\n      <th>trip_distance</th>\n      <th>rate_code</th>\n      <th>store_and_fwd_flag</th>\n      <th>payment_type</th>\n      <th>fare_amount</th>\n      <th>extra</th>\n      <th>mta_tax</th>\n      <th>tip_amount</th>\n      <th>tolls_amount</th>\n      <th>imp_surcharge</th>\n      <th>total_amount</th>\n      <th>pickup_location_id</th>\n      <th>dropoff_location_id</th>\n    </tr>\n  </thead>\n  <tbody>\n    <tr>\n      <th>0</th>\n      <td>2</td>\n      <td>2018-03-29 13:37:13</td>\n      <td>2018-03-29 14:17:01</td>\n      <td>1</td>\n      <td>18.15</td>\n      <td>3</td>\n      <td>N</td>\n      <td>1</td>\n      <td>70.0</td>\n      <td>0.0</td>\n      <td>0.0</td>\n      <td>16.16</td>\n      <td>10.50</td>\n      <td>0.3</td>\n      <td>96.96</td>\n      <td>161</td>\n      <td>1</td>\n    </tr>\n    <tr>\n      <th>1</th>\n      <td>2</td>\n      <td>2018-03-29 13:37:18</td>\n      <td>2018-03-29 14:15:33</td>\n      <td>1</td>\n      <td>4.59</td>\n      <td>1</td>\n      <td>N</td>\n      <td>1</td>\n      <td>25.0</td>\n      <td>0.0</td>\n      <td>0.5</td>\n      <td>5.16</td>\n      <td>0.00</td>\n      <td>0.3</td>\n      <td>30.96</td>\n      <td>13</td>\n      <td>230</td>\n    </tr>\n    <tr>\n      <th>2</th>\n      <td>2</td>\n      <td>2018-03-29 13:26:57</td>\n      <td>2018-03-29 13:28:03</td>\n      <td>1</td>\n      <td>0.30</td>\n      <td>1</td>\n      <td>N</td>\n      <td>1</td>\n      <td>3.0</td>\n      <td>0.0</td>\n      <td>0.5</td>\n      <td>0.76</td>\n      <td>0.00</td>\n      <td>0.3</td>\n      <td>4.56</td>\n      <td>231</td>\n      <td>231</td>\n    </tr>\n    <tr>\n      <th>3</th>\n      <td>2</td>\n      <td>2018-03-29 13:07:48</td>\n      <td>2018-03-29 14:03:05</td>\n      <td>2</td>\n      <td>16.97</td>\n      <td>1</td>\n      <td>N</td>\n      <td>1</td>\n      <td>49.5</td>\n      <td>0.0</td>\n      <td>0.5</td>\n      <td>5.61</td>\n      <td>5.76</td>\n      <td>0.3</td>\n      <td>61.67</td>\n      <td>231</td>\n      <td>138</td>\n    </tr>\n    <tr>\n      <th>4</th>\n      <td>2</td>\n      <td>2018-03-29 14:19:11</td>\n      <td>2018-03-29 15:19:59</td>\n      <td>5</td>\n      <td>14.45</td>\n      <td>1</td>\n      <td>N</td>\n      <td>1</td>\n      <td>45.5</td>\n      <td>0.0</td>\n      <td>0.5</td>\n      <td>10.41</td>\n      <td>5.76</td>\n      <td>0.3</td>\n      <td>62.47</td>\n      <td>87</td>\n      <td>138</td>\n    </tr>\n  </tbody>\n</table>\n</div>"
     },
     "metadata": {},
     "execution_count": 4
    }
   ],
   "source": [
    "kaggle_dataset.head()"
   ]
  },
  {
   "cell_type": "code",
   "execution_count": 7,
   "metadata": {},
   "outputs": [
    {
     "output_type": "execute_result",
     "data": {
      "text/plain": [
       "vendor_id                int64\n",
       "pickup_datetime         object\n",
       "dropoff_datetime        object\n",
       "passenger_count          int64\n",
       "trip_distance          float64\n",
       "rate_code                int64\n",
       "store_and_fwd_flag      object\n",
       "payment_type             int64\n",
       "fare_amount            float64\n",
       "extra                  float64\n",
       "mta_tax                float64\n",
       "tip_amount             float64\n",
       "tolls_amount           float64\n",
       "imp_surcharge          float64\n",
       "total_amount           float64\n",
       "pickup_location_id       int64\n",
       "dropoff_location_id      int64\n",
       "dtype: object"
      ]
     },
     "metadata": {},
     "execution_count": 7
    }
   ],
   "source": [
    "kaggle_dataset.dtypes"
   ]
  },
  {
   "cell_type": "code",
   "execution_count": 59,
   "metadata": {},
   "outputs": [
    {
     "output_type": "error",
     "ename": "KeyboardInterrupt",
     "evalue": "",
     "traceback": [
      "\u001b[0;31m---------------------------------------------------------------------------\u001b[0m",
      "\u001b[0;31mKeyboardInterrupt\u001b[0m                         Traceback (most recent call last)",
      "Cell \u001b[0;32mIn[59], line 2\u001b[0m\n\u001b[1;32m      1\u001b[0m \u001b[38;5;66;03m# read entire dataset (~40gb)\u001b[39;00m\n\u001b[0;32m----> 2\u001b[0m nyc_2016_2022 \u001b[38;5;241m=\u001b[39m \u001b[43mpd\u001b[49m\u001b[38;5;241;43m.\u001b[39;49m\u001b[43mread_csv\u001b[49m\u001b[43m(\u001b[49m\u001b[38;5;124;43m'\u001b[39;49m\u001b[38;5;124;43mdata/nyc_taxi_data_2016_2022.csv\u001b[39;49m\u001b[38;5;124;43m'\u001b[39;49m\u001b[43m)\u001b[49m\n",
      "File \u001b[0;32m~/opt/anaconda3/lib/python3.9/site-packages/pandas/util/_decorators.py:211\u001b[0m, in \u001b[0;36mdeprecate_kwarg.<locals>._deprecate_kwarg.<locals>.wrapper\u001b[0;34m(*args, **kwargs)\u001b[0m\n\u001b[1;32m    209\u001b[0m     \u001b[38;5;28;01melse\u001b[39;00m:\n\u001b[1;32m    210\u001b[0m         kwargs[new_arg_name] \u001b[38;5;241m=\u001b[39m new_arg_value\n\u001b[0;32m--> 211\u001b[0m \u001b[38;5;28;01mreturn\u001b[39;00m \u001b[43mfunc\u001b[49m\u001b[43m(\u001b[49m\u001b[38;5;241;43m*\u001b[39;49m\u001b[43margs\u001b[49m\u001b[43m,\u001b[49m\u001b[43m \u001b[49m\u001b[38;5;241;43m*\u001b[39;49m\u001b[38;5;241;43m*\u001b[39;49m\u001b[43mkwargs\u001b[49m\u001b[43m)\u001b[49m\n",
      "File \u001b[0;32m~/opt/anaconda3/lib/python3.9/site-packages/pandas/util/_decorators.py:331\u001b[0m, in \u001b[0;36mdeprecate_nonkeyword_arguments.<locals>.decorate.<locals>.wrapper\u001b[0;34m(*args, **kwargs)\u001b[0m\n\u001b[1;32m    325\u001b[0m \u001b[38;5;28;01mif\u001b[39;00m \u001b[38;5;28mlen\u001b[39m(args) \u001b[38;5;241m>\u001b[39m num_allow_args:\n\u001b[1;32m    326\u001b[0m     warnings\u001b[38;5;241m.\u001b[39mwarn(\n\u001b[1;32m    327\u001b[0m         msg\u001b[38;5;241m.\u001b[39mformat(arguments\u001b[38;5;241m=\u001b[39m_format_argument_list(allow_args)),\n\u001b[1;32m    328\u001b[0m         \u001b[38;5;167;01mFutureWarning\u001b[39;00m,\n\u001b[1;32m    329\u001b[0m         stacklevel\u001b[38;5;241m=\u001b[39mfind_stack_level(),\n\u001b[1;32m    330\u001b[0m     )\n\u001b[0;32m--> 331\u001b[0m \u001b[38;5;28;01mreturn\u001b[39;00m \u001b[43mfunc\u001b[49m\u001b[43m(\u001b[49m\u001b[38;5;241;43m*\u001b[39;49m\u001b[43margs\u001b[49m\u001b[43m,\u001b[49m\u001b[43m \u001b[49m\u001b[38;5;241;43m*\u001b[39;49m\u001b[38;5;241;43m*\u001b[39;49m\u001b[43mkwargs\u001b[49m\u001b[43m)\u001b[49m\n",
      "File \u001b[0;32m~/opt/anaconda3/lib/python3.9/site-packages/pandas/io/parsers/readers.py:950\u001b[0m, in \u001b[0;36mread_csv\u001b[0;34m(filepath_or_buffer, sep, delimiter, header, names, index_col, usecols, squeeze, prefix, mangle_dupe_cols, dtype, engine, converters, true_values, false_values, skipinitialspace, skiprows, skipfooter, nrows, na_values, keep_default_na, na_filter, verbose, skip_blank_lines, parse_dates, infer_datetime_format, keep_date_col, date_parser, dayfirst, cache_dates, iterator, chunksize, compression, thousands, decimal, lineterminator, quotechar, quoting, doublequote, escapechar, comment, encoding, encoding_errors, dialect, error_bad_lines, warn_bad_lines, on_bad_lines, delim_whitespace, low_memory, memory_map, float_precision, storage_options)\u001b[0m\n\u001b[1;32m    935\u001b[0m kwds_defaults \u001b[38;5;241m=\u001b[39m _refine_defaults_read(\n\u001b[1;32m    936\u001b[0m     dialect,\n\u001b[1;32m    937\u001b[0m     delimiter,\n\u001b[0;32m   (...)\u001b[0m\n\u001b[1;32m    946\u001b[0m     defaults\u001b[38;5;241m=\u001b[39m{\u001b[38;5;124m\"\u001b[39m\u001b[38;5;124mdelimiter\u001b[39m\u001b[38;5;124m\"\u001b[39m: \u001b[38;5;124m\"\u001b[39m\u001b[38;5;124m,\u001b[39m\u001b[38;5;124m\"\u001b[39m},\n\u001b[1;32m    947\u001b[0m )\n\u001b[1;32m    948\u001b[0m kwds\u001b[38;5;241m.\u001b[39mupdate(kwds_defaults)\n\u001b[0;32m--> 950\u001b[0m \u001b[38;5;28;01mreturn\u001b[39;00m \u001b[43m_read\u001b[49m\u001b[43m(\u001b[49m\u001b[43mfilepath_or_buffer\u001b[49m\u001b[43m,\u001b[49m\u001b[43m \u001b[49m\u001b[43mkwds\u001b[49m\u001b[43m)\u001b[49m\n",
      "File \u001b[0;32m~/opt/anaconda3/lib/python3.9/site-packages/pandas/io/parsers/readers.py:611\u001b[0m, in \u001b[0;36m_read\u001b[0;34m(filepath_or_buffer, kwds)\u001b[0m\n\u001b[1;32m    608\u001b[0m     \u001b[38;5;28;01mreturn\u001b[39;00m parser\n\u001b[1;32m    610\u001b[0m \u001b[38;5;28;01mwith\u001b[39;00m parser:\n\u001b[0;32m--> 611\u001b[0m     \u001b[38;5;28;01mreturn\u001b[39;00m \u001b[43mparser\u001b[49m\u001b[38;5;241;43m.\u001b[39;49m\u001b[43mread\u001b[49m\u001b[43m(\u001b[49m\u001b[43mnrows\u001b[49m\u001b[43m)\u001b[49m\n",
      "File \u001b[0;32m~/opt/anaconda3/lib/python3.9/site-packages/pandas/io/parsers/readers.py:1778\u001b[0m, in \u001b[0;36mTextFileReader.read\u001b[0;34m(self, nrows)\u001b[0m\n\u001b[1;32m   1771\u001b[0m nrows \u001b[38;5;241m=\u001b[39m validate_integer(\u001b[38;5;124m\"\u001b[39m\u001b[38;5;124mnrows\u001b[39m\u001b[38;5;124m\"\u001b[39m, nrows)\n\u001b[1;32m   1772\u001b[0m \u001b[38;5;28;01mtry\u001b[39;00m:\n\u001b[1;32m   1773\u001b[0m     \u001b[38;5;66;03m# error: \"ParserBase\" has no attribute \"read\"\u001b[39;00m\n\u001b[1;32m   1774\u001b[0m     (\n\u001b[1;32m   1775\u001b[0m         index,\n\u001b[1;32m   1776\u001b[0m         columns,\n\u001b[1;32m   1777\u001b[0m         col_dict,\n\u001b[0;32m-> 1778\u001b[0m     ) \u001b[38;5;241m=\u001b[39m \u001b[38;5;28;43mself\u001b[39;49m\u001b[38;5;241;43m.\u001b[39;49m\u001b[43m_engine\u001b[49m\u001b[38;5;241;43m.\u001b[39;49m\u001b[43mread\u001b[49m\u001b[43m(\u001b[49m\u001b[43m  \u001b[49m\u001b[38;5;66;43;03m# type: ignore[attr-defined]\u001b[39;49;00m\n\u001b[1;32m   1779\u001b[0m \u001b[43m        \u001b[49m\u001b[43mnrows\u001b[49m\n\u001b[1;32m   1780\u001b[0m \u001b[43m    \u001b[49m\u001b[43m)\u001b[49m\n\u001b[1;32m   1781\u001b[0m \u001b[38;5;28;01mexcept\u001b[39;00m \u001b[38;5;167;01mException\u001b[39;00m:\n\u001b[1;32m   1782\u001b[0m     \u001b[38;5;28mself\u001b[39m\u001b[38;5;241m.\u001b[39mclose()\n",
      "File \u001b[0;32m~/opt/anaconda3/lib/python3.9/site-packages/pandas/io/parsers/c_parser_wrapper.py:230\u001b[0m, in \u001b[0;36mCParserWrapper.read\u001b[0;34m(self, nrows)\u001b[0m\n\u001b[1;32m    228\u001b[0m \u001b[38;5;28;01mtry\u001b[39;00m:\n\u001b[1;32m    229\u001b[0m     \u001b[38;5;28;01mif\u001b[39;00m \u001b[38;5;28mself\u001b[39m\u001b[38;5;241m.\u001b[39mlow_memory:\n\u001b[0;32m--> 230\u001b[0m         chunks \u001b[38;5;241m=\u001b[39m \u001b[38;5;28;43mself\u001b[39;49m\u001b[38;5;241;43m.\u001b[39;49m\u001b[43m_reader\u001b[49m\u001b[38;5;241;43m.\u001b[39;49m\u001b[43mread_low_memory\u001b[49m\u001b[43m(\u001b[49m\u001b[43mnrows\u001b[49m\u001b[43m)\u001b[49m\n\u001b[1;32m    231\u001b[0m         \u001b[38;5;66;03m# destructive to chunks\u001b[39;00m\n\u001b[1;32m    232\u001b[0m         data \u001b[38;5;241m=\u001b[39m _concatenate_chunks(chunks)\n",
      "File \u001b[0;32m~/opt/anaconda3/lib/python3.9/site-packages/pandas/_libs/parsers.pyx:808\u001b[0m, in \u001b[0;36mpandas._libs.parsers.TextReader.read_low_memory\u001b[0;34m()\u001b[0m\n",
      "File \u001b[0;32m~/opt/anaconda3/lib/python3.9/site-packages/pandas/_libs/parsers.pyx:890\u001b[0m, in \u001b[0;36mpandas._libs.parsers.TextReader._read_rows\u001b[0;34m()\u001b[0m\n",
      "File \u001b[0;32m~/opt/anaconda3/lib/python3.9/site-packages/pandas/_libs/parsers.pyx:1037\u001b[0m, in \u001b[0;36mpandas._libs.parsers.TextReader._convert_column_data\u001b[0;34m()\u001b[0m\n",
      "File \u001b[0;32m~/opt/anaconda3/lib/python3.9/site-packages/pandas/_libs/parsers.pyx:1083\u001b[0m, in \u001b[0;36mpandas._libs.parsers.TextReader._convert_tokens\u001b[0;34m()\u001b[0m\n",
      "File \u001b[0;32m~/opt/anaconda3/lib/python3.9/site-packages/pandas/_libs/parsers.pyx:1158\u001b[0m, in \u001b[0;36mpandas._libs.parsers.TextReader._convert_with_dtype\u001b[0;34m()\u001b[0m\n",
      "File \u001b[0;32m~/opt/anaconda3/lib/python3.9/site-packages/pandas/core/dtypes/common.py:1433\u001b[0m, in \u001b[0;36mis_extension_array_dtype\u001b[0;34m(arr_or_dtype)\u001b[0m\n\u001b[1;32m   1424\u001b[0m     \u001b[38;5;66;03m# Note: if other EA dtypes are ever held in HybridBlock, exclude those\u001b[39;00m\n\u001b[1;32m   1425\u001b[0m     \u001b[38;5;66;03m#  here too.\u001b[39;00m\n\u001b[1;32m   1426\u001b[0m     \u001b[38;5;66;03m# NB: need to check DatetimeTZDtype and not is_datetime64tz_dtype\u001b[39;00m\n\u001b[1;32m   1427\u001b[0m     \u001b[38;5;66;03m#  to exclude ArrowTimestampUSDtype\u001b[39;00m\n\u001b[1;32m   1428\u001b[0m     \u001b[38;5;28;01mreturn\u001b[39;00m \u001b[38;5;28misinstance\u001b[39m(dtype, ExtensionDtype) \u001b[38;5;129;01mand\u001b[39;00m \u001b[38;5;129;01mnot\u001b[39;00m \u001b[38;5;28misinstance\u001b[39m(\n\u001b[1;32m   1429\u001b[0m         dtype, (DatetimeTZDtype, PeriodDtype)\n\u001b[1;32m   1430\u001b[0m     )\n\u001b[0;32m-> 1433\u001b[0m \u001b[38;5;28;01mdef\u001b[39;00m \u001b[38;5;21mis_extension_array_dtype\u001b[39m(arr_or_dtype) \u001b[38;5;241m-\u001b[39m\u001b[38;5;241m>\u001b[39m \u001b[38;5;28mbool\u001b[39m:\n\u001b[1;32m   1434\u001b[0m     \u001b[38;5;124;03m\"\"\"\u001b[39;00m\n\u001b[1;32m   1435\u001b[0m \u001b[38;5;124;03m    Check if an object is a pandas extension array type.\u001b[39;00m\n\u001b[1;32m   1436\u001b[0m \n\u001b[0;32m   (...)\u001b[0m\n\u001b[1;32m   1476\u001b[0m \u001b[38;5;124;03m    False\u001b[39;00m\n\u001b[1;32m   1477\u001b[0m \u001b[38;5;124;03m    \"\"\"\u001b[39;00m\n\u001b[1;32m   1478\u001b[0m     dtype \u001b[38;5;241m=\u001b[39m \u001b[38;5;28mgetattr\u001b[39m(arr_or_dtype, \u001b[38;5;124m\"\u001b[39m\u001b[38;5;124mdtype\u001b[39m\u001b[38;5;124m\"\u001b[39m, arr_or_dtype)\n",
      "\u001b[0;31mKeyboardInterrupt\u001b[0m: "
     ]
    }
   ],
   "source": [
    "# read entire dataset (~40gb)\n",
    "nyc_2016_2022 = pd.read_csv('data/nyc_taxi_data_2016_2022.csv')"
   ]
  },
  {
   "cell_type": "code",
   "execution_count": 2,
   "metadata": {},
   "outputs": [],
   "source": [
    "# read random sample of dataset (about 5%)\n",
    "nyc_2016_2022 = pd.read_csv('data/nyc_taxi_data_2016_2022.csv', index_col = 0, header = 0, skiprows = lambda i: i > 0 and random.random() > 0.05)"
   ]
  },
  {
   "cell_type": "code",
   "execution_count": 3,
   "metadata": {},
   "outputs": [
    {
     "output_type": "execute_result",
     "data": {
      "text/plain": [
       "           VendorID tpep_pickup_datetime tpep_dropoff_datetime  \\\n",
       "Unnamed: 0                                                       \n",
       "31                2  2022-10-01 00:07:50   2022-10-01 00:41:31   \n",
       "84                2  2022-10-01 00:12:08   2022-10-01 00:22:04   \n",
       "111               2  2022-10-01 00:29:57   2022-10-01 00:34:37   \n",
       "142               2  2022-10-01 00:28:58   2022-10-01 00:41:32   \n",
       "147               2  2022-10-01 00:07:41   2022-10-01 00:14:36   \n",
       "\n",
       "           passenger_count trip_distance RatecodeID store_and_fwd_flag  \\\n",
       "Unnamed: 0                                                               \n",
       "31                     1.0          5.57        1.0                  N   \n",
       "84                     3.0          1.29        1.0                  N   \n",
       "111                    1.0          0.31        1.0                  N   \n",
       "142                    2.0          2.02        1.0                  N   \n",
       "147                    1.0          1.22        1.0                  N   \n",
       "\n",
       "           PULocationID DOLocationID payment_type fare_amount extra mta_tax  \\\n",
       "Unnamed: 0                                                                    \n",
       "31                  234            7            1        24.5   0.5     0.5   \n",
       "84                  144          234            1         8.0   0.5     0.5   \n",
       "111                 264           79            4         4.5   0.5     0.5   \n",
       "142                 148          170            1        10.0   0.5     0.5   \n",
       "147                 249          125            1         6.5   0.5     0.5   \n",
       "\n",
       "           tip_amount tolls_amount improvement_surcharge total_amount  \\\n",
       "Unnamed: 0                                                              \n",
       "31                0.0          0.0                   0.3         28.3   \n",
       "84               2.36          0.0                   0.3        14.16   \n",
       "111               0.0          0.0                   0.3          8.3   \n",
       "142               2.0          0.0                   0.3         15.8   \n",
       "147              2.06          0.0                   0.3        12.36   \n",
       "\n",
       "           congestion_surcharge airport_fee  \n",
       "Unnamed: 0                                   \n",
       "31                          2.5         0.0  \n",
       "84                          2.5         0.0  \n",
       "111                         2.5         0.0  \n",
       "142                         2.5         0.0  \n",
       "147                         2.5         0.0  "
      ],
      "text/html": "<div>\n<style scoped>\n    .dataframe tbody tr th:only-of-type {\n        vertical-align: middle;\n    }\n\n    .dataframe tbody tr th {\n        vertical-align: top;\n    }\n\n    .dataframe thead th {\n        text-align: right;\n    }\n</style>\n<table border=\"1\" class=\"dataframe\">\n  <thead>\n    <tr style=\"text-align: right;\">\n      <th></th>\n      <th>VendorID</th>\n      <th>tpep_pickup_datetime</th>\n      <th>tpep_dropoff_datetime</th>\n      <th>passenger_count</th>\n      <th>trip_distance</th>\n      <th>RatecodeID</th>\n      <th>store_and_fwd_flag</th>\n      <th>PULocationID</th>\n      <th>DOLocationID</th>\n      <th>payment_type</th>\n      <th>fare_amount</th>\n      <th>extra</th>\n      <th>mta_tax</th>\n      <th>tip_amount</th>\n      <th>tolls_amount</th>\n      <th>improvement_surcharge</th>\n      <th>total_amount</th>\n      <th>congestion_surcharge</th>\n      <th>airport_fee</th>\n    </tr>\n    <tr>\n      <th>Unnamed: 0</th>\n      <th></th>\n      <th></th>\n      <th></th>\n      <th></th>\n      <th></th>\n      <th></th>\n      <th></th>\n      <th></th>\n      <th></th>\n      <th></th>\n      <th></th>\n      <th></th>\n      <th></th>\n      <th></th>\n      <th></th>\n      <th></th>\n      <th></th>\n      <th></th>\n      <th></th>\n    </tr>\n  </thead>\n  <tbody>\n    <tr>\n      <th>31</th>\n      <td>2</td>\n      <td>2022-10-01 00:07:50</td>\n      <td>2022-10-01 00:41:31</td>\n      <td>1.0</td>\n      <td>5.57</td>\n      <td>1.0</td>\n      <td>N</td>\n      <td>234</td>\n      <td>7</td>\n      <td>1</td>\n      <td>24.5</td>\n      <td>0.5</td>\n      <td>0.5</td>\n      <td>0.0</td>\n      <td>0.0</td>\n      <td>0.3</td>\n      <td>28.3</td>\n      <td>2.5</td>\n      <td>0.0</td>\n    </tr>\n    <tr>\n      <th>84</th>\n      <td>2</td>\n      <td>2022-10-01 00:12:08</td>\n      <td>2022-10-01 00:22:04</td>\n      <td>3.0</td>\n      <td>1.29</td>\n      <td>1.0</td>\n      <td>N</td>\n      <td>144</td>\n      <td>234</td>\n      <td>1</td>\n      <td>8.0</td>\n      <td>0.5</td>\n      <td>0.5</td>\n      <td>2.36</td>\n      <td>0.0</td>\n      <td>0.3</td>\n      <td>14.16</td>\n      <td>2.5</td>\n      <td>0.0</td>\n    </tr>\n    <tr>\n      <th>111</th>\n      <td>2</td>\n      <td>2022-10-01 00:29:57</td>\n      <td>2022-10-01 00:34:37</td>\n      <td>1.0</td>\n      <td>0.31</td>\n      <td>1.0</td>\n      <td>N</td>\n      <td>264</td>\n      <td>79</td>\n      <td>4</td>\n      <td>4.5</td>\n      <td>0.5</td>\n      <td>0.5</td>\n      <td>0.0</td>\n      <td>0.0</td>\n      <td>0.3</td>\n      <td>8.3</td>\n      <td>2.5</td>\n      <td>0.0</td>\n    </tr>\n    <tr>\n      <th>142</th>\n      <td>2</td>\n      <td>2022-10-01 00:28:58</td>\n      <td>2022-10-01 00:41:32</td>\n      <td>2.0</td>\n      <td>2.02</td>\n      <td>1.0</td>\n      <td>N</td>\n      <td>148</td>\n      <td>170</td>\n      <td>1</td>\n      <td>10.0</td>\n      <td>0.5</td>\n      <td>0.5</td>\n      <td>2.0</td>\n      <td>0.0</td>\n      <td>0.3</td>\n      <td>15.8</td>\n      <td>2.5</td>\n      <td>0.0</td>\n    </tr>\n    <tr>\n      <th>147</th>\n      <td>2</td>\n      <td>2022-10-01 00:07:41</td>\n      <td>2022-10-01 00:14:36</td>\n      <td>1.0</td>\n      <td>1.22</td>\n      <td>1.0</td>\n      <td>N</td>\n      <td>249</td>\n      <td>125</td>\n      <td>1</td>\n      <td>6.5</td>\n      <td>0.5</td>\n      <td>0.5</td>\n      <td>2.06</td>\n      <td>0.0</td>\n      <td>0.3</td>\n      <td>12.36</td>\n      <td>2.5</td>\n      <td>0.0</td>\n    </tr>\n  </tbody>\n</table>\n</div>"
     },
     "metadata": {},
     "execution_count": 3
    }
   ],
   "source": [
    "# read first few tows\n",
    "nyc_2016_2022.head()"
   ]
  },
  {
   "cell_type": "code",
   "execution_count": 4,
   "metadata": {},
   "outputs": [
    {
     "output_type": "execute_result",
     "data": {
      "text/plain": [
       "VendorID                 object\n",
       "tpep_pickup_datetime     object\n",
       "tpep_dropoff_datetime    object\n",
       "passenger_count          object\n",
       "trip_distance            object\n",
       "RatecodeID               object\n",
       "store_and_fwd_flag       object\n",
       "PULocationID             object\n",
       "DOLocationID             object\n",
       "payment_type             object\n",
       "fare_amount              object\n",
       "extra                    object\n",
       "mta_tax                  object\n",
       "tip_amount               object\n",
       "tolls_amount             object\n",
       "improvement_surcharge    object\n",
       "total_amount             object\n",
       "congestion_surcharge     object\n",
       "airport_fee              object\n",
       "dtype: object"
      ]
     },
     "metadata": {},
     "execution_count": 4
    }
   ],
   "source": [
    "# check datatypes\n",
    "nyc_2016_2022.dtypes"
   ]
  },
  {
   "cell_type": "code",
   "execution_count": 5,
   "metadata": {},
   "outputs": [
    {
     "output_type": "execute_result",
     "data": {
      "text/plain": [
       "DOLocationID             0.000000\n",
       "PULocationID             0.000000\n",
       "RatecodeID               0.009899\n",
       "VendorID                 0.000000\n",
       "airport_fee              0.851940\n",
       "congestion_surcharge     0.588409\n",
       "extra                    0.000000\n",
       "fare_amount              0.000000\n",
       "improvement_surcharge    0.000000\n",
       "mta_tax                  0.000000\n",
       "passenger_count          0.009899\n",
       "payment_type             0.000000\n",
       "store_and_fwd_flag       0.009899\n",
       "tip_amount               0.000000\n",
       "tolls_amount             0.000000\n",
       "total_amount             0.000000\n",
       "tpep_dropoff_datetime    0.000000\n",
       "tpep_pickup_datetime     0.000000\n",
       "trip_distance            0.000000\n",
       "dtype: float64"
      ]
     },
     "metadata": {},
     "execution_count": 5
    }
   ],
   "source": [
    "# find null columns\n",
    "nyc_2016_2022.isnull().sum().sort_index()/len(nyc_2016_2022)"
   ]
  },
  {
   "cell_type": "code",
   "execution_count": 9,
   "metadata": {},
   "outputs": [
    {
     "output_type": "execute_result",
     "data": {
      "text/plain": [
       "           VendorID tpep_pickup_datetime tpep_dropoff_datetime  \\\n",
       "Unnamed: 0                                                       \n",
       "31                2  2022-10-01 00:07:50   2022-10-01 00:41:31   \n",
       "84                2  2022-10-01 00:12:08   2022-10-01 00:22:04   \n",
       "111               2  2022-10-01 00:29:57   2022-10-01 00:34:37   \n",
       "142               2  2022-10-01 00:28:58   2022-10-01 00:41:32   \n",
       "147               2  2022-10-01 00:07:41   2022-10-01 00:14:36   \n",
       "...             ...                  ...                   ...   \n",
       "2820800           2  2021-09-30 23:53:49   2021-09-30 23:57:17   \n",
       "2820817           2  2021-09-30 23:58:45   2021-10-01 00:01:57   \n",
       "2820848           2  2021-09-30 23:30:23   2021-09-30 23:52:10   \n",
       "2820855           2  2021-09-30 23:52:28   2021-09-30 23:58:56   \n",
       "2820938           2  2021-09-30 23:50:07   2021-10-01 00:03:23   \n",
       "\n",
       "            passenger_count  trip_distance  RatecodeID store_and_fwd_flag  \\\n",
       "Unnamed: 0                                                                  \n",
       "31                      1.0           5.57         1.0                  N   \n",
       "84                      3.0           1.29         1.0                  N   \n",
       "111                     1.0           0.31         1.0                  N   \n",
       "142                     2.0           2.02         1.0                  N   \n",
       "147                     1.0           1.22         1.0                  N   \n",
       "...                     ...            ...         ...                ...   \n",
       "2820800                 3.0           1.08         1.0                  N   \n",
       "2820817                 1.0           1.29         1.0                  N   \n",
       "2820848                 1.0           9.36         1.0                  N   \n",
       "2820855                 1.0           1.77         1.0                  N   \n",
       "2820938                 1.0           8.90         1.0                  N   \n",
       "\n",
       "            PULocationID  DOLocationID  payment_type  fare_amount  extra  \\\n",
       "Unnamed: 0                                                                 \n",
       "31                 234.0           7.0           1.0         24.5    0.5   \n",
       "84                 144.0         234.0           1.0          8.0    0.5   \n",
       "111                264.0          79.0           4.0          4.5    0.5   \n",
       "142                148.0         170.0           1.0         10.0    0.5   \n",
       "147                249.0         125.0           1.0          6.5    0.5   \n",
       "...                  ...           ...           ...          ...    ...   \n",
       "2820800             68.0          68.0           1.0          5.0    0.5   \n",
       "2820817             68.0          48.0           1.0          5.5    0.5   \n",
       "2820848            230.0         243.0           1.0         27.5    0.5   \n",
       "2820855             79.0         170.0           2.0          7.5    0.5   \n",
       "2820938            132.0          39.0           2.0         25.0    0.5   \n",
       "\n",
       "            mta_tax  tip_amount  tolls_amount  improvement_surcharge  \\\n",
       "Unnamed: 0                                                             \n",
       "31              0.5        0.00           0.0                    0.3   \n",
       "84              0.5        2.36           0.0                    0.3   \n",
       "111             0.5        0.00           0.0                    0.3   \n",
       "142             0.5        2.00           0.0                    0.3   \n",
       "147             0.5        2.06           0.0                    0.3   \n",
       "...             ...         ...           ...                    ...   \n",
       "2820800         0.5        2.00           0.0                    0.3   \n",
       "2820817         0.5        1.86           0.0                    0.3   \n",
       "2820848         0.5        6.26           0.0                    0.3   \n",
       "2820855         0.5        0.00           0.0                    0.3   \n",
       "2820938         0.5        0.00           0.0                    0.3   \n",
       "\n",
       "            total_amount  congestion_surcharge  airport_fee  \n",
       "Unnamed: 0                                                   \n",
       "31                 28.30                   2.5         0.00  \n",
       "84                 14.16                   2.5         0.00  \n",
       "111                 8.30                   2.5         0.00  \n",
       "142                15.80                   2.5         0.00  \n",
       "147                12.36                   2.5         0.00  \n",
       "...                  ...                   ...          ...  \n",
       "2820800            10.80                   2.5         0.00  \n",
       "2820817            11.16                   2.5         0.00  \n",
       "2820848            37.56                   2.5         0.00  \n",
       "2820855            11.30                   2.5         0.00  \n",
       "2820938            27.55                   0.0         1.25  \n",
       "\n",
       "[3013317 rows x 19 columns]"
      ],
      "text/html": "<div>\n<style scoped>\n    .dataframe tbody tr th:only-of-type {\n        vertical-align: middle;\n    }\n\n    .dataframe tbody tr th {\n        vertical-align: top;\n    }\n\n    .dataframe thead th {\n        text-align: right;\n    }\n</style>\n<table border=\"1\" class=\"dataframe\">\n  <thead>\n    <tr style=\"text-align: right;\">\n      <th></th>\n      <th>VendorID</th>\n      <th>tpep_pickup_datetime</th>\n      <th>tpep_dropoff_datetime</th>\n      <th>passenger_count</th>\n      <th>trip_distance</th>\n      <th>RatecodeID</th>\n      <th>store_and_fwd_flag</th>\n      <th>PULocationID</th>\n      <th>DOLocationID</th>\n      <th>payment_type</th>\n      <th>fare_amount</th>\n      <th>extra</th>\n      <th>mta_tax</th>\n      <th>tip_amount</th>\n      <th>tolls_amount</th>\n      <th>improvement_surcharge</th>\n      <th>total_amount</th>\n      <th>congestion_surcharge</th>\n      <th>airport_fee</th>\n    </tr>\n    <tr>\n      <th>Unnamed: 0</th>\n      <th></th>\n      <th></th>\n      <th></th>\n      <th></th>\n      <th></th>\n      <th></th>\n      <th></th>\n      <th></th>\n      <th></th>\n      <th></th>\n      <th></th>\n      <th></th>\n      <th></th>\n      <th></th>\n      <th></th>\n      <th></th>\n      <th></th>\n      <th></th>\n      <th></th>\n    </tr>\n  </thead>\n  <tbody>\n    <tr>\n      <th>31</th>\n      <td>2</td>\n      <td>2022-10-01 00:07:50</td>\n      <td>2022-10-01 00:41:31</td>\n      <td>1.0</td>\n      <td>5.57</td>\n      <td>1.0</td>\n      <td>N</td>\n      <td>234.0</td>\n      <td>7.0</td>\n      <td>1.0</td>\n      <td>24.5</td>\n      <td>0.5</td>\n      <td>0.5</td>\n      <td>0.00</td>\n      <td>0.0</td>\n      <td>0.3</td>\n      <td>28.30</td>\n      <td>2.5</td>\n      <td>0.00</td>\n    </tr>\n    <tr>\n      <th>84</th>\n      <td>2</td>\n      <td>2022-10-01 00:12:08</td>\n      <td>2022-10-01 00:22:04</td>\n      <td>3.0</td>\n      <td>1.29</td>\n      <td>1.0</td>\n      <td>N</td>\n      <td>144.0</td>\n      <td>234.0</td>\n      <td>1.0</td>\n      <td>8.0</td>\n      <td>0.5</td>\n      <td>0.5</td>\n      <td>2.36</td>\n      <td>0.0</td>\n      <td>0.3</td>\n      <td>14.16</td>\n      <td>2.5</td>\n      <td>0.00</td>\n    </tr>\n    <tr>\n      <th>111</th>\n      <td>2</td>\n      <td>2022-10-01 00:29:57</td>\n      <td>2022-10-01 00:34:37</td>\n      <td>1.0</td>\n      <td>0.31</td>\n      <td>1.0</td>\n      <td>N</td>\n      <td>264.0</td>\n      <td>79.0</td>\n      <td>4.0</td>\n      <td>4.5</td>\n      <td>0.5</td>\n      <td>0.5</td>\n      <td>0.00</td>\n      <td>0.0</td>\n      <td>0.3</td>\n      <td>8.30</td>\n      <td>2.5</td>\n      <td>0.00</td>\n    </tr>\n    <tr>\n      <th>142</th>\n      <td>2</td>\n      <td>2022-10-01 00:28:58</td>\n      <td>2022-10-01 00:41:32</td>\n      <td>2.0</td>\n      <td>2.02</td>\n      <td>1.0</td>\n      <td>N</td>\n      <td>148.0</td>\n      <td>170.0</td>\n      <td>1.0</td>\n      <td>10.0</td>\n      <td>0.5</td>\n      <td>0.5</td>\n      <td>2.00</td>\n      <td>0.0</td>\n      <td>0.3</td>\n      <td>15.80</td>\n      <td>2.5</td>\n      <td>0.00</td>\n    </tr>\n    <tr>\n      <th>147</th>\n      <td>2</td>\n      <td>2022-10-01 00:07:41</td>\n      <td>2022-10-01 00:14:36</td>\n      <td>1.0</td>\n      <td>1.22</td>\n      <td>1.0</td>\n      <td>N</td>\n      <td>249.0</td>\n      <td>125.0</td>\n      <td>1.0</td>\n      <td>6.5</td>\n      <td>0.5</td>\n      <td>0.5</td>\n      <td>2.06</td>\n      <td>0.0</td>\n      <td>0.3</td>\n      <td>12.36</td>\n      <td>2.5</td>\n      <td>0.00</td>\n    </tr>\n    <tr>\n      <th>...</th>\n      <td>...</td>\n      <td>...</td>\n      <td>...</td>\n      <td>...</td>\n      <td>...</td>\n      <td>...</td>\n      <td>...</td>\n      <td>...</td>\n      <td>...</td>\n      <td>...</td>\n      <td>...</td>\n      <td>...</td>\n      <td>...</td>\n      <td>...</td>\n      <td>...</td>\n      <td>...</td>\n      <td>...</td>\n      <td>...</td>\n      <td>...</td>\n    </tr>\n    <tr>\n      <th>2820800</th>\n      <td>2</td>\n      <td>2021-09-30 23:53:49</td>\n      <td>2021-09-30 23:57:17</td>\n      <td>3.0</td>\n      <td>1.08</td>\n      <td>1.0</td>\n      <td>N</td>\n      <td>68.0</td>\n      <td>68.0</td>\n      <td>1.0</td>\n      <td>5.0</td>\n      <td>0.5</td>\n      <td>0.5</td>\n      <td>2.00</td>\n      <td>0.0</td>\n      <td>0.3</td>\n      <td>10.80</td>\n      <td>2.5</td>\n      <td>0.00</td>\n    </tr>\n    <tr>\n      <th>2820817</th>\n      <td>2</td>\n      <td>2021-09-30 23:58:45</td>\n      <td>2021-10-01 00:01:57</td>\n      <td>1.0</td>\n      <td>1.29</td>\n      <td>1.0</td>\n      <td>N</td>\n      <td>68.0</td>\n      <td>48.0</td>\n      <td>1.0</td>\n      <td>5.5</td>\n      <td>0.5</td>\n      <td>0.5</td>\n      <td>1.86</td>\n      <td>0.0</td>\n      <td>0.3</td>\n      <td>11.16</td>\n      <td>2.5</td>\n      <td>0.00</td>\n    </tr>\n    <tr>\n      <th>2820848</th>\n      <td>2</td>\n      <td>2021-09-30 23:30:23</td>\n      <td>2021-09-30 23:52:10</td>\n      <td>1.0</td>\n      <td>9.36</td>\n      <td>1.0</td>\n      <td>N</td>\n      <td>230.0</td>\n      <td>243.0</td>\n      <td>1.0</td>\n      <td>27.5</td>\n      <td>0.5</td>\n      <td>0.5</td>\n      <td>6.26</td>\n      <td>0.0</td>\n      <td>0.3</td>\n      <td>37.56</td>\n      <td>2.5</td>\n      <td>0.00</td>\n    </tr>\n    <tr>\n      <th>2820855</th>\n      <td>2</td>\n      <td>2021-09-30 23:52:28</td>\n      <td>2021-09-30 23:58:56</td>\n      <td>1.0</td>\n      <td>1.77</td>\n      <td>1.0</td>\n      <td>N</td>\n      <td>79.0</td>\n      <td>170.0</td>\n      <td>2.0</td>\n      <td>7.5</td>\n      <td>0.5</td>\n      <td>0.5</td>\n      <td>0.00</td>\n      <td>0.0</td>\n      <td>0.3</td>\n      <td>11.30</td>\n      <td>2.5</td>\n      <td>0.00</td>\n    </tr>\n    <tr>\n      <th>2820938</th>\n      <td>2</td>\n      <td>2021-09-30 23:50:07</td>\n      <td>2021-10-01 00:03:23</td>\n      <td>1.0</td>\n      <td>8.90</td>\n      <td>1.0</td>\n      <td>N</td>\n      <td>132.0</td>\n      <td>39.0</td>\n      <td>2.0</td>\n      <td>25.0</td>\n      <td>0.5</td>\n      <td>0.5</td>\n      <td>0.00</td>\n      <td>0.0</td>\n      <td>0.3</td>\n      <td>27.55</td>\n      <td>0.0</td>\n      <td>1.25</td>\n    </tr>\n  </tbody>\n</table>\n<p>3013317 rows × 19 columns</p>\n</div>"
     },
     "metadata": {},
     "execution_count": 9
    }
   ],
   "source": [
    "# remove null values, fill missed values with 0\n",
    "nyc_2016_2022.dropna(subset=['RatecodeID', 'airport_fee', 'congestion_surcharge', 'passenger_count', 'store_and_fwd_flag'], inplace = True)\n",
    "nyc_2016_2022.fillna(0)"
   ]
  },
  {
   "cell_type": "code",
   "execution_count": 10,
   "metadata": {},
   "outputs": [],
   "source": [
    "# convert columns to correct datatypes\n",
    "convert_columns_float = {\n",
    "                    'trip_distance': float, \n",
    "                    'fare_amount': float, \n",
    "                    'extra': float, \n",
    "                    'mta_tax': float,\n",
    "                    'tip_amount': float,\n",
    "                    'tolls_amount': float,\n",
    "                    'improvement_surcharge': float,\n",
    "                    'total_amount': float,\n",
    "                    'congestion_surcharge': float,\n",
    "                    'airport_fee': float\n",
    "                    }\n",
    "convert_columns_int = {\n",
    "                    'passenger_count': int,\n",
    "                    'RatecodeID': int, \n",
    "                    'payment_type': int, \n",
    "                    'PULocationID': int,\n",
    "                    'DOLocationID': int\n",
    "                     }\n",
    "\n",
    "for column in convert_columns_float.keys():\n",
    "    nyc_2016_2022[column] = pd.to_numeric(nyc_2016_2022[column], errors='coerce')\n",
    "for column in convert_columns_int.keys():\n",
    "    nyc_2016_2022[column] = pd.to_numeric(nyc_2016_2022[column], downcast= 'signed', errors='coerce')\n",
    "# nyc_2016_2022.astype(convert_columns_float)\n",
    "# nyc_2016_2022.astype(convert_columns_int)"
   ]
  },
  {
   "cell_type": "code",
   "execution_count": 11,
   "metadata": {},
   "outputs": [],
   "source": [
    "# parse dates\n",
    "nyc_2016_2022['tpep_pickup_datetime'] = pd.to_datetime(nyc_2016_2022['tpep_pickup_datetime'])\n",
    "nyc_2016_2022['tpep_dropoff_datetime'] = pd.to_datetime(nyc_2016_2022['tpep_dropoff_datetime'])"
   ]
  },
  {
   "cell_type": "code",
   "execution_count": 12,
   "metadata": {},
   "outputs": [
    {
     "output_type": "execute_result",
     "data": {
      "text/plain": [
       "VendorID                         object\n",
       "tpep_pickup_datetime     datetime64[ns]\n",
       "tpep_dropoff_datetime    datetime64[ns]\n",
       "passenger_count                    int8\n",
       "trip_distance                   float64\n",
       "RatecodeID                         int8\n",
       "store_and_fwd_flag               object\n",
       "PULocationID                      int16\n",
       "DOLocationID                      int16\n",
       "payment_type                       int8\n",
       "fare_amount                     float64\n",
       "extra                           float64\n",
       "mta_tax                         float64\n",
       "tip_amount                      float64\n",
       "tolls_amount                    float64\n",
       "improvement_surcharge           float64\n",
       "total_amount                    float64\n",
       "congestion_surcharge            float64\n",
       "airport_fee                     float64\n",
       "dtype: object"
      ]
     },
     "metadata": {},
     "execution_count": 12
    }
   ],
   "source": [
    "nyc_2016_2022.dtypes"
   ]
  },
  {
   "cell_type": "code",
   "execution_count": 13,
   "metadata": {},
   "outputs": [
    {
     "output_type": "execute_result",
     "data": {
      "text/plain": [
       "       passenger_count  trip_distance    RatecodeID  PULocationID  \\\n",
       "count     3.013317e+06   3.013317e+06  3.013317e+06  3.013317e+06   \n",
       "mean      1.412915e+00   3.331246e+00  1.287616e+00  1.649956e+02   \n",
       "std       9.926313e-01   6.165408e+00  4.632571e+00  6.518357e+01   \n",
       "min       0.000000e+00   0.000000e+00  1.000000e+00  1.000000e+00   \n",
       "25%       1.000000e+00   1.100000e+00  1.000000e+00  1.320000e+02   \n",
       "50%       1.000000e+00   1.830000e+00  1.000000e+00  1.620000e+02   \n",
       "75%       1.000000e+00   3.350000e+00  1.000000e+00  2.340000e+02   \n",
       "max       8.000000e+00   7.454080e+03  9.900000e+01  2.650000e+02   \n",
       "\n",
       "       DOLocationID  payment_type   fare_amount         extra       mta_tax  \\\n",
       "count  3.013317e+06  3.013317e+06  3.013317e+06  3.013317e+06  3.013317e+06   \n",
       "mean   1.629276e+02  1.236602e+00  1.402051e+01  1.038917e+00  4.901161e-01   \n",
       "std    7.024214e+01  4.703234e-01  2.285956e+02  1.248969e+00  8.760923e-02   \n",
       "min    1.000000e+00  1.000000e+00 -7.500000e+02 -4.500000e+00 -5.000000e-01   \n",
       "25%    1.130000e+02  1.000000e+00  7.000000e+00  0.000000e+00  5.000000e-01   \n",
       "50%    1.620000e+02  1.000000e+00  1.000000e+01  5.000000e-01  5.000000e-01   \n",
       "75%    2.340000e+02  1.000000e+00  1.550000e+01  2.500000e+00  5.000000e-01   \n",
       "max    2.650000e+02  4.000000e+00  3.958449e+05  9.050000e+00  3.300000e+00   \n",
       "\n",
       "         tip_amount  tolls_amount  improvement_surcharge  total_amount  \\\n",
       "count  3.013317e+06  3.013317e+06           3.013317e+06  3.013317e+06   \n",
       "mean   2.573568e+00  4.684144e-01           2.964574e-01  2.056525e+01   \n",
       "std    3.193319e+00  1.964617e+00           4.554809e-02  2.288103e+02   \n",
       "min   -4.100000e+02 -5.000000e+01          -3.000000e-01 -7.503000e+02   \n",
       "25%    0.000000e+00  0.000000e+00           3.000000e-01  1.180000e+01   \n",
       "50%    2.060000e+00  0.000000e+00           3.000000e-01  1.536000e+01   \n",
       "75%    3.200000e+00  0.000000e+00           3.000000e-01  2.180000e+01   \n",
       "max    9.999900e+02  9.565500e+02           1.000000e+00  3.958482e+05   \n",
       "\n",
       "       congestion_surcharge   airport_fee  \n",
       "count          3.013317e+06  3.013317e+06  \n",
       "mean           2.287743e+00  8.645000e-02  \n",
       "std            7.368481e-01  3.197157e-01  \n",
       "min           -2.500000e+00 -1.250000e+00  \n",
       "25%            2.500000e+00  0.000000e+00  \n",
       "50%            2.500000e+00  0.000000e+00  \n",
       "75%            2.500000e+00  0.000000e+00  \n",
       "max            2.750000e+00  1.250000e+00  "
      ],
      "text/html": "<div>\n<style scoped>\n    .dataframe tbody tr th:only-of-type {\n        vertical-align: middle;\n    }\n\n    .dataframe tbody tr th {\n        vertical-align: top;\n    }\n\n    .dataframe thead th {\n        text-align: right;\n    }\n</style>\n<table border=\"1\" class=\"dataframe\">\n  <thead>\n    <tr style=\"text-align: right;\">\n      <th></th>\n      <th>passenger_count</th>\n      <th>trip_distance</th>\n      <th>RatecodeID</th>\n      <th>PULocationID</th>\n      <th>DOLocationID</th>\n      <th>payment_type</th>\n      <th>fare_amount</th>\n      <th>extra</th>\n      <th>mta_tax</th>\n      <th>tip_amount</th>\n      <th>tolls_amount</th>\n      <th>improvement_surcharge</th>\n      <th>total_amount</th>\n      <th>congestion_surcharge</th>\n      <th>airport_fee</th>\n    </tr>\n  </thead>\n  <tbody>\n    <tr>\n      <th>count</th>\n      <td>3.013317e+06</td>\n      <td>3.013317e+06</td>\n      <td>3.013317e+06</td>\n      <td>3.013317e+06</td>\n      <td>3.013317e+06</td>\n      <td>3.013317e+06</td>\n      <td>3.013317e+06</td>\n      <td>3.013317e+06</td>\n      <td>3.013317e+06</td>\n      <td>3.013317e+06</td>\n      <td>3.013317e+06</td>\n      <td>3.013317e+06</td>\n      <td>3.013317e+06</td>\n      <td>3.013317e+06</td>\n      <td>3.013317e+06</td>\n    </tr>\n    <tr>\n      <th>mean</th>\n      <td>1.412915e+00</td>\n      <td>3.331246e+00</td>\n      <td>1.287616e+00</td>\n      <td>1.649956e+02</td>\n      <td>1.629276e+02</td>\n      <td>1.236602e+00</td>\n      <td>1.402051e+01</td>\n      <td>1.038917e+00</td>\n      <td>4.901161e-01</td>\n      <td>2.573568e+00</td>\n      <td>4.684144e-01</td>\n      <td>2.964574e-01</td>\n      <td>2.056525e+01</td>\n      <td>2.287743e+00</td>\n      <td>8.645000e-02</td>\n    </tr>\n    <tr>\n      <th>std</th>\n      <td>9.926313e-01</td>\n      <td>6.165408e+00</td>\n      <td>4.632571e+00</td>\n      <td>6.518357e+01</td>\n      <td>7.024214e+01</td>\n      <td>4.703234e-01</td>\n      <td>2.285956e+02</td>\n      <td>1.248969e+00</td>\n      <td>8.760923e-02</td>\n      <td>3.193319e+00</td>\n      <td>1.964617e+00</td>\n      <td>4.554809e-02</td>\n      <td>2.288103e+02</td>\n      <td>7.368481e-01</td>\n      <td>3.197157e-01</td>\n    </tr>\n    <tr>\n      <th>min</th>\n      <td>0.000000e+00</td>\n      <td>0.000000e+00</td>\n      <td>1.000000e+00</td>\n      <td>1.000000e+00</td>\n      <td>1.000000e+00</td>\n      <td>1.000000e+00</td>\n      <td>-7.500000e+02</td>\n      <td>-4.500000e+00</td>\n      <td>-5.000000e-01</td>\n      <td>-4.100000e+02</td>\n      <td>-5.000000e+01</td>\n      <td>-3.000000e-01</td>\n      <td>-7.503000e+02</td>\n      <td>-2.500000e+00</td>\n      <td>-1.250000e+00</td>\n    </tr>\n    <tr>\n      <th>25%</th>\n      <td>1.000000e+00</td>\n      <td>1.100000e+00</td>\n      <td>1.000000e+00</td>\n      <td>1.320000e+02</td>\n      <td>1.130000e+02</td>\n      <td>1.000000e+00</td>\n      <td>7.000000e+00</td>\n      <td>0.000000e+00</td>\n      <td>5.000000e-01</td>\n      <td>0.000000e+00</td>\n      <td>0.000000e+00</td>\n      <td>3.000000e-01</td>\n      <td>1.180000e+01</td>\n      <td>2.500000e+00</td>\n      <td>0.000000e+00</td>\n    </tr>\n    <tr>\n      <th>50%</th>\n      <td>1.000000e+00</td>\n      <td>1.830000e+00</td>\n      <td>1.000000e+00</td>\n      <td>1.620000e+02</td>\n      <td>1.620000e+02</td>\n      <td>1.000000e+00</td>\n      <td>1.000000e+01</td>\n      <td>5.000000e-01</td>\n      <td>5.000000e-01</td>\n      <td>2.060000e+00</td>\n      <td>0.000000e+00</td>\n      <td>3.000000e-01</td>\n      <td>1.536000e+01</td>\n      <td>2.500000e+00</td>\n      <td>0.000000e+00</td>\n    </tr>\n    <tr>\n      <th>75%</th>\n      <td>1.000000e+00</td>\n      <td>3.350000e+00</td>\n      <td>1.000000e+00</td>\n      <td>2.340000e+02</td>\n      <td>2.340000e+02</td>\n      <td>1.000000e+00</td>\n      <td>1.550000e+01</td>\n      <td>2.500000e+00</td>\n      <td>5.000000e-01</td>\n      <td>3.200000e+00</td>\n      <td>0.000000e+00</td>\n      <td>3.000000e-01</td>\n      <td>2.180000e+01</td>\n      <td>2.500000e+00</td>\n      <td>0.000000e+00</td>\n    </tr>\n    <tr>\n      <th>max</th>\n      <td>8.000000e+00</td>\n      <td>7.454080e+03</td>\n      <td>9.900000e+01</td>\n      <td>2.650000e+02</td>\n      <td>2.650000e+02</td>\n      <td>4.000000e+00</td>\n      <td>3.958449e+05</td>\n      <td>9.050000e+00</td>\n      <td>3.300000e+00</td>\n      <td>9.999900e+02</td>\n      <td>9.565500e+02</td>\n      <td>1.000000e+00</td>\n      <td>3.958482e+05</td>\n      <td>2.750000e+00</td>\n      <td>1.250000e+00</td>\n    </tr>\n  </tbody>\n</table>\n</div>"
     },
     "metadata": {},
     "execution_count": 13
    }
   ],
   "source": [
    "nyc_2016_2022.describe()"
   ]
  },
  {
   "cell_type": "code",
   "execution_count": 14,
   "metadata": {},
   "outputs": [],
   "source": [
    "# remove data that does not make sense: \n",
    "# negative extra, mta_tax, tip_amount, tolls_amount, etc\n",
    "# fare amount starts at $3.00 for yellow cab\n",
    "nyc_2016_2022 = nyc_2016_2022.drop(nyc_2016_2022[nyc_2016_2022['fare_amount'] < 3].index, axis = 0)\n",
    "# getting rid of fare amounts costing hundreds / thousands of dollars\n",
    "nyc_2016_2022 = nyc_2016_2022.drop(nyc_2016_2022[nyc_2016_2022['fare_amount'] > 300].index, axis = 0)\n",
    "nyc_2016_2022 = nyc_2016_2022.drop(nyc_2016_2022[nyc_2016_2022['extra'] < 0].index, axis = 0)\n",
    "# mta tax starts at $0.50\n",
    "nyc_2016_2022 = nyc_2016_2022.drop(nyc_2016_2022[nyc_2016_2022['mta_tax'] < 0.5].index, axis = 0)\n",
    "nyc_2016_2022 = nyc_2016_2022.drop(nyc_2016_2022[nyc_2016_2022['tip_amount'] < 0].index, axis = 0)\n",
    "nyc_2016_2022 = nyc_2016_2022.drop(nyc_2016_2022[nyc_2016_2022['tolls_amount'] < 0].index, axis = 0)\n",
    "# improvement surcharge starts at $0.30\n",
    "nyc_2016_2022 = nyc_2016_2022.drop(nyc_2016_2022[nyc_2016_2022['improvement_surcharge'] < 0.3].index, axis = 0)\n",
    "nyc_2016_2022 = nyc_2016_2022.drop(nyc_2016_2022[nyc_2016_2022['total_amount'] < 0].index, axis = 0)\n",
    "nyc_2016_2022 = nyc_2016_2022.drop(nyc_2016_2022[nyc_2016_2022['congestion_surcharge'] < 0].index, axis = 0)\n",
    "nyc_2016_2022 = nyc_2016_2022.drop(nyc_2016_2022[nyc_2016_2022['airport_fee'] < 0].index, axis = 0)\n",
    "# remove passenger count over 6 (maximum possible 6 by New York Law)\n",
    "nyc_2016_2022 = nyc_2016_2022.drop(nyc_2016_2022[nyc_2016_2022['passenger_count'] > 6].index, axis = 0)\n",
    "# removing huge trip distances, NYC is about 300 sq feet\n",
    "nyc_2016_2022 = nyc_2016_2022.drop(nyc_2016_2022[nyc_2016_2022['trip_distance'] > 300].index, axis = 0)"
   ]
  },
  {
   "cell_type": "code",
   "execution_count": 15,
   "metadata": {},
   "outputs": [],
   "source": [
    "# extracting possible useful features\n",
    "nyc_2016_2022['fare_per_mile'] = nyc_2016_2022['fare_amount'] / nyc_2016_2022['trip_distance']\n",
    "nyc_2016_2022['year'] = nyc_2016_2022.tpep_pickup_datetime.dt.year\n",
    "nyc_2016_2022['month'] = nyc_2016_2022.tpep_pickup_datetime.dt.month\n",
    "nyc_2016_2022['day_of_week'] = nyc_2016_2022.tpep_pickup_datetime.dt.weekday\n",
    "nyc_2016_2022['day_of_month'] = nyc_2016_2022.tpep_pickup_datetime.dt.day\n",
    "nyc_2016_2022['hour'] = nyc_2016_2022.tpep_pickup_datetime.dt.hour\n",
    "nyc_2016_2022['minute'] = nyc_2016_2022.tpep_pickup_datetime.dt.minute\n",
    "nyc_2016_2022['second'] = nyc_2016_2022.tpep_pickup_datetime.dt.second"
   ]
  },
  {
   "cell_type": "code",
   "execution_count": 16,
   "metadata": {},
   "outputs": [
    {
     "output_type": "execute_result",
     "data": {
      "text/plain": [
       "           VendorID tpep_pickup_datetime tpep_dropoff_datetime  \\\n",
       "Unnamed: 0                                                       \n",
       "31                2  2022-10-01 00:07:50   2022-10-01 00:41:31   \n",
       "84                2  2022-10-01 00:12:08   2022-10-01 00:22:04   \n",
       "111               2  2022-10-01 00:29:57   2022-10-01 00:34:37   \n",
       "142               2  2022-10-01 00:28:58   2022-10-01 00:41:32   \n",
       "147               2  2022-10-01 00:07:41   2022-10-01 00:14:36   \n",
       "\n",
       "            passenger_count  trip_distance  RatecodeID store_and_fwd_flag  \\\n",
       "Unnamed: 0                                                                  \n",
       "31                        1           5.57           1                  N   \n",
       "84                        3           1.29           1                  N   \n",
       "111                       1           0.31           1                  N   \n",
       "142                       2           2.02           1                  N   \n",
       "147                       1           1.22           1                  N   \n",
       "\n",
       "            PULocationID  DOLocationID  payment_type  ...  \\\n",
       "Unnamed: 0                                            ...   \n",
       "31                   234             7             1  ...   \n",
       "84                   144           234             1  ...   \n",
       "111                  264            79             4  ...   \n",
       "142                  148           170             1  ...   \n",
       "147                  249           125             1  ...   \n",
       "\n",
       "            congestion_surcharge  airport_fee  fare_per_mile  year  month  \\\n",
       "Unnamed: 0                                                                  \n",
       "31                           2.5          0.0       4.398564  2022     10   \n",
       "84                           2.5          0.0       6.201550  2022     10   \n",
       "111                          2.5          0.0      14.516129  2022     10   \n",
       "142                          2.5          0.0       4.950495  2022     10   \n",
       "147                          2.5          0.0       5.327869  2022     10   \n",
       "\n",
       "            day_of_week  day_of_month  hour  minute  second  \n",
       "Unnamed: 0                                                   \n",
       "31                    5             1     0       7      50  \n",
       "84                    5             1     0      12       8  \n",
       "111                   5             1     0      29      57  \n",
       "142                   5             1     0      28      58  \n",
       "147                   5             1     0       7      41  \n",
       "\n",
       "[5 rows x 27 columns]"
      ],
      "text/html": "<div>\n<style scoped>\n    .dataframe tbody tr th:only-of-type {\n        vertical-align: middle;\n    }\n\n    .dataframe tbody tr th {\n        vertical-align: top;\n    }\n\n    .dataframe thead th {\n        text-align: right;\n    }\n</style>\n<table border=\"1\" class=\"dataframe\">\n  <thead>\n    <tr style=\"text-align: right;\">\n      <th></th>\n      <th>VendorID</th>\n      <th>tpep_pickup_datetime</th>\n      <th>tpep_dropoff_datetime</th>\n      <th>passenger_count</th>\n      <th>trip_distance</th>\n      <th>RatecodeID</th>\n      <th>store_and_fwd_flag</th>\n      <th>PULocationID</th>\n      <th>DOLocationID</th>\n      <th>payment_type</th>\n      <th>...</th>\n      <th>congestion_surcharge</th>\n      <th>airport_fee</th>\n      <th>fare_per_mile</th>\n      <th>year</th>\n      <th>month</th>\n      <th>day_of_week</th>\n      <th>day_of_month</th>\n      <th>hour</th>\n      <th>minute</th>\n      <th>second</th>\n    </tr>\n    <tr>\n      <th>Unnamed: 0</th>\n      <th></th>\n      <th></th>\n      <th></th>\n      <th></th>\n      <th></th>\n      <th></th>\n      <th></th>\n      <th></th>\n      <th></th>\n      <th></th>\n      <th></th>\n      <th></th>\n      <th></th>\n      <th></th>\n      <th></th>\n      <th></th>\n      <th></th>\n      <th></th>\n      <th></th>\n      <th></th>\n      <th></th>\n    </tr>\n  </thead>\n  <tbody>\n    <tr>\n      <th>31</th>\n      <td>2</td>\n      <td>2022-10-01 00:07:50</td>\n      <td>2022-10-01 00:41:31</td>\n      <td>1</td>\n      <td>5.57</td>\n      <td>1</td>\n      <td>N</td>\n      <td>234</td>\n      <td>7</td>\n      <td>1</td>\n      <td>...</td>\n      <td>2.5</td>\n      <td>0.0</td>\n      <td>4.398564</td>\n      <td>2022</td>\n      <td>10</td>\n      <td>5</td>\n      <td>1</td>\n      <td>0</td>\n      <td>7</td>\n      <td>50</td>\n    </tr>\n    <tr>\n      <th>84</th>\n      <td>2</td>\n      <td>2022-10-01 00:12:08</td>\n      <td>2022-10-01 00:22:04</td>\n      <td>3</td>\n      <td>1.29</td>\n      <td>1</td>\n      <td>N</td>\n      <td>144</td>\n      <td>234</td>\n      <td>1</td>\n      <td>...</td>\n      <td>2.5</td>\n      <td>0.0</td>\n      <td>6.201550</td>\n      <td>2022</td>\n      <td>10</td>\n      <td>5</td>\n      <td>1</td>\n      <td>0</td>\n      <td>12</td>\n      <td>8</td>\n    </tr>\n    <tr>\n      <th>111</th>\n      <td>2</td>\n      <td>2022-10-01 00:29:57</td>\n      <td>2022-10-01 00:34:37</td>\n      <td>1</td>\n      <td>0.31</td>\n      <td>1</td>\n      <td>N</td>\n      <td>264</td>\n      <td>79</td>\n      <td>4</td>\n      <td>...</td>\n      <td>2.5</td>\n      <td>0.0</td>\n      <td>14.516129</td>\n      <td>2022</td>\n      <td>10</td>\n      <td>5</td>\n      <td>1</td>\n      <td>0</td>\n      <td>29</td>\n      <td>57</td>\n    </tr>\n    <tr>\n      <th>142</th>\n      <td>2</td>\n      <td>2022-10-01 00:28:58</td>\n      <td>2022-10-01 00:41:32</td>\n      <td>2</td>\n      <td>2.02</td>\n      <td>1</td>\n      <td>N</td>\n      <td>148</td>\n      <td>170</td>\n      <td>1</td>\n      <td>...</td>\n      <td>2.5</td>\n      <td>0.0</td>\n      <td>4.950495</td>\n      <td>2022</td>\n      <td>10</td>\n      <td>5</td>\n      <td>1</td>\n      <td>0</td>\n      <td>28</td>\n      <td>58</td>\n    </tr>\n    <tr>\n      <th>147</th>\n      <td>2</td>\n      <td>2022-10-01 00:07:41</td>\n      <td>2022-10-01 00:14:36</td>\n      <td>1</td>\n      <td>1.22</td>\n      <td>1</td>\n      <td>N</td>\n      <td>249</td>\n      <td>125</td>\n      <td>1</td>\n      <td>...</td>\n      <td>2.5</td>\n      <td>0.0</td>\n      <td>5.327869</td>\n      <td>2022</td>\n      <td>10</td>\n      <td>5</td>\n      <td>1</td>\n      <td>0</td>\n      <td>7</td>\n      <td>41</td>\n    </tr>\n  </tbody>\n</table>\n<p>5 rows × 27 columns</p>\n</div>"
     },
     "metadata": {},
     "execution_count": 16
    }
   ],
   "source": [
    "nyc_2016_2022.head()"
   ]
  },
  {
   "cell_type": "code",
   "execution_count": 17,
   "metadata": {},
   "outputs": [
    {
     "output_type": "execute_result",
     "data": {
      "text/plain": [
       "<AxesSubplot:ylabel='Frequency'>"
      ]
     },
     "metadata": {},
     "execution_count": 17
    },
    {
     "output_type": "display_data",
     "data": {
      "text/plain": "<Figure size 640x480 with 1 Axes>",
      "image/svg+xml": "<?xml version=\"1.0\" encoding=\"utf-8\" standalone=\"no\"?>\n<!DOCTYPE svg PUBLIC \"-//W3C//DTD SVG 1.1//EN\"\n  \"http://www.w3.org/Graphics/SVG/1.1/DTD/svg11.dtd\">\n<svg xmlns:xlink=\"http://www.w3.org/1999/xlink\" width=\"408.10125pt\" height=\"307.788562pt\" viewBox=\"0 0 408.10125 307.788562\" xmlns=\"http://www.w3.org/2000/svg\" version=\"1.1\">\n <metadata>\n  <rdf:RDF xmlns:dc=\"http://purl.org/dc/elements/1.1/\" xmlns:cc=\"http://creativecommons.org/ns#\" xmlns:rdf=\"http://www.w3.org/1999/02/22-rdf-syntax-ns#\">\n   <cc:Work>\n    <dc:type rdf:resource=\"http://purl.org/dc/dcmitype/StillImage\"/>\n    <dc:date>2023-03-17T16:40:32.634789</dc:date>\n    <dc:format>image/svg+xml</dc:format>\n    <dc:creator>\n     <cc:Agent>\n      <dc:title>Matplotlib v3.5.2, https://matplotlib.org/</dc:title>\n     </cc:Agent>\n    </dc:creator>\n   </cc:Work>\n  </rdf:RDF>\n </metadata>\n <defs>\n  <style type=\"text/css\">*{stroke-linejoin: round; stroke-linecap: butt}</style>\n </defs>\n <g id=\"figure_1\">\n  <g id=\"patch_1\">\n   <path d=\"M 0 307.788562 \nL 408.10125 307.788562 \nL 408.10125 0 \nL 0 0 \nz\n\" style=\"fill: #ffffff\"/>\n  </g>\n  <g id=\"axes_1\">\n   <g id=\"patch_2\">\n    <path d=\"M 43.78125 283.910437 \nL 400.90125 283.910437 \nL 400.90125 17.798437 \nL 43.78125 17.798437 \nz\n\" style=\"fill: #ffffff\"/>\n   </g>\n   <g id=\"patch_3\">\n    <path d=\"M 60.013977 283.910437 \nL 92.479432 283.910437 \nL 92.479432 30.470437 \nL 60.013977 30.470437 \nz\n\" clip-path=\"url(#pecbaeb5e77)\" style=\"fill: #1f77b4\"/>\n   </g>\n   <g id=\"patch_4\">\n    <path d=\"M 92.479432 283.910437 \nL 124.944886 283.910437 \nL 124.944886 264.62171 \nL 92.479432 264.62171 \nz\n\" clip-path=\"url(#pecbaeb5e77)\" style=\"fill: #1f77b4\"/>\n   </g>\n   <g id=\"patch_5\">\n    <path d=\"M 124.944886 283.910437 \nL 157.410341 283.910437 \nL 157.410341 283.237097 \nL 124.944886 283.237097 \nz\n\" clip-path=\"url(#pecbaeb5e77)\" style=\"fill: #1f77b4\"/>\n   </g>\n   <g id=\"patch_6\">\n    <path d=\"M 157.410341 283.910437 \nL 189.875795 283.910437 \nL 189.875795 283.824634 \nL 157.410341 283.824634 \nz\n\" clip-path=\"url(#pecbaeb5e77)\" style=\"fill: #1f77b4\"/>\n   </g>\n   <g id=\"patch_7\">\n    <path d=\"M 189.875795 283.910437 \nL 222.34125 283.910437 \nL 222.34125 283.875107 \nL 189.875795 283.875107 \nz\n\" clip-path=\"url(#pecbaeb5e77)\" style=\"fill: #1f77b4\"/>\n   </g>\n   <g id=\"patch_8\">\n    <path d=\"M 222.34125 283.910437 \nL 254.806705 283.910437 \nL 254.806705 283.898287 \nL 222.34125 283.898287 \nz\n\" clip-path=\"url(#pecbaeb5e77)\" style=\"fill: #1f77b4\"/>\n   </g>\n   <g id=\"patch_9\">\n    <path d=\"M 254.806705 283.910437 \nL 287.272159 283.910437 \nL 287.272159 283.903801 \nL 254.806705 283.903801 \nz\n\" clip-path=\"url(#pecbaeb5e77)\" style=\"fill: #1f77b4\"/>\n   </g>\n   <g id=\"patch_10\">\n    <path d=\"M 287.272159 283.910437 \nL 319.737614 283.910437 \nL 319.737614 283.905671 \nL 287.272159 283.905671 \nz\n\" clip-path=\"url(#pecbaeb5e77)\" style=\"fill: #1f77b4\"/>\n   </g>\n   <g id=\"patch_11\">\n    <path d=\"M 319.737614 283.910437 \nL 352.203068 283.910437 \nL 352.203068 283.907073 \nL 319.737614 283.907073 \nz\n\" clip-path=\"url(#pecbaeb5e77)\" style=\"fill: #1f77b4\"/>\n   </g>\n   <g id=\"patch_12\">\n    <path d=\"M 352.203068 283.910437 \nL 384.668523 283.910437 \nL 384.668523 283.908568 \nL 352.203068 283.908568 \nz\n\" clip-path=\"url(#pecbaeb5e77)\" style=\"fill: #1f77b4\"/>\n   </g>\n   <g id=\"matplotlib.axis_1\">\n    <g id=\"xtick_1\">\n     <g id=\"line2d_1\">\n      <defs>\n       <path id=\"m2d77a2bd26\" d=\"M 0 0 \nL 0 3.5 \n\" style=\"stroke: #000000; stroke-width: 0.8\"/>\n      </defs>\n      <g>\n       <use xlink:href=\"#m2d77a2bd26\" x=\"56.734638\" y=\"283.910437\" style=\"stroke: #000000; stroke-width: 0.8\"/>\n      </g>\n     </g>\n     <g id=\"text_1\">\n      <!-- 0 -->\n      <g transform=\"translate(53.553388 298.508875)scale(0.1 -0.1)\">\n       <defs>\n        <path id=\"DejaVuSans-30\" d=\"M 2034 4250 \nQ 1547 4250 1301 3770 \nQ 1056 3291 1056 2328 \nQ 1056 1369 1301 889 \nQ 1547 409 2034 409 \nQ 2525 409 2770 889 \nQ 3016 1369 3016 2328 \nQ 3016 3291 2770 3770 \nQ 2525 4250 2034 4250 \nz\nM 2034 4750 \nQ 2819 4750 3233 4129 \nQ 3647 3509 3647 2328 \nQ 3647 1150 3233 529 \nQ 2819 -91 2034 -91 \nQ 1250 -91 836 529 \nQ 422 1150 422 2328 \nQ 422 3509 836 4129 \nQ 1250 4750 2034 4750 \nz\n\" transform=\"scale(0.015625)\"/>\n       </defs>\n       <use xlink:href=\"#DejaVuSans-30\"/>\n      </g>\n     </g>\n    </g>\n    <g id=\"xtick_2\">\n     <g id=\"line2d_2\">\n      <g>\n       <use xlink:href=\"#m2d77a2bd26\" x=\"111.390286\" y=\"283.910437\" style=\"stroke: #000000; stroke-width: 0.8\"/>\n      </g>\n     </g>\n     <g id=\"text_2\">\n      <!-- 50 -->\n      <g transform=\"translate(105.027786 298.508875)scale(0.1 -0.1)\">\n       <defs>\n        <path id=\"DejaVuSans-35\" d=\"M 691 4666 \nL 3169 4666 \nL 3169 4134 \nL 1269 4134 \nL 1269 2991 \nQ 1406 3038 1543 3061 \nQ 1681 3084 1819 3084 \nQ 2600 3084 3056 2656 \nQ 3513 2228 3513 1497 \nQ 3513 744 3044 326 \nQ 2575 -91 1722 -91 \nQ 1428 -91 1123 -41 \nQ 819 9 494 109 \nL 494 744 \nQ 775 591 1075 516 \nQ 1375 441 1709 441 \nQ 2250 441 2565 725 \nQ 2881 1009 2881 1497 \nQ 2881 1984 2565 2268 \nQ 2250 2553 1709 2553 \nQ 1456 2553 1204 2497 \nQ 953 2441 691 2322 \nL 691 4666 \nz\n\" transform=\"scale(0.015625)\"/>\n       </defs>\n       <use xlink:href=\"#DejaVuSans-35\"/>\n       <use xlink:href=\"#DejaVuSans-30\" x=\"63.623047\"/>\n      </g>\n     </g>\n    </g>\n    <g id=\"xtick_3\">\n     <g id=\"line2d_3\">\n      <g>\n       <use xlink:href=\"#m2d77a2bd26\" x=\"166.045933\" y=\"283.910437\" style=\"stroke: #000000; stroke-width: 0.8\"/>\n      </g>\n     </g>\n     <g id=\"text_3\">\n      <!-- 100 -->\n      <g transform=\"translate(156.502183 298.508875)scale(0.1 -0.1)\">\n       <defs>\n        <path id=\"DejaVuSans-31\" d=\"M 794 531 \nL 1825 531 \nL 1825 4091 \nL 703 3866 \nL 703 4441 \nL 1819 4666 \nL 2450 4666 \nL 2450 531 \nL 3481 531 \nL 3481 0 \nL 794 0 \nL 794 531 \nz\n\" transform=\"scale(0.015625)\"/>\n       </defs>\n       <use xlink:href=\"#DejaVuSans-31\"/>\n       <use xlink:href=\"#DejaVuSans-30\" x=\"63.623047\"/>\n       <use xlink:href=\"#DejaVuSans-30\" x=\"127.246094\"/>\n      </g>\n     </g>\n    </g>\n    <g id=\"xtick_4\">\n     <g id=\"line2d_4\">\n      <g>\n       <use xlink:href=\"#m2d77a2bd26\" x=\"220.701581\" y=\"283.910437\" style=\"stroke: #000000; stroke-width: 0.8\"/>\n      </g>\n     </g>\n     <g id=\"text_4\">\n      <!-- 150 -->\n      <g transform=\"translate(211.157831 298.508875)scale(0.1 -0.1)\">\n       <use xlink:href=\"#DejaVuSans-31\"/>\n       <use xlink:href=\"#DejaVuSans-35\" x=\"63.623047\"/>\n       <use xlink:href=\"#DejaVuSans-30\" x=\"127.246094\"/>\n      </g>\n     </g>\n    </g>\n    <g id=\"xtick_5\">\n     <g id=\"line2d_5\">\n      <g>\n       <use xlink:href=\"#m2d77a2bd26\" x=\"275.357228\" y=\"283.910437\" style=\"stroke: #000000; stroke-width: 0.8\"/>\n      </g>\n     </g>\n     <g id=\"text_5\">\n      <!-- 200 -->\n      <g transform=\"translate(265.813478 298.508875)scale(0.1 -0.1)\">\n       <defs>\n        <path id=\"DejaVuSans-32\" d=\"M 1228 531 \nL 3431 531 \nL 3431 0 \nL 469 0 \nL 469 531 \nQ 828 903 1448 1529 \nQ 2069 2156 2228 2338 \nQ 2531 2678 2651 2914 \nQ 2772 3150 2772 3378 \nQ 2772 3750 2511 3984 \nQ 2250 4219 1831 4219 \nQ 1534 4219 1204 4116 \nQ 875 4013 500 3803 \nL 500 4441 \nQ 881 4594 1212 4672 \nQ 1544 4750 1819 4750 \nQ 2544 4750 2975 4387 \nQ 3406 4025 3406 3419 \nQ 3406 3131 3298 2873 \nQ 3191 2616 2906 2266 \nQ 2828 2175 2409 1742 \nQ 1991 1309 1228 531 \nz\n\" transform=\"scale(0.015625)\"/>\n       </defs>\n       <use xlink:href=\"#DejaVuSans-32\"/>\n       <use xlink:href=\"#DejaVuSans-30\" x=\"63.623047\"/>\n       <use xlink:href=\"#DejaVuSans-30\" x=\"127.246094\"/>\n      </g>\n     </g>\n    </g>\n    <g id=\"xtick_6\">\n     <g id=\"line2d_6\">\n      <g>\n       <use xlink:href=\"#m2d77a2bd26\" x=\"330.012875\" y=\"283.910437\" style=\"stroke: #000000; stroke-width: 0.8\"/>\n      </g>\n     </g>\n     <g id=\"text_6\">\n      <!-- 250 -->\n      <g transform=\"translate(320.469125 298.508875)scale(0.1 -0.1)\">\n       <use xlink:href=\"#DejaVuSans-32\"/>\n       <use xlink:href=\"#DejaVuSans-35\" x=\"63.623047\"/>\n       <use xlink:href=\"#DejaVuSans-30\" x=\"127.246094\"/>\n      </g>\n     </g>\n    </g>\n    <g id=\"xtick_7\">\n     <g id=\"line2d_7\">\n      <g>\n       <use xlink:href=\"#m2d77a2bd26\" x=\"384.668523\" y=\"283.910437\" style=\"stroke: #000000; stroke-width: 0.8\"/>\n      </g>\n     </g>\n     <g id=\"text_7\">\n      <!-- 300 -->\n      <g transform=\"translate(375.124773 298.508875)scale(0.1 -0.1)\">\n       <defs>\n        <path id=\"DejaVuSans-33\" d=\"M 2597 2516 \nQ 3050 2419 3304 2112 \nQ 3559 1806 3559 1356 \nQ 3559 666 3084 287 \nQ 2609 -91 1734 -91 \nQ 1441 -91 1130 -33 \nQ 819 25 488 141 \nL 488 750 \nQ 750 597 1062 519 \nQ 1375 441 1716 441 \nQ 2309 441 2620 675 \nQ 2931 909 2931 1356 \nQ 2931 1769 2642 2001 \nQ 2353 2234 1838 2234 \nL 1294 2234 \nL 1294 2753 \nL 1863 2753 \nQ 2328 2753 2575 2939 \nQ 2822 3125 2822 3475 \nQ 2822 3834 2567 4026 \nQ 2313 4219 1838 4219 \nQ 1578 4219 1281 4162 \nQ 984 4106 628 3988 \nL 628 4550 \nQ 988 4650 1302 4700 \nQ 1616 4750 1894 4750 \nQ 2613 4750 3031 4423 \nQ 3450 4097 3450 3541 \nQ 3450 3153 3228 2886 \nQ 3006 2619 2597 2516 \nz\n\" transform=\"scale(0.015625)\"/>\n       </defs>\n       <use xlink:href=\"#DejaVuSans-33\"/>\n       <use xlink:href=\"#DejaVuSans-30\" x=\"63.623047\"/>\n       <use xlink:href=\"#DejaVuSans-30\" x=\"127.246094\"/>\n      </g>\n     </g>\n    </g>\n   </g>\n   <g id=\"matplotlib.axis_2\">\n    <g id=\"ytick_1\">\n     <g id=\"line2d_8\">\n      <defs>\n       <path id=\"m432ee7daa1\" d=\"M 0 0 \nL -3.5 0 \n\" style=\"stroke: #000000; stroke-width: 0.8\"/>\n      </defs>\n      <g>\n       <use xlink:href=\"#m432ee7daa1\" x=\"43.78125\" y=\"283.910437\" style=\"stroke: #000000; stroke-width: 0.8\"/>\n      </g>\n     </g>\n     <g id=\"text_8\">\n      <!-- 0.0 -->\n      <g transform=\"translate(20.878125 287.709656)scale(0.1 -0.1)\">\n       <defs>\n        <path id=\"DejaVuSans-2e\" d=\"M 684 794 \nL 1344 794 \nL 1344 0 \nL 684 0 \nL 684 794 \nz\n\" transform=\"scale(0.015625)\"/>\n       </defs>\n       <use xlink:href=\"#DejaVuSans-30\"/>\n       <use xlink:href=\"#DejaVuSans-2e\" x=\"63.623047\"/>\n       <use xlink:href=\"#DejaVuSans-30\" x=\"95.410156\"/>\n      </g>\n     </g>\n    </g>\n    <g id=\"ytick_2\">\n     <g id=\"line2d_9\">\n      <g>\n       <use xlink:href=\"#m432ee7daa1\" x=\"43.78125\" y=\"237.176623\" style=\"stroke: #000000; stroke-width: 0.8\"/>\n      </g>\n     </g>\n     <g id=\"text_9\">\n      <!-- 0.5 -->\n      <g transform=\"translate(20.878125 240.975842)scale(0.1 -0.1)\">\n       <use xlink:href=\"#DejaVuSans-30\"/>\n       <use xlink:href=\"#DejaVuSans-2e\" x=\"63.623047\"/>\n       <use xlink:href=\"#DejaVuSans-35\" x=\"95.410156\"/>\n      </g>\n     </g>\n    </g>\n    <g id=\"ytick_3\">\n     <g id=\"line2d_10\">\n      <g>\n       <use xlink:href=\"#m432ee7daa1\" x=\"43.78125\" y=\"190.442808\" style=\"stroke: #000000; stroke-width: 0.8\"/>\n      </g>\n     </g>\n     <g id=\"text_10\">\n      <!-- 1.0 -->\n      <g transform=\"translate(20.878125 194.242027)scale(0.1 -0.1)\">\n       <use xlink:href=\"#DejaVuSans-31\"/>\n       <use xlink:href=\"#DejaVuSans-2e\" x=\"63.623047\"/>\n       <use xlink:href=\"#DejaVuSans-30\" x=\"95.410156\"/>\n      </g>\n     </g>\n    </g>\n    <g id=\"ytick_4\">\n     <g id=\"line2d_11\">\n      <g>\n       <use xlink:href=\"#m432ee7daa1\" x=\"43.78125\" y=\"143.708994\" style=\"stroke: #000000; stroke-width: 0.8\"/>\n      </g>\n     </g>\n     <g id=\"text_11\">\n      <!-- 1.5 -->\n      <g transform=\"translate(20.878125 147.508213)scale(0.1 -0.1)\">\n       <use xlink:href=\"#DejaVuSans-31\"/>\n       <use xlink:href=\"#DejaVuSans-2e\" x=\"63.623047\"/>\n       <use xlink:href=\"#DejaVuSans-35\" x=\"95.410156\"/>\n      </g>\n     </g>\n    </g>\n    <g id=\"ytick_5\">\n     <g id=\"line2d_12\">\n      <g>\n       <use xlink:href=\"#m432ee7daa1\" x=\"43.78125\" y=\"96.975179\" style=\"stroke: #000000; stroke-width: 0.8\"/>\n      </g>\n     </g>\n     <g id=\"text_12\">\n      <!-- 2.0 -->\n      <g transform=\"translate(20.878125 100.774398)scale(0.1 -0.1)\">\n       <use xlink:href=\"#DejaVuSans-32\"/>\n       <use xlink:href=\"#DejaVuSans-2e\" x=\"63.623047\"/>\n       <use xlink:href=\"#DejaVuSans-30\" x=\"95.410156\"/>\n      </g>\n     </g>\n    </g>\n    <g id=\"ytick_6\">\n     <g id=\"line2d_13\">\n      <g>\n       <use xlink:href=\"#m432ee7daa1\" x=\"43.78125\" y=\"50.241365\" style=\"stroke: #000000; stroke-width: 0.8\"/>\n      </g>\n     </g>\n     <g id=\"text_13\">\n      <!-- 2.5 -->\n      <g transform=\"translate(20.878125 54.040583)scale(0.1 -0.1)\">\n       <use xlink:href=\"#DejaVuSans-32\"/>\n       <use xlink:href=\"#DejaVuSans-2e\" x=\"63.623047\"/>\n       <use xlink:href=\"#DejaVuSans-35\" x=\"95.410156\"/>\n      </g>\n     </g>\n    </g>\n    <g id=\"text_14\">\n     <!-- Frequency -->\n     <g transform=\"translate(14.798438 176.684125)rotate(-90)scale(0.1 -0.1)\">\n      <defs>\n       <path id=\"DejaVuSans-46\" d=\"M 628 4666 \nL 3309 4666 \nL 3309 4134 \nL 1259 4134 \nL 1259 2759 \nL 3109 2759 \nL 3109 2228 \nL 1259 2228 \nL 1259 0 \nL 628 0 \nL 628 4666 \nz\n\" transform=\"scale(0.015625)\"/>\n       <path id=\"DejaVuSans-72\" d=\"M 2631 2963 \nQ 2534 3019 2420 3045 \nQ 2306 3072 2169 3072 \nQ 1681 3072 1420 2755 \nQ 1159 2438 1159 1844 \nL 1159 0 \nL 581 0 \nL 581 3500 \nL 1159 3500 \nL 1159 2956 \nQ 1341 3275 1631 3429 \nQ 1922 3584 2338 3584 \nQ 2397 3584 2469 3576 \nQ 2541 3569 2628 3553 \nL 2631 2963 \nz\n\" transform=\"scale(0.015625)\"/>\n       <path id=\"DejaVuSans-65\" d=\"M 3597 1894 \nL 3597 1613 \nL 953 1613 \nQ 991 1019 1311 708 \nQ 1631 397 2203 397 \nQ 2534 397 2845 478 \nQ 3156 559 3463 722 \nL 3463 178 \nQ 3153 47 2828 -22 \nQ 2503 -91 2169 -91 \nQ 1331 -91 842 396 \nQ 353 884 353 1716 \nQ 353 2575 817 3079 \nQ 1281 3584 2069 3584 \nQ 2775 3584 3186 3129 \nQ 3597 2675 3597 1894 \nz\nM 3022 2063 \nQ 3016 2534 2758 2815 \nQ 2500 3097 2075 3097 \nQ 1594 3097 1305 2825 \nQ 1016 2553 972 2059 \nL 3022 2063 \nz\n\" transform=\"scale(0.015625)\"/>\n       <path id=\"DejaVuSans-71\" d=\"M 947 1747 \nQ 947 1113 1208 752 \nQ 1469 391 1925 391 \nQ 2381 391 2643 752 \nQ 2906 1113 2906 1747 \nQ 2906 2381 2643 2742 \nQ 2381 3103 1925 3103 \nQ 1469 3103 1208 2742 \nQ 947 2381 947 1747 \nz\nM 2906 525 \nQ 2725 213 2448 61 \nQ 2172 -91 1784 -91 \nQ 1150 -91 751 415 \nQ 353 922 353 1747 \nQ 353 2572 751 3078 \nQ 1150 3584 1784 3584 \nQ 2172 3584 2448 3432 \nQ 2725 3281 2906 2969 \nL 2906 3500 \nL 3481 3500 \nL 3481 -1331 \nL 2906 -1331 \nL 2906 525 \nz\n\" transform=\"scale(0.015625)\"/>\n       <path id=\"DejaVuSans-75\" d=\"M 544 1381 \nL 544 3500 \nL 1119 3500 \nL 1119 1403 \nQ 1119 906 1312 657 \nQ 1506 409 1894 409 \nQ 2359 409 2629 706 \nQ 2900 1003 2900 1516 \nL 2900 3500 \nL 3475 3500 \nL 3475 0 \nL 2900 0 \nL 2900 538 \nQ 2691 219 2414 64 \nQ 2138 -91 1772 -91 \nQ 1169 -91 856 284 \nQ 544 659 544 1381 \nz\nM 1991 3584 \nL 1991 3584 \nz\n\" transform=\"scale(0.015625)\"/>\n       <path id=\"DejaVuSans-6e\" d=\"M 3513 2113 \nL 3513 0 \nL 2938 0 \nL 2938 2094 \nQ 2938 2591 2744 2837 \nQ 2550 3084 2163 3084 \nQ 1697 3084 1428 2787 \nQ 1159 2491 1159 1978 \nL 1159 0 \nL 581 0 \nL 581 3500 \nL 1159 3500 \nL 1159 2956 \nQ 1366 3272 1645 3428 \nQ 1925 3584 2291 3584 \nQ 2894 3584 3203 3211 \nQ 3513 2838 3513 2113 \nz\n\" transform=\"scale(0.015625)\"/>\n       <path id=\"DejaVuSans-63\" d=\"M 3122 3366 \nL 3122 2828 \nQ 2878 2963 2633 3030 \nQ 2388 3097 2138 3097 \nQ 1578 3097 1268 2742 \nQ 959 2388 959 1747 \nQ 959 1106 1268 751 \nQ 1578 397 2138 397 \nQ 2388 397 2633 464 \nQ 2878 531 3122 666 \nL 3122 134 \nQ 2881 22 2623 -34 \nQ 2366 -91 2075 -91 \nQ 1284 -91 818 406 \nQ 353 903 353 1747 \nQ 353 2603 823 3093 \nQ 1294 3584 2113 3584 \nQ 2378 3584 2631 3529 \nQ 2884 3475 3122 3366 \nz\n\" transform=\"scale(0.015625)\"/>\n       <path id=\"DejaVuSans-79\" d=\"M 2059 -325 \nQ 1816 -950 1584 -1140 \nQ 1353 -1331 966 -1331 \nL 506 -1331 \nL 506 -850 \nL 844 -850 \nQ 1081 -850 1212 -737 \nQ 1344 -625 1503 -206 \nL 1606 56 \nL 191 3500 \nL 800 3500 \nL 1894 763 \nL 2988 3500 \nL 3597 3500 \nL 2059 -325 \nz\n\" transform=\"scale(0.015625)\"/>\n      </defs>\n      <use xlink:href=\"#DejaVuSans-46\"/>\n      <use xlink:href=\"#DejaVuSans-72\" x=\"50.269531\"/>\n      <use xlink:href=\"#DejaVuSans-65\" x=\"89.132812\"/>\n      <use xlink:href=\"#DejaVuSans-71\" x=\"150.65625\"/>\n      <use xlink:href=\"#DejaVuSans-75\" x=\"214.132812\"/>\n      <use xlink:href=\"#DejaVuSans-65\" x=\"277.511719\"/>\n      <use xlink:href=\"#DejaVuSans-6e\" x=\"339.035156\"/>\n      <use xlink:href=\"#DejaVuSans-63\" x=\"402.414062\"/>\n      <use xlink:href=\"#DejaVuSans-79\" x=\"457.394531\"/>\n     </g>\n    </g>\n    <g id=\"text_15\">\n     <!-- 1e6 -->\n     <g transform=\"translate(43.78125 14.798437)scale(0.1 -0.1)\">\n      <defs>\n       <path id=\"DejaVuSans-36\" d=\"M 2113 2584 \nQ 1688 2584 1439 2293 \nQ 1191 2003 1191 1497 \nQ 1191 994 1439 701 \nQ 1688 409 2113 409 \nQ 2538 409 2786 701 \nQ 3034 994 3034 1497 \nQ 3034 2003 2786 2293 \nQ 2538 2584 2113 2584 \nz\nM 3366 4563 \nL 3366 3988 \nQ 3128 4100 2886 4159 \nQ 2644 4219 2406 4219 \nQ 1781 4219 1451 3797 \nQ 1122 3375 1075 2522 \nQ 1259 2794 1537 2939 \nQ 1816 3084 2150 3084 \nQ 2853 3084 3261 2657 \nQ 3669 2231 3669 1497 \nQ 3669 778 3244 343 \nQ 2819 -91 2113 -91 \nQ 1303 -91 875 529 \nQ 447 1150 447 2328 \nQ 447 3434 972 4092 \nQ 1497 4750 2381 4750 \nQ 2619 4750 2861 4703 \nQ 3103 4656 3366 4563 \nz\n\" transform=\"scale(0.015625)\"/>\n      </defs>\n      <use xlink:href=\"#DejaVuSans-31\"/>\n      <use xlink:href=\"#DejaVuSans-65\" x=\"63.623047\"/>\n      <use xlink:href=\"#DejaVuSans-36\" x=\"125.146484\"/>\n     </g>\n    </g>\n   </g>\n   <g id=\"patch_13\">\n    <path d=\"M 43.78125 283.910437 \nL 43.78125 17.798437 \n\" style=\"fill: none; stroke: #000000; stroke-width: 0.8; stroke-linejoin: miter; stroke-linecap: square\"/>\n   </g>\n   <g id=\"patch_14\">\n    <path d=\"M 400.90125 283.910437 \nL 400.90125 17.798437 \n\" style=\"fill: none; stroke: #000000; stroke-width: 0.8; stroke-linejoin: miter; stroke-linecap: square\"/>\n   </g>\n   <g id=\"patch_15\">\n    <path d=\"M 43.78125 283.910437 \nL 400.90125 283.910437 \n\" style=\"fill: none; stroke: #000000; stroke-width: 0.8; stroke-linejoin: miter; stroke-linecap: square\"/>\n   </g>\n   <g id=\"patch_16\">\n    <path d=\"M 43.78125 17.798437 \nL 400.90125 17.798437 \n\" style=\"fill: none; stroke: #000000; stroke-width: 0.8; stroke-linejoin: miter; stroke-linecap: square\"/>\n   </g>\n  </g>\n </g>\n <defs>\n  <clipPath id=\"pecbaeb5e77\">\n   <rect x=\"43.78125\" y=\"17.798437\" width=\"357.12\" height=\"266.112\"/>\n  </clipPath>\n </defs>\n</svg>\n",
      "image/png": "[encoded data removed]"
     },
     "metadata": {}
    }
   ],
   "source": [
    "nyc_2016_2022['fare_amount'].plot.hist()"
   ]
  },
  {
   "cell_type": "code",
   "execution_count": 23,
   "metadata": {},
   "outputs": [
    {
     "output_type": "error",
     "ename": "SyntaxError",
     "evalue": "unmatched ']' (469657466.py, line 1)",
     "traceback": [
      "\u001b[0;36m  File \u001b[0;32m\"/var/folders/2j/bxxf9hq56cs1rnbn0lhwndg40000gn/T/ipykernel_26258/469657466.py\"\u001b[0;36m, line \u001b[0;32m1\u001b[0m\n\u001b[0;31m    nyc_2016_2022[nyc_2016_2022['fare_amount'] < 50].index].plot.hist(bins = 20)\u001b[0m\n\u001b[0m                                                          ^\u001b[0m\n\u001b[0;31mSyntaxError\u001b[0m\u001b[0;31m:\u001b[0m unmatched ']'\n"
     ]
    }
   ],
   "source": [
    "nyc_2016_2022[[nyc_2016_2022['fare_amount'] < 50].index].plot.hist(bins = 20)"
   ]
  },
  {
   "cell_type": "code",
   "execution_count": null,
   "metadata": {},
   "outputs": [],
   "source": []
  }
 ]
}