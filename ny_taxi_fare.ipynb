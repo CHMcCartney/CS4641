{
 "metadata": {
  "language_info": {
   "codemirror_mode": {
    "name": "ipython",
    "version": 3
   },
   "file_extension": ".py",
   "mimetype": "text/x-python",
   "name": "python",
   "nbconvert_exporter": "python",
   "pygments_lexer": "ipython3",
   "version": "3.9.13-final"
  },
  "orig_nbformat": 2,
  "kernelspec": {
   "name": "python3",
   "display_name": "Python 3 (ipykernel)",
   "language": "python"
  }
 },
 "nbformat": 4,
 "nbformat_minor": 2,
 "cells": [
  {
   "cell_type": "code",
   "execution_count": 1,
   "metadata": {},
   "outputs": [],
   "source": [
    "import numpy as np\n",
    "import pandas as pd\n",
    "import matplotlib.pyplot as plt\n",
    "import seaborn as sns\n",
    "import random"
   ]
  },
  {
   "cell_type": "code",
   "execution_count": 2,
   "metadata": {},
   "outputs": [],
   "source": [
    "kaggle_dataset = pd.read_csv('data/taxi_trip_data.csv', nrows = 15_000_000)"
   ]
  },
  {
   "cell_type": "code",
   "execution_count": 4,
   "metadata": {},
   "outputs": [
    {
     "output_type": "execute_result",
     "data": {
      "text/plain": [
       "   vendor_id      pickup_datetime     dropoff_datetime  passenger_count  \\\n",
       "0          2  2018-03-29 13:37:13  2018-03-29 14:17:01                1   \n",
       "1          2  2018-03-29 13:37:18  2018-03-29 14:15:33                1   \n",
       "2          2  2018-03-29 13:26:57  2018-03-29 13:28:03                1   \n",
       "3          2  2018-03-29 13:07:48  2018-03-29 14:03:05                2   \n",
       "4          2  2018-03-29 14:19:11  2018-03-29 15:19:59                5   \n",
       "\n",
       "   trip_distance  rate_code store_and_fwd_flag  payment_type  fare_amount  \\\n",
       "0          18.15          3                  N             1         70.0   \n",
       "1           4.59          1                  N             1         25.0   \n",
       "2           0.30          1                  N             1          3.0   \n",
       "3          16.97          1                  N             1         49.5   \n",
       "4          14.45          1                  N             1         45.5   \n",
       "\n",
       "   extra  mta_tax  tip_amount  tolls_amount  imp_surcharge  total_amount  \\\n",
       "0    0.0      0.0       16.16         10.50            0.3         96.96   \n",
       "1    0.0      0.5        5.16          0.00            0.3         30.96   \n",
       "2    0.0      0.5        0.76          0.00            0.3          4.56   \n",
       "3    0.0      0.5        5.61          5.76            0.3         61.67   \n",
       "4    0.0      0.5       10.41          5.76            0.3         62.47   \n",
       "\n",
       "   pickup_location_id  dropoff_location_id  \n",
       "0                 161                    1  \n",
       "1                  13                  230  \n",
       "2                 231                  231  \n",
       "3                 231                  138  \n",
       "4                  87                  138  "
      ],
      "text/html": "<div>\n<style scoped>\n    .dataframe tbody tr th:only-of-type {\n        vertical-align: middle;\n    }\n\n    .dataframe tbody tr th {\n        vertical-align: top;\n    }\n\n    .dataframe thead th {\n        text-align: right;\n    }\n</style>\n<table border=\"1\" class=\"dataframe\">\n  <thead>\n    <tr style=\"text-align: right;\">\n      <th></th>\n      <th>vendor_id</th>\n      <th>pickup_datetime</th>\n      <th>dropoff_datetime</th>\n      <th>passenger_count</th>\n      <th>trip_distance</th>\n      <th>rate_code</th>\n      <th>store_and_fwd_flag</th>\n      <th>payment_type</th>\n      <th>fare_amount</th>\n      <th>extra</th>\n      <th>mta_tax</th>\n      <th>tip_amount</th>\n      <th>tolls_amount</th>\n      <th>imp_surcharge</th>\n      <th>total_amount</th>\n      <th>pickup_location_id</th>\n      <th>dropoff_location_id</th>\n    </tr>\n  </thead>\n  <tbody>\n    <tr>\n      <th>0</th>\n      <td>2</td>\n      <td>2018-03-29 13:37:13</td>\n      <td>2018-03-29 14:17:01</td>\n      <td>1</td>\n      <td>18.15</td>\n      <td>3</td>\n      <td>N</td>\n      <td>1</td>\n      <td>70.0</td>\n      <td>0.0</td>\n      <td>0.0</td>\n      <td>16.16</td>\n      <td>10.50</td>\n      <td>0.3</td>\n      <td>96.96</td>\n      <td>161</td>\n      <td>1</td>\n    </tr>\n    <tr>\n      <th>1</th>\n      <td>2</td>\n      <td>2018-03-29 13:37:18</td>\n      <td>2018-03-29 14:15:33</td>\n      <td>1</td>\n      <td>4.59</td>\n      <td>1</td>\n      <td>N</td>\n      <td>1</td>\n      <td>25.0</td>\n      <td>0.0</td>\n      <td>0.5</td>\n      <td>5.16</td>\n      <td>0.00</td>\n      <td>0.3</td>\n      <td>30.96</td>\n      <td>13</td>\n      <td>230</td>\n    </tr>\n    <tr>\n      <th>2</th>\n      <td>2</td>\n      <td>2018-03-29 13:26:57</td>\n      <td>2018-03-29 13:28:03</td>\n      <td>1</td>\n      <td>0.30</td>\n      <td>1</td>\n      <td>N</td>\n      <td>1</td>\n      <td>3.0</td>\n      <td>0.0</td>\n      <td>0.5</td>\n      <td>0.76</td>\n      <td>0.00</td>\n      <td>0.3</td>\n      <td>4.56</td>\n      <td>231</td>\n      <td>231</td>\n    </tr>\n    <tr>\n      <th>3</th>\n      <td>2</td>\n      <td>2018-03-29 13:07:48</td>\n      <td>2018-03-29 14:03:05</td>\n      <td>2</td>\n      <td>16.97</td>\n      <td>1</td>\n      <td>N</td>\n      <td>1</td>\n      <td>49.5</td>\n      <td>0.0</td>\n      <td>0.5</td>\n      <td>5.61</td>\n      <td>5.76</td>\n      <td>0.3</td>\n      <td>61.67</td>\n      <td>231</td>\n      <td>138</td>\n    </tr>\n    <tr>\n      <th>4</th>\n      <td>2</td>\n      <td>2018-03-29 14:19:11</td>\n      <td>2018-03-29 15:19:59</td>\n      <td>5</td>\n      <td>14.45</td>\n      <td>1</td>\n      <td>N</td>\n      <td>1</td>\n      <td>45.5</td>\n      <td>0.0</td>\n      <td>0.5</td>\n      <td>10.41</td>\n      <td>5.76</td>\n      <td>0.3</td>\n      <td>62.47</td>\n      <td>87</td>\n      <td>138</td>\n    </tr>\n  </tbody>\n</table>\n</div>"
     },
     "metadata": {},
     "execution_count": 4
    }
   ],
   "source": [
    "kaggle_dataset.head()"
   ]
  },
  {
   "cell_type": "code",
   "execution_count": 7,
   "metadata": {},
   "outputs": [
    {
     "output_type": "execute_result",
     "data": {
      "text/plain": [
       "vendor_id                int64\n",
       "pickup_datetime         object\n",
       "dropoff_datetime        object\n",
       "passenger_count          int64\n",
       "trip_distance          float64\n",
       "rate_code                int64\n",
       "store_and_fwd_flag      object\n",
       "payment_type             int64\n",
       "fare_amount            float64\n",
       "extra                  float64\n",
       "mta_tax                float64\n",
       "tip_amount             float64\n",
       "tolls_amount           float64\n",
       "imp_surcharge          float64\n",
       "total_amount           float64\n",
       "pickup_location_id       int64\n",
       "dropoff_location_id      int64\n",
       "dtype: object"
      ]
     },
     "metadata": {},
     "execution_count": 7
    }
   ],
   "source": [
    "kaggle_dataset.dtypes"
   ]
  },
  {
   "cell_type": "code",
   "execution_count": 59,
   "metadata": {},
   "outputs": [
    {
     "output_type": "error",
     "ename": "KeyboardInterrupt",
     "evalue": "",
     "traceback": [
      "\u001b[0;31m---------------------------------------------------------------------------\u001b[0m",
      "\u001b[0;31mKeyboardInterrupt\u001b[0m                         Traceback (most recent call last)",
      "Cell \u001b[0;32mIn[59], line 2\u001b[0m\n\u001b[1;32m      1\u001b[0m \u001b[38;5;66;03m# read entire dataset (~40gb)\u001b[39;00m\n\u001b[0;32m----> 2\u001b[0m nyc_2016_2022 \u001b[38;5;241m=\u001b[39m \u001b[43mpd\u001b[49m\u001b[38;5;241;43m.\u001b[39;49m\u001b[43mread_csv\u001b[49m\u001b[43m(\u001b[49m\u001b[38;5;124;43m'\u001b[39;49m\u001b[38;5;124;43mdata/nyc_taxi_data_2016_2022.csv\u001b[39;49m\u001b[38;5;124;43m'\u001b[39;49m\u001b[43m)\u001b[49m\n",
      "File \u001b[0;32m~/opt/anaconda3/lib/python3.9/site-packages/pandas/util/_decorators.py:211\u001b[0m, in \u001b[0;36mdeprecate_kwarg.<locals>._deprecate_kwarg.<locals>.wrapper\u001b[0;34m(*args, **kwargs)\u001b[0m\n\u001b[1;32m    209\u001b[0m     \u001b[38;5;28;01melse\u001b[39;00m:\n\u001b[1;32m    210\u001b[0m         kwargs[new_arg_name] \u001b[38;5;241m=\u001b[39m new_arg_value\n\u001b[0;32m--> 211\u001b[0m \u001b[38;5;28;01mreturn\u001b[39;00m \u001b[43mfunc\u001b[49m\u001b[43m(\u001b[49m\u001b[38;5;241;43m*\u001b[39;49m\u001b[43margs\u001b[49m\u001b[43m,\u001b[49m\u001b[43m \u001b[49m\u001b[38;5;241;43m*\u001b[39;49m\u001b[38;5;241;43m*\u001b[39;49m\u001b[43mkwargs\u001b[49m\u001b[43m)\u001b[49m\n",
      "File \u001b[0;32m~/opt/anaconda3/lib/python3.9/site-packages/pandas/util/_decorators.py:331\u001b[0m, in \u001b[0;36mdeprecate_nonkeyword_arguments.<locals>.decorate.<locals>.wrapper\u001b[0;34m(*args, **kwargs)\u001b[0m\n\u001b[1;32m    325\u001b[0m \u001b[38;5;28;01mif\u001b[39;00m \u001b[38;5;28mlen\u001b[39m(args) \u001b[38;5;241m>\u001b[39m num_allow_args:\n\u001b[1;32m    326\u001b[0m     warnings\u001b[38;5;241m.\u001b[39mwarn(\n\u001b[1;32m    327\u001b[0m         msg\u001b[38;5;241m.\u001b[39mformat(arguments\u001b[38;5;241m=\u001b[39m_format_argument_list(allow_args)),\n\u001b[1;32m    328\u001b[0m         \u001b[38;5;167;01mFutureWarning\u001b[39;00m,\n\u001b[1;32m    329\u001b[0m         stacklevel\u001b[38;5;241m=\u001b[39mfind_stack_level(),\n\u001b[1;32m    330\u001b[0m     )\n\u001b[0;32m--> 331\u001b[0m \u001b[38;5;28;01mreturn\u001b[39;00m \u001b[43mfunc\u001b[49m\u001b[43m(\u001b[49m\u001b[38;5;241;43m*\u001b[39;49m\u001b[43margs\u001b[49m\u001b[43m,\u001b[49m\u001b[43m \u001b[49m\u001b[38;5;241;43m*\u001b[39;49m\u001b[38;5;241;43m*\u001b[39;49m\u001b[43mkwargs\u001b[49m\u001b[43m)\u001b[49m\n",
      "File \u001b[0;32m~/opt/anaconda3/lib/python3.9/site-packages/pandas/io/parsers/readers.py:950\u001b[0m, in \u001b[0;36mread_csv\u001b[0;34m(filepath_or_buffer, sep, delimiter, header, names, index_col, usecols, squeeze, prefix, mangle_dupe_cols, dtype, engine, converters, true_values, false_values, skipinitialspace, skiprows, skipfooter, nrows, na_values, keep_default_na, na_filter, verbose, skip_blank_lines, parse_dates, infer_datetime_format, keep_date_col, date_parser, dayfirst, cache_dates, iterator, chunksize, compression, thousands, decimal, lineterminator, quotechar, quoting, doublequote, escapechar, comment, encoding, encoding_errors, dialect, error_bad_lines, warn_bad_lines, on_bad_lines, delim_whitespace, low_memory, memory_map, float_precision, storage_options)\u001b[0m\n\u001b[1;32m    935\u001b[0m kwds_defaults \u001b[38;5;241m=\u001b[39m _refine_defaults_read(\n\u001b[1;32m    936\u001b[0m     dialect,\n\u001b[1;32m    937\u001b[0m     delimiter,\n\u001b[0;32m   (...)\u001b[0m\n\u001b[1;32m    946\u001b[0m     defaults\u001b[38;5;241m=\u001b[39m{\u001b[38;5;124m\"\u001b[39m\u001b[38;5;124mdelimiter\u001b[39m\u001b[38;5;124m\"\u001b[39m: \u001b[38;5;124m\"\u001b[39m\u001b[38;5;124m,\u001b[39m\u001b[38;5;124m\"\u001b[39m},\n\u001b[1;32m    947\u001b[0m )\n\u001b[1;32m    948\u001b[0m kwds\u001b[38;5;241m.\u001b[39mupdate(kwds_defaults)\n\u001b[0;32m--> 950\u001b[0m \u001b[38;5;28;01mreturn\u001b[39;00m \u001b[43m_read\u001b[49m\u001b[43m(\u001b[49m\u001b[43mfilepath_or_buffer\u001b[49m\u001b[43m,\u001b[49m\u001b[43m \u001b[49m\u001b[43mkwds\u001b[49m\u001b[43m)\u001b[49m\n",
      "File \u001b[0;32m~/opt/anaconda3/lib/python3.9/site-packages/pandas/io/parsers/readers.py:611\u001b[0m, in \u001b[0;36m_read\u001b[0;34m(filepath_or_buffer, kwds)\u001b[0m\n\u001b[1;32m    608\u001b[0m     \u001b[38;5;28;01mreturn\u001b[39;00m parser\n\u001b[1;32m    610\u001b[0m \u001b[38;5;28;01mwith\u001b[39;00m parser:\n\u001b[0;32m--> 611\u001b[0m     \u001b[38;5;28;01mreturn\u001b[39;00m \u001b[43mparser\u001b[49m\u001b[38;5;241;43m.\u001b[39;49m\u001b[43mread\u001b[49m\u001b[43m(\u001b[49m\u001b[43mnrows\u001b[49m\u001b[43m)\u001b[49m\n",
      "File \u001b[0;32m~/opt/anaconda3/lib/python3.9/site-packages/pandas/io/parsers/readers.py:1778\u001b[0m, in \u001b[0;36mTextFileReader.read\u001b[0;34m(self, nrows)\u001b[0m\n\u001b[1;32m   1771\u001b[0m nrows \u001b[38;5;241m=\u001b[39m validate_integer(\u001b[38;5;124m\"\u001b[39m\u001b[38;5;124mnrows\u001b[39m\u001b[38;5;124m\"\u001b[39m, nrows)\n\u001b[1;32m   1772\u001b[0m \u001b[38;5;28;01mtry\u001b[39;00m:\n\u001b[1;32m   1773\u001b[0m     \u001b[38;5;66;03m# error: \"ParserBase\" has no attribute \"read\"\u001b[39;00m\n\u001b[1;32m   1774\u001b[0m     (\n\u001b[1;32m   1775\u001b[0m         index,\n\u001b[1;32m   1776\u001b[0m         columns,\n\u001b[1;32m   1777\u001b[0m         col_dict,\n\u001b[0;32m-> 1778\u001b[0m     ) \u001b[38;5;241m=\u001b[39m \u001b[38;5;28;43mself\u001b[39;49m\u001b[38;5;241;43m.\u001b[39;49m\u001b[43m_engine\u001b[49m\u001b[38;5;241;43m.\u001b[39;49m\u001b[43mread\u001b[49m\u001b[43m(\u001b[49m\u001b[43m  \u001b[49m\u001b[38;5;66;43;03m# type: ignore[attr-defined]\u001b[39;49;00m\n\u001b[1;32m   1779\u001b[0m \u001b[43m        \u001b[49m\u001b[43mnrows\u001b[49m\n\u001b[1;32m   1780\u001b[0m \u001b[43m    \u001b[49m\u001b[43m)\u001b[49m\n\u001b[1;32m   1781\u001b[0m \u001b[38;5;28;01mexcept\u001b[39;00m \u001b[38;5;167;01mException\u001b[39;00m:\n\u001b[1;32m   1782\u001b[0m     \u001b[38;5;28mself\u001b[39m\u001b[38;5;241m.\u001b[39mclose()\n",
      "File \u001b[0;32m~/opt/anaconda3/lib/python3.9/site-packages/pandas/io/parsers/c_parser_wrapper.py:230\u001b[0m, in \u001b[0;36mCParserWrapper.read\u001b[0;34m(self, nrows)\u001b[0m\n\u001b[1;32m    228\u001b[0m \u001b[38;5;28;01mtry\u001b[39;00m:\n\u001b[1;32m    229\u001b[0m     \u001b[38;5;28;01mif\u001b[39;00m \u001b[38;5;28mself\u001b[39m\u001b[38;5;241m.\u001b[39mlow_memory:\n\u001b[0;32m--> 230\u001b[0m         chunks \u001b[38;5;241m=\u001b[39m \u001b[38;5;28;43mself\u001b[39;49m\u001b[38;5;241;43m.\u001b[39;49m\u001b[43m_reader\u001b[49m\u001b[38;5;241;43m.\u001b[39;49m\u001b[43mread_low_memory\u001b[49m\u001b[43m(\u001b[49m\u001b[43mnrows\u001b[49m\u001b[43m)\u001b[49m\n\u001b[1;32m    231\u001b[0m         \u001b[38;5;66;03m# destructive to chunks\u001b[39;00m\n\u001b[1;32m    232\u001b[0m         data \u001b[38;5;241m=\u001b[39m _concatenate_chunks(chunks)\n",
      "File \u001b[0;32m~/opt/anaconda3/lib/python3.9/site-packages/pandas/_libs/parsers.pyx:808\u001b[0m, in \u001b[0;36mpandas._libs.parsers.TextReader.read_low_memory\u001b[0;34m()\u001b[0m\n",
      "File \u001b[0;32m~/opt/anaconda3/lib/python3.9/site-packages/pandas/_libs/parsers.pyx:890\u001b[0m, in \u001b[0;36mpandas._libs.parsers.TextReader._read_rows\u001b[0;34m()\u001b[0m\n",
      "File \u001b[0;32m~/opt/anaconda3/lib/python3.9/site-packages/pandas/_libs/parsers.pyx:1037\u001b[0m, in \u001b[0;36mpandas._libs.parsers.TextReader._convert_column_data\u001b[0;34m()\u001b[0m\n",
      "File \u001b[0;32m~/opt/anaconda3/lib/python3.9/site-packages/pandas/_libs/parsers.pyx:1083\u001b[0m, in \u001b[0;36mpandas._libs.parsers.TextReader._convert_tokens\u001b[0;34m()\u001b[0m\n",
      "File \u001b[0;32m~/opt/anaconda3/lib/python3.9/site-packages/pandas/_libs/parsers.pyx:1158\u001b[0m, in \u001b[0;36mpandas._libs.parsers.TextReader._convert_with_dtype\u001b[0;34m()\u001b[0m\n",
      "File \u001b[0;32m~/opt/anaconda3/lib/python3.9/site-packages/pandas/core/dtypes/common.py:1433\u001b[0m, in \u001b[0;36mis_extension_array_dtype\u001b[0;34m(arr_or_dtype)\u001b[0m\n\u001b[1;32m   1424\u001b[0m     \u001b[38;5;66;03m# Note: if other EA dtypes are ever held in HybridBlock, exclude those\u001b[39;00m\n\u001b[1;32m   1425\u001b[0m     \u001b[38;5;66;03m#  here too.\u001b[39;00m\n\u001b[1;32m   1426\u001b[0m     \u001b[38;5;66;03m# NB: need to check DatetimeTZDtype and not is_datetime64tz_dtype\u001b[39;00m\n\u001b[1;32m   1427\u001b[0m     \u001b[38;5;66;03m#  to exclude ArrowTimestampUSDtype\u001b[39;00m\n\u001b[1;32m   1428\u001b[0m     \u001b[38;5;28;01mreturn\u001b[39;00m \u001b[38;5;28misinstance\u001b[39m(dtype, ExtensionDtype) \u001b[38;5;129;01mand\u001b[39;00m \u001b[38;5;129;01mnot\u001b[39;00m \u001b[38;5;28misinstance\u001b[39m(\n\u001b[1;32m   1429\u001b[0m         dtype, (DatetimeTZDtype, PeriodDtype)\n\u001b[1;32m   1430\u001b[0m     )\n\u001b[0;32m-> 1433\u001b[0m \u001b[38;5;28;01mdef\u001b[39;00m \u001b[38;5;21mis_extension_array_dtype\u001b[39m(arr_or_dtype) \u001b[38;5;241m-\u001b[39m\u001b[38;5;241m>\u001b[39m \u001b[38;5;28mbool\u001b[39m:\n\u001b[1;32m   1434\u001b[0m     \u001b[38;5;124;03m\"\"\"\u001b[39;00m\n\u001b[1;32m   1435\u001b[0m \u001b[38;5;124;03m    Check if an object is a pandas extension array type.\u001b[39;00m\n\u001b[1;32m   1436\u001b[0m \n\u001b[0;32m   (...)\u001b[0m\n\u001b[1;32m   1476\u001b[0m \u001b[38;5;124;03m    False\u001b[39;00m\n\u001b[1;32m   1477\u001b[0m \u001b[38;5;124;03m    \"\"\"\u001b[39;00m\n\u001b[1;32m   1478\u001b[0m     dtype \u001b[38;5;241m=\u001b[39m \u001b[38;5;28mgetattr\u001b[39m(arr_or_dtype, \u001b[38;5;124m\"\u001b[39m\u001b[38;5;124mdtype\u001b[39m\u001b[38;5;124m\"\u001b[39m, arr_or_dtype)\n",
      "\u001b[0;31mKeyboardInterrupt\u001b[0m: "
     ]
    }
   ],
   "source": [
    "# read entire dataset (~40gb)\n",
    "nyc_2016_2022 = pd.read_csv('data/nyc_taxi_data_2016_2022.csv')"
   ]
  },
  {
   "cell_type": "code",
   "execution_count": 2,
   "metadata": {},
   "outputs": [],
   "source": [
    "# read random sample of dataset (about 5%)\n",
    "nyc_2016_2022 = pd.read_csv('data/nyc_taxi_data_2016_2022.csv', index_col = 0, header = 0, skiprows = lambda i: i > 0 and random.random() > 0.05)"
   ]
  },
  {
   "cell_type": "code",
   "execution_count": 3,
   "metadata": {},
   "outputs": [
    {
     "output_type": "execute_result",
     "data": {
      "text/plain": [
       "           VendorID tpep_pickup_datetime tpep_dropoff_datetime  \\\n",
       "Unnamed: 0                                                       \n",
       "13                1  2022-10-01 00:38:53   2022-10-01 00:48:13   \n",
       "56                1  2022-10-01 00:56:00   2022-10-01 01:01:00   \n",
       "75                2  2022-09-30 23:56:26   2022-10-01 00:06:06   \n",
       "94                2  2022-09-30 23:56:55   2022-10-01 00:01:19   \n",
       "99                1  2022-10-01 00:04:45   2022-10-01 00:20:23   \n",
       "\n",
       "           passenger_count trip_distance RatecodeID store_and_fwd_flag  \\\n",
       "Unnamed: 0                                                               \n",
       "13                     2.0           1.4        1.0                  N   \n",
       "56                     2.0           1.2        1.0                  N   \n",
       "75                     1.0           1.3        1.0                  N   \n",
       "94                     1.0          1.04        1.0                  N   \n",
       "99                     0.0           2.3        1.0                  N   \n",
       "\n",
       "           PULocationID DOLocationID payment_type fare_amount extra mta_tax  \\\n",
       "Unnamed: 0                                                                    \n",
       "13                  230           68            1         8.5   3.0     0.5   \n",
       "56                  142          239            1         6.0   3.0     0.5   \n",
       "75                  161           48            2         8.0   0.5     0.5   \n",
       "94                  239          151            1         5.5   0.5     0.5   \n",
       "99                   41           42            2        12.0   0.5     0.5   \n",
       "\n",
       "           tip_amount tolls_amount improvement_surcharge total_amount  \\\n",
       "Unnamed: 0                                                              \n",
       "13               3.05          0.0                   0.3        15.35   \n",
       "56                2.9          0.0                   0.3         12.7   \n",
       "75                0.0          0.0                   0.3         11.8   \n",
       "94               2.32          0.0                   0.3        11.62   \n",
       "99                0.0          0.0                   0.3         13.3   \n",
       "\n",
       "           congestion_surcharge airport_fee  \n",
       "Unnamed: 0                                   \n",
       "13                          2.5         0.0  \n",
       "56                          2.5         0.0  \n",
       "75                          2.5         0.0  \n",
       "94                          2.5         0.0  \n",
       "99                          0.0         0.0  "
      ],
      "text/html": "<div>\n<style scoped>\n    .dataframe tbody tr th:only-of-type {\n        vertical-align: middle;\n    }\n\n    .dataframe tbody tr th {\n        vertical-align: top;\n    }\n\n    .dataframe thead th {\n        text-align: right;\n    }\n</style>\n<table border=\"1\" class=\"dataframe\">\n  <thead>\n    <tr style=\"text-align: right;\">\n      <th></th>\n      <th>VendorID</th>\n      <th>tpep_pickup_datetime</th>\n      <th>tpep_dropoff_datetime</th>\n      <th>passenger_count</th>\n      <th>trip_distance</th>\n      <th>RatecodeID</th>\n      <th>store_and_fwd_flag</th>\n      <th>PULocationID</th>\n      <th>DOLocationID</th>\n      <th>payment_type</th>\n      <th>fare_amount</th>\n      <th>extra</th>\n      <th>mta_tax</th>\n      <th>tip_amount</th>\n      <th>tolls_amount</th>\n      <th>improvement_surcharge</th>\n      <th>total_amount</th>\n      <th>congestion_surcharge</th>\n      <th>airport_fee</th>\n    </tr>\n    <tr>\n      <th>Unnamed: 0</th>\n      <th></th>\n      <th></th>\n      <th></th>\n      <th></th>\n      <th></th>\n      <th></th>\n      <th></th>\n      <th></th>\n      <th></th>\n      <th></th>\n      <th></th>\n      <th></th>\n      <th></th>\n      <th></th>\n      <th></th>\n      <th></th>\n      <th></th>\n      <th></th>\n      <th></th>\n    </tr>\n  </thead>\n  <tbody>\n    <tr>\n      <th>13</th>\n      <td>1</td>\n      <td>2022-10-01 00:38:53</td>\n      <td>2022-10-01 00:48:13</td>\n      <td>2.0</td>\n      <td>1.4</td>\n      <td>1.0</td>\n      <td>N</td>\n      <td>230</td>\n      <td>68</td>\n      <td>1</td>\n      <td>8.5</td>\n      <td>3.0</td>\n      <td>0.5</td>\n      <td>3.05</td>\n      <td>0.0</td>\n      <td>0.3</td>\n      <td>15.35</td>\n      <td>2.5</td>\n      <td>0.0</td>\n    </tr>\n    <tr>\n      <th>56</th>\n      <td>1</td>\n      <td>2022-10-01 00:56:00</td>\n      <td>2022-10-01 01:01:00</td>\n      <td>2.0</td>\n      <td>1.2</td>\n      <td>1.0</td>\n      <td>N</td>\n      <td>142</td>\n      <td>239</td>\n      <td>1</td>\n      <td>6.0</td>\n      <td>3.0</td>\n      <td>0.5</td>\n      <td>2.9</td>\n      <td>0.0</td>\n      <td>0.3</td>\n      <td>12.7</td>\n      <td>2.5</td>\n      <td>0.0</td>\n    </tr>\n    <tr>\n      <th>75</th>\n      <td>2</td>\n      <td>2022-09-30 23:56:26</td>\n      <td>2022-10-01 00:06:06</td>\n      <td>1.0</td>\n      <td>1.3</td>\n      <td>1.0</td>\n      <td>N</td>\n      <td>161</td>\n      <td>48</td>\n      <td>2</td>\n      <td>8.0</td>\n      <td>0.5</td>\n      <td>0.5</td>\n      <td>0.0</td>\n      <td>0.0</td>\n      <td>0.3</td>\n      <td>11.8</td>\n      <td>2.5</td>\n      <td>0.0</td>\n    </tr>\n    <tr>\n      <th>94</th>\n      <td>2</td>\n      <td>2022-09-30 23:56:55</td>\n      <td>2022-10-01 00:01:19</td>\n      <td>1.0</td>\n      <td>1.04</td>\n      <td>1.0</td>\n      <td>N</td>\n      <td>239</td>\n      <td>151</td>\n      <td>1</td>\n      <td>5.5</td>\n      <td>0.5</td>\n      <td>0.5</td>\n      <td>2.32</td>\n      <td>0.0</td>\n      <td>0.3</td>\n      <td>11.62</td>\n      <td>2.5</td>\n      <td>0.0</td>\n    </tr>\n    <tr>\n      <th>99</th>\n      <td>1</td>\n      <td>2022-10-01 00:04:45</td>\n      <td>2022-10-01 00:20:23</td>\n      <td>0.0</td>\n      <td>2.3</td>\n      <td>1.0</td>\n      <td>N</td>\n      <td>41</td>\n      <td>42</td>\n      <td>2</td>\n      <td>12.0</td>\n      <td>0.5</td>\n      <td>0.5</td>\n      <td>0.0</td>\n      <td>0.0</td>\n      <td>0.3</td>\n      <td>13.3</td>\n      <td>0.0</td>\n      <td>0.0</td>\n    </tr>\n  </tbody>\n</table>\n</div>"
     },
     "metadata": {},
     "execution_count": 3
    }
   ],
   "source": [
    "# read first few tows\n",
    "nyc_2016_2022.head()"
   ]
  },
  {
   "cell_type": "code",
   "execution_count": 4,
   "metadata": {},
   "outputs": [
    {
     "output_type": "execute_result",
     "data": {
      "text/plain": [
       "VendorID                 object\n",
       "tpep_pickup_datetime     object\n",
       "tpep_dropoff_datetime    object\n",
       "passenger_count          object\n",
       "trip_distance            object\n",
       "RatecodeID               object\n",
       "store_and_fwd_flag       object\n",
       "PULocationID             object\n",
       "DOLocationID             object\n",
       "payment_type             object\n",
       "fare_amount              object\n",
       "extra                    object\n",
       "mta_tax                  object\n",
       "tip_amount               object\n",
       "tolls_amount             object\n",
       "improvement_surcharge    object\n",
       "total_amount             object\n",
       "congestion_surcharge     object\n",
       "airport_fee              object\n",
       "dtype: object"
      ]
     },
     "metadata": {},
     "execution_count": 4
    }
   ],
   "source": [
    "# check datatypes\n",
    "nyc_2016_2022.dtypes"
   ]
  },
  {
   "cell_type": "code",
   "execution_count": 5,
   "metadata": {},
   "outputs": [
    {
     "output_type": "execute_result",
     "data": {
      "text/plain": [
       "DOLocationID             0.000000\n",
       "PULocationID             0.000000\n",
       "RatecodeID               0.009904\n",
       "VendorID                 0.000000\n",
       "airport_fee              0.851999\n",
       "congestion_surcharge     0.588224\n",
       "extra                    0.000000\n",
       "fare_amount              0.000000\n",
       "improvement_surcharge    0.000000\n",
       "mta_tax                  0.000000\n",
       "passenger_count          0.009904\n",
       "payment_type             0.000000\n",
       "store_and_fwd_flag       0.009904\n",
       "tip_amount               0.000000\n",
       "tolls_amount             0.000000\n",
       "total_amount             0.000000\n",
       "tpep_dropoff_datetime    0.000000\n",
       "tpep_pickup_datetime     0.000000\n",
       "trip_distance            0.000000\n",
       "dtype: float64"
      ]
     },
     "metadata": {},
     "execution_count": 5
    }
   ],
   "source": [
    "# find null columns\n",
    "nyc_2016_2022.isnull().sum().sort_index()/len(nyc_2016_2022)"
   ]
  },
  {
   "cell_type": "code",
   "execution_count": 9,
   "metadata": {},
   "outputs": [
    {
     "output_type": "execute_result",
     "data": {
      "text/plain": [
       "           VendorID tpep_pickup_datetime tpep_dropoff_datetime  \\\n",
       "Unnamed: 0                                                       \n",
       "13                1  2022-10-01 00:38:53   2022-10-01 00:48:13   \n",
       "56                1  2022-10-01 00:56:00   2022-10-01 01:01:00   \n",
       "75                2  2022-09-30 23:56:26   2022-10-01 00:06:06   \n",
       "94                2  2022-09-30 23:56:55   2022-10-01 00:01:19   \n",
       "99                1  2022-10-01 00:04:45   2022-10-01 00:20:23   \n",
       "...             ...                  ...                   ...   \n",
       "2820931           2  2021-09-30 23:37:13   2021-09-30 23:41:23   \n",
       "2820937           2  2021-09-30 23:16:18   2021-09-30 23:38:27   \n",
       "169930            1  2020-11-04 17:53:18   2020-11-04 17:58:48   \n",
       "176194            1  2020-11-04 19:13:08   2020-11-04 19:32:30   \n",
       "179990            1  2020-11-04 21:56:18   2020-11-04 22:03:47   \n",
       "\n",
       "            passenger_count  trip_distance  RatecodeID store_and_fwd_flag  \\\n",
       "Unnamed: 0                                                                  \n",
       "13                      2.0           1.40         1.0                  N   \n",
       "56                      2.0           1.20         1.0                  N   \n",
       "75                      1.0           1.30         1.0                  N   \n",
       "94                      1.0           1.04         1.0                  N   \n",
       "99                      0.0           2.30         1.0                  N   \n",
       "...                     ...            ...         ...                ...   \n",
       "2820931                 1.0           0.70         1.0                  N   \n",
       "2820937                 1.0           4.07         1.0                  N   \n",
       "169930                  1.0           0.60         1.0                  Y   \n",
       "176194                  1.0           4.40         1.0                  Y   \n",
       "179990                  2.0           1.50         1.0                  Y   \n",
       "\n",
       "            PULocationID  DOLocationID  payment_type  fare_amount  extra  \\\n",
       "Unnamed: 0                                                                 \n",
       "13                 230.0          68.0           1.0          8.5    3.0   \n",
       "56                 142.0         239.0           1.0          6.0    3.0   \n",
       "75                 161.0          48.0           2.0          8.0    0.5   \n",
       "94                 239.0         151.0           1.0          5.5    0.5   \n",
       "99                  41.0          42.0           2.0         12.0    0.5   \n",
       "...                  ...           ...           ...          ...    ...   \n",
       "2820931             79.0         148.0           1.0          5.0    0.5   \n",
       "2820937             79.0          17.0           1.0         18.0    0.5   \n",
       "169930              42.0          42.0           2.0          5.5    1.0   \n",
       "176194             143.0          79.0           1.0         17.0    3.5   \n",
       "179990              79.0         232.0           2.0          8.0    3.0   \n",
       "\n",
       "            mta_tax  tip_amount  tolls_amount  improvement_surcharge  \\\n",
       "Unnamed: 0                                                             \n",
       "13              0.5        3.05           0.0                    0.3   \n",
       "56              0.5        2.90           0.0                    0.3   \n",
       "75              0.5        0.00           0.0                    0.3   \n",
       "94              0.5        2.32           0.0                    0.3   \n",
       "99              0.5        0.00           0.0                    0.3   \n",
       "...             ...         ...           ...                    ...   \n",
       "2820931         0.5        1.00           0.0                    0.3   \n",
       "2820937         0.5        4.36           0.0                    0.3   \n",
       "169930          0.5        0.00           0.0                    0.3   \n",
       "176194          0.5        1.00           0.0                    0.3   \n",
       "179990          0.5        0.00           0.0                    0.3   \n",
       "\n",
       "            total_amount  congestion_surcharge  airport_fee  \n",
       "Unnamed: 0                                                   \n",
       "13                 15.35                   2.5          0.0  \n",
       "56                 12.70                   2.5          0.0  \n",
       "75                 11.80                   2.5          0.0  \n",
       "94                 11.62                   2.5          0.0  \n",
       "99                 13.30                   0.0          0.0  \n",
       "...                  ...                   ...          ...  \n",
       "2820931             9.80                   2.5          0.0  \n",
       "2820937            26.16                   2.5          0.0  \n",
       "169930              7.30                   0.0          0.0  \n",
       "176194             22.30                   2.5          0.0  \n",
       "179990             11.80                   2.5          0.0  \n",
       "\n",
       "[3011385 rows x 19 columns]"
      ],
      "text/html": "<div>\n<style scoped>\n    .dataframe tbody tr th:only-of-type {\n        vertical-align: middle;\n    }\n\n    .dataframe tbody tr th {\n        vertical-align: top;\n    }\n\n    .dataframe thead th {\n        text-align: right;\n    }\n</style>\n<table border=\"1\" class=\"dataframe\">\n  <thead>\n    <tr style=\"text-align: right;\">\n      <th></th>\n      <th>VendorID</th>\n      <th>tpep_pickup_datetime</th>\n      <th>tpep_dropoff_datetime</th>\n      <th>passenger_count</th>\n      <th>trip_distance</th>\n      <th>RatecodeID</th>\n      <th>store_and_fwd_flag</th>\n      <th>PULocationID</th>\n      <th>DOLocationID</th>\n      <th>payment_type</th>\n      <th>fare_amount</th>\n      <th>extra</th>\n      <th>mta_tax</th>\n      <th>tip_amount</th>\n      <th>tolls_amount</th>\n      <th>improvement_surcharge</th>\n      <th>total_amount</th>\n      <th>congestion_surcharge</th>\n      <th>airport_fee</th>\n    </tr>\n    <tr>\n      <th>Unnamed: 0</th>\n      <th></th>\n      <th></th>\n      <th></th>\n      <th></th>\n      <th></th>\n      <th></th>\n      <th></th>\n      <th></th>\n      <th></th>\n      <th></th>\n      <th></th>\n      <th></th>\n      <th></th>\n      <th></th>\n      <th></th>\n      <th></th>\n      <th></th>\n      <th></th>\n      <th></th>\n    </tr>\n  </thead>\n  <tbody>\n    <tr>\n      <th>13</th>\n      <td>1</td>\n      <td>2022-10-01 00:38:53</td>\n      <td>2022-10-01 00:48:13</td>\n      <td>2.0</td>\n      <td>1.40</td>\n      <td>1.0</td>\n      <td>N</td>\n      <td>230.0</td>\n      <td>68.0</td>\n      <td>1.0</td>\n      <td>8.5</td>\n      <td>3.0</td>\n      <td>0.5</td>\n      <td>3.05</td>\n      <td>0.0</td>\n      <td>0.3</td>\n      <td>15.35</td>\n      <td>2.5</td>\n      <td>0.0</td>\n    </tr>\n    <tr>\n      <th>56</th>\n      <td>1</td>\n      <td>2022-10-01 00:56:00</td>\n      <td>2022-10-01 01:01:00</td>\n      <td>2.0</td>\n      <td>1.20</td>\n      <td>1.0</td>\n      <td>N</td>\n      <td>142.0</td>\n      <td>239.0</td>\n      <td>1.0</td>\n      <td>6.0</td>\n      <td>3.0</td>\n      <td>0.5</td>\n      <td>2.90</td>\n      <td>0.0</td>\n      <td>0.3</td>\n      <td>12.70</td>\n      <td>2.5</td>\n      <td>0.0</td>\n    </tr>\n    <tr>\n      <th>75</th>\n      <td>2</td>\n      <td>2022-09-30 23:56:26</td>\n      <td>2022-10-01 00:06:06</td>\n      <td>1.0</td>\n      <td>1.30</td>\n      <td>1.0</td>\n      <td>N</td>\n      <td>161.0</td>\n      <td>48.0</td>\n      <td>2.0</td>\n      <td>8.0</td>\n      <td>0.5</td>\n      <td>0.5</td>\n      <td>0.00</td>\n      <td>0.0</td>\n      <td>0.3</td>\n      <td>11.80</td>\n      <td>2.5</td>\n      <td>0.0</td>\n    </tr>\n    <tr>\n      <th>94</th>\n      <td>2</td>\n      <td>2022-09-30 23:56:55</td>\n      <td>2022-10-01 00:01:19</td>\n      <td>1.0</td>\n      <td>1.04</td>\n      <td>1.0</td>\n      <td>N</td>\n      <td>239.0</td>\n      <td>151.0</td>\n      <td>1.0</td>\n      <td>5.5</td>\n      <td>0.5</td>\n      <td>0.5</td>\n      <td>2.32</td>\n      <td>0.0</td>\n      <td>0.3</td>\n      <td>11.62</td>\n      <td>2.5</td>\n      <td>0.0</td>\n    </tr>\n    <tr>\n      <th>99</th>\n      <td>1</td>\n      <td>2022-10-01 00:04:45</td>\n      <td>2022-10-01 00:20:23</td>\n      <td>0.0</td>\n      <td>2.30</td>\n      <td>1.0</td>\n      <td>N</td>\n      <td>41.0</td>\n      <td>42.0</td>\n      <td>2.0</td>\n      <td>12.0</td>\n      <td>0.5</td>\n      <td>0.5</td>\n      <td>0.00</td>\n      <td>0.0</td>\n      <td>0.3</td>\n      <td>13.30</td>\n      <td>0.0</td>\n      <td>0.0</td>\n    </tr>\n    <tr>\n      <th>...</th>\n      <td>...</td>\n      <td>...</td>\n      <td>...</td>\n      <td>...</td>\n      <td>...</td>\n      <td>...</td>\n      <td>...</td>\n      <td>...</td>\n      <td>...</td>\n      <td>...</td>\n      <td>...</td>\n      <td>...</td>\n      <td>...</td>\n      <td>...</td>\n      <td>...</td>\n      <td>...</td>\n      <td>...</td>\n      <td>...</td>\n      <td>...</td>\n    </tr>\n    <tr>\n      <th>2820931</th>\n      <td>2</td>\n      <td>2021-09-30 23:37:13</td>\n      <td>2021-09-30 23:41:23</td>\n      <td>1.0</td>\n      <td>0.70</td>\n      <td>1.0</td>\n      <td>N</td>\n      <td>79.0</td>\n      <td>148.0</td>\n      <td>1.0</td>\n      <td>5.0</td>\n      <td>0.5</td>\n      <td>0.5</td>\n      <td>1.00</td>\n      <td>0.0</td>\n      <td>0.3</td>\n      <td>9.80</td>\n      <td>2.5</td>\n      <td>0.0</td>\n    </tr>\n    <tr>\n      <th>2820937</th>\n      <td>2</td>\n      <td>2021-09-30 23:16:18</td>\n      <td>2021-09-30 23:38:27</td>\n      <td>1.0</td>\n      <td>4.07</td>\n      <td>1.0</td>\n      <td>N</td>\n      <td>79.0</td>\n      <td>17.0</td>\n      <td>1.0</td>\n      <td>18.0</td>\n      <td>0.5</td>\n      <td>0.5</td>\n      <td>4.36</td>\n      <td>0.0</td>\n      <td>0.3</td>\n      <td>26.16</td>\n      <td>2.5</td>\n      <td>0.0</td>\n    </tr>\n    <tr>\n      <th>169930</th>\n      <td>1</td>\n      <td>2020-11-04 17:53:18</td>\n      <td>2020-11-04 17:58:48</td>\n      <td>1.0</td>\n      <td>0.60</td>\n      <td>1.0</td>\n      <td>Y</td>\n      <td>42.0</td>\n      <td>42.0</td>\n      <td>2.0</td>\n      <td>5.5</td>\n      <td>1.0</td>\n      <td>0.5</td>\n      <td>0.00</td>\n      <td>0.0</td>\n      <td>0.3</td>\n      <td>7.30</td>\n      <td>0.0</td>\n      <td>0.0</td>\n    </tr>\n    <tr>\n      <th>176194</th>\n      <td>1</td>\n      <td>2020-11-04 19:13:08</td>\n      <td>2020-11-04 19:32:30</td>\n      <td>1.0</td>\n      <td>4.40</td>\n      <td>1.0</td>\n      <td>Y</td>\n      <td>143.0</td>\n      <td>79.0</td>\n      <td>1.0</td>\n      <td>17.0</td>\n      <td>3.5</td>\n      <td>0.5</td>\n      <td>1.00</td>\n      <td>0.0</td>\n      <td>0.3</td>\n      <td>22.30</td>\n      <td>2.5</td>\n      <td>0.0</td>\n    </tr>\n    <tr>\n      <th>179990</th>\n      <td>1</td>\n      <td>2020-11-04 21:56:18</td>\n      <td>2020-11-04 22:03:47</td>\n      <td>2.0</td>\n      <td>1.50</td>\n      <td>1.0</td>\n      <td>Y</td>\n      <td>79.0</td>\n      <td>232.0</td>\n      <td>2.0</td>\n      <td>8.0</td>\n      <td>3.0</td>\n      <td>0.5</td>\n      <td>0.00</td>\n      <td>0.0</td>\n      <td>0.3</td>\n      <td>11.80</td>\n      <td>2.5</td>\n      <td>0.0</td>\n    </tr>\n  </tbody>\n</table>\n<p>3011385 rows × 19 columns</p>\n</div>"
     },
     "metadata": {},
     "execution_count": 9
    }
   ],
   "source": [
    "# remove null values, fill missed values with 0\n",
    "nyc_2016_2022.dropna(subset=['RatecodeID', 'airport_fee', 'congestion_surcharge', 'passenger_count', 'store_and_fwd_flag'], inplace = True)\n",
    "nyc_2016_2022.fillna(0)"
   ]
  },
  {
   "cell_type": "code",
   "execution_count": 10,
   "metadata": {},
   "outputs": [],
   "source": [
    "# convert columns to correct datatypes\n",
    "convert_columns_float = {\n",
    "                    'trip_distance': float, \n",
    "                    'fare_amount': float, \n",
    "                    'extra': float, \n",
    "                    'mta_tax': float,\n",
    "                    'tip_amount': float,\n",
    "                    'tolls_amount': float,\n",
    "                    'improvement_surcharge': float,\n",
    "                    'total_amount': float,\n",
    "                    'congestion_surcharge': float,\n",
    "                    'airport_fee': float\n",
    "                    }\n",
    "convert_columns_int = {\n",
    "                    'passenger_count': int,\n",
    "                    'RatecodeID': int, \n",
    "                    'payment_type': int, \n",
    "                    'PULocationID': int,\n",
    "                    'DOLocationID': int\n",
    "                     }\n",
    "\n",
    "for column in convert_columns_float.keys():\n",
    "    nyc_2016_2022[column] = pd.to_numeric(nyc_2016_2022[column], errors='coerce')\n",
    "for column in convert_columns_int.keys():\n",
    "    nyc_2016_2022[column] = pd.to_numeric(nyc_2016_2022[column], downcast= 'signed', errors='coerce')\n",
    "# nyc_2016_2022.astype(convert_columns_float)\n",
    "# nyc_2016_2022.astype(convert_columns_int)"
   ]
  },
  {
   "cell_type": "code",
   "execution_count": 11,
   "metadata": {},
   "outputs": [],
   "source": [
    "# parse dates\n",
    "# if does not work run previous two cells again\n",
    "nyc_2016_2022['tpep_pickup_datetime'] = pd.to_datetime(nyc_2016_2022['tpep_pickup_datetime'])\n",
    "nyc_2016_2022['tpep_dropoff_datetime'] = pd.to_datetime(nyc_2016_2022['tpep_dropoff_datetime'])"
   ]
  },
  {
   "cell_type": "code",
   "execution_count": 12,
   "metadata": {},
   "outputs": [
    {
     "output_type": "execute_result",
     "data": {
      "text/plain": [
       "VendorID                         object\n",
       "tpep_pickup_datetime     datetime64[ns]\n",
       "tpep_dropoff_datetime    datetime64[ns]\n",
       "passenger_count                    int8\n",
       "trip_distance                   float64\n",
       "RatecodeID                         int8\n",
       "store_and_fwd_flag               object\n",
       "PULocationID                      int16\n",
       "DOLocationID                      int16\n",
       "payment_type                       int8\n",
       "fare_amount                     float64\n",
       "extra                           float64\n",
       "mta_tax                         float64\n",
       "tip_amount                      float64\n",
       "tolls_amount                    float64\n",
       "improvement_surcharge           float64\n",
       "total_amount                    float64\n",
       "congestion_surcharge            float64\n",
       "airport_fee                     float64\n",
       "dtype: object"
      ]
     },
     "metadata": {},
     "execution_count": 12
    }
   ],
   "source": [
    "nyc_2016_2022.dtypes"
   ]
  },
  {
   "cell_type": "code",
   "execution_count": 13,
   "metadata": {},
   "outputs": [
    {
     "output_type": "execute_result",
     "data": {
      "text/plain": [
       "       passenger_count  trip_distance    RatecodeID  PULocationID  \\\n",
       "count     3.011385e+06   3.011385e+06  3.011385e+06  3.011385e+06   \n",
       "mean      1.412633e+00   3.345794e+00  1.288712e+00  1.649434e+02   \n",
       "std       9.948025e-01   3.160178e+01  4.646310e+00  6.517899e+01   \n",
       "min       0.000000e+00   0.000000e+00  1.000000e+00  1.000000e+00   \n",
       "25%       1.000000e+00   1.100000e+00  1.000000e+00  1.320000e+02   \n",
       "50%       1.000000e+00   1.830000e+00  1.000000e+00  1.620000e+02   \n",
       "75%       1.000000e+00   3.350000e+00  1.000000e+00  2.340000e+02   \n",
       "max       1.120000e+02   5.344055e+04  9.900000e+01  2.650000e+02   \n",
       "\n",
       "       DOLocationID  payment_type   fare_amount         extra       mta_tax  \\\n",
       "count  3.011385e+06  3.011385e+06  3.011385e+06  3.011385e+06  3.011385e+06   \n",
       "mean   1.628865e+02  1.236898e+00  1.387867e+01  1.039501e+00  4.901255e-01   \n",
       "std    7.022865e+01  4.703113e-01  1.511524e+01  1.248968e+00  8.779848e-02   \n",
       "min    1.000000e+00  1.000000e+00 -2.564000e+03 -4.500000e+00 -5.500000e-01   \n",
       "25%    1.130000e+02  1.000000e+00  7.000000e+00  0.000000e+00  5.000000e-01   \n",
       "50%    1.620000e+02  1.000000e+00  1.000000e+01  5.000000e-01  5.000000e-01   \n",
       "75%    2.340000e+02  1.000000e+00  1.550000e+01  2.500000e+00  5.000000e-01   \n",
       "max    2.650000e+02  4.000000e+00  7.006000e+03  1.855000e+01  3.300000e+00   \n",
       "\n",
       "         tip_amount  tolls_amount  improvement_surcharge  total_amount  \\\n",
       "count  3.011385e+06  3.011385e+06           3.011385e+06  3.011385e+06   \n",
       "mean   2.567725e+00  4.678675e-01           2.964504e-01  2.041689e+01   \n",
       "std    3.192001e+00  2.023796e+00           4.558928e-02  1.808908e+01   \n",
       "min   -3.333200e+02 -7.000000e+01          -3.000000e-01 -2.567800e+03   \n",
       "25%    0.000000e+00  0.000000e+00           3.000000e-01  1.180000e+01   \n",
       "50%    2.060000e+00  0.000000e+00           3.000000e-01  1.536000e+01   \n",
       "75%    3.200000e+00  0.000000e+00           3.000000e-01  2.180000e+01   \n",
       "max    1.393860e+03  9.118700e+02           1.000000e+00  7.017100e+03   \n",
       "\n",
       "       congestion_surcharge   airport_fee  \n",
       "count          3.011385e+06  3.011385e+06  \n",
       "mean           2.287737e+00  8.627094e-02  \n",
       "std            7.369781e-01  3.194172e-01  \n",
       "min           -2.500000e+00 -1.250000e+00  \n",
       "25%            2.500000e+00  0.000000e+00  \n",
       "50%            2.500000e+00  0.000000e+00  \n",
       "75%            2.500000e+00  0.000000e+00  \n",
       "max            2.750000e+00  1.250000e+00  "
      ],
      "text/html": "<div>\n<style scoped>\n    .dataframe tbody tr th:only-of-type {\n        vertical-align: middle;\n    }\n\n    .dataframe tbody tr th {\n        vertical-align: top;\n    }\n\n    .dataframe thead th {\n        text-align: right;\n    }\n</style>\n<table border=\"1\" class=\"dataframe\">\n  <thead>\n    <tr style=\"text-align: right;\">\n      <th></th>\n      <th>passenger_count</th>\n      <th>trip_distance</th>\n      <th>RatecodeID</th>\n      <th>PULocationID</th>\n      <th>DOLocationID</th>\n      <th>payment_type</th>\n      <th>fare_amount</th>\n      <th>extra</th>\n      <th>mta_tax</th>\n      <th>tip_amount</th>\n      <th>tolls_amount</th>\n      <th>improvement_surcharge</th>\n      <th>total_amount</th>\n      <th>congestion_surcharge</th>\n      <th>airport_fee</th>\n    </tr>\n  </thead>\n  <tbody>\n    <tr>\n      <th>count</th>\n      <td>3.011385e+06</td>\n      <td>3.011385e+06</td>\n      <td>3.011385e+06</td>\n      <td>3.011385e+06</td>\n      <td>3.011385e+06</td>\n      <td>3.011385e+06</td>\n      <td>3.011385e+06</td>\n      <td>3.011385e+06</td>\n      <td>3.011385e+06</td>\n      <td>3.011385e+06</td>\n      <td>3.011385e+06</td>\n      <td>3.011385e+06</td>\n      <td>3.011385e+06</td>\n      <td>3.011385e+06</td>\n      <td>3.011385e+06</td>\n    </tr>\n    <tr>\n      <th>mean</th>\n      <td>1.412633e+00</td>\n      <td>3.345794e+00</td>\n      <td>1.288712e+00</td>\n      <td>1.649434e+02</td>\n      <td>1.628865e+02</td>\n      <td>1.236898e+00</td>\n      <td>1.387867e+01</td>\n      <td>1.039501e+00</td>\n      <td>4.901255e-01</td>\n      <td>2.567725e+00</td>\n      <td>4.678675e-01</td>\n      <td>2.964504e-01</td>\n      <td>2.041689e+01</td>\n      <td>2.287737e+00</td>\n      <td>8.627094e-02</td>\n    </tr>\n    <tr>\n      <th>std</th>\n      <td>9.948025e-01</td>\n      <td>3.160178e+01</td>\n      <td>4.646310e+00</td>\n      <td>6.517899e+01</td>\n      <td>7.022865e+01</td>\n      <td>4.703113e-01</td>\n      <td>1.511524e+01</td>\n      <td>1.248968e+00</td>\n      <td>8.779848e-02</td>\n      <td>3.192001e+00</td>\n      <td>2.023796e+00</td>\n      <td>4.558928e-02</td>\n      <td>1.808908e+01</td>\n      <td>7.369781e-01</td>\n      <td>3.194172e-01</td>\n    </tr>\n    <tr>\n      <th>min</th>\n      <td>0.000000e+00</td>\n      <td>0.000000e+00</td>\n      <td>1.000000e+00</td>\n      <td>1.000000e+00</td>\n      <td>1.000000e+00</td>\n      <td>1.000000e+00</td>\n      <td>-2.564000e+03</td>\n      <td>-4.500000e+00</td>\n      <td>-5.500000e-01</td>\n      <td>-3.333200e+02</td>\n      <td>-7.000000e+01</td>\n      <td>-3.000000e-01</td>\n      <td>-2.567800e+03</td>\n      <td>-2.500000e+00</td>\n      <td>-1.250000e+00</td>\n    </tr>\n    <tr>\n      <th>25%</th>\n      <td>1.000000e+00</td>\n      <td>1.100000e+00</td>\n      <td>1.000000e+00</td>\n      <td>1.320000e+02</td>\n      <td>1.130000e+02</td>\n      <td>1.000000e+00</td>\n      <td>7.000000e+00</td>\n      <td>0.000000e+00</td>\n      <td>5.000000e-01</td>\n      <td>0.000000e+00</td>\n      <td>0.000000e+00</td>\n      <td>3.000000e-01</td>\n      <td>1.180000e+01</td>\n      <td>2.500000e+00</td>\n      <td>0.000000e+00</td>\n    </tr>\n    <tr>\n      <th>50%</th>\n      <td>1.000000e+00</td>\n      <td>1.830000e+00</td>\n      <td>1.000000e+00</td>\n      <td>1.620000e+02</td>\n      <td>1.620000e+02</td>\n      <td>1.000000e+00</td>\n      <td>1.000000e+01</td>\n      <td>5.000000e-01</td>\n      <td>5.000000e-01</td>\n      <td>2.060000e+00</td>\n      <td>0.000000e+00</td>\n      <td>3.000000e-01</td>\n      <td>1.536000e+01</td>\n      <td>2.500000e+00</td>\n      <td>0.000000e+00</td>\n    </tr>\n    <tr>\n      <th>75%</th>\n      <td>1.000000e+00</td>\n      <td>3.350000e+00</td>\n      <td>1.000000e+00</td>\n      <td>2.340000e+02</td>\n      <td>2.340000e+02</td>\n      <td>1.000000e+00</td>\n      <td>1.550000e+01</td>\n      <td>2.500000e+00</td>\n      <td>5.000000e-01</td>\n      <td>3.200000e+00</td>\n      <td>0.000000e+00</td>\n      <td>3.000000e-01</td>\n      <td>2.180000e+01</td>\n      <td>2.500000e+00</td>\n      <td>0.000000e+00</td>\n    </tr>\n    <tr>\n      <th>max</th>\n      <td>1.120000e+02</td>\n      <td>5.344055e+04</td>\n      <td>9.900000e+01</td>\n      <td>2.650000e+02</td>\n      <td>2.650000e+02</td>\n      <td>4.000000e+00</td>\n      <td>7.006000e+03</td>\n      <td>1.855000e+01</td>\n      <td>3.300000e+00</td>\n      <td>1.393860e+03</td>\n      <td>9.118700e+02</td>\n      <td>1.000000e+00</td>\n      <td>7.017100e+03</td>\n      <td>2.750000e+00</td>\n      <td>1.250000e+00</td>\n    </tr>\n  </tbody>\n</table>\n</div>"
     },
     "metadata": {},
     "execution_count": 13
    }
   ],
   "source": [
    "nyc_2016_2022.describe()"
   ]
  },
  {
   "cell_type": "code",
   "execution_count": 14,
   "metadata": {},
   "outputs": [],
   "source": [
    "# remove data that does not make sense: \n",
    "# negative extra, mta_tax, tip_amount, tolls_amount, etc\n",
    "# fare amount starts at $3.00 for yellow cab\n",
    "nyc_2016_2022 = nyc_2016_2022.drop(nyc_2016_2022[nyc_2016_2022['fare_amount'] < 3].index, axis = 0)\n",
    "# getting rid of fare amounts costing hundreds / thousands of dollars\n",
    "nyc_2016_2022 = nyc_2016_2022.drop(nyc_2016_2022[nyc_2016_2022['fare_amount'] > 300].index, axis = 0)\n",
    "nyc_2016_2022 = nyc_2016_2022.drop(nyc_2016_2022[nyc_2016_2022['extra'] < 0].index, axis = 0)\n",
    "# mta tax starts at $0.50\n",
    "nyc_2016_2022 = nyc_2016_2022.drop(nyc_2016_2022[nyc_2016_2022['mta_tax'] < 0.5].index, axis = 0)\n",
    "nyc_2016_2022 = nyc_2016_2022.drop(nyc_2016_2022[nyc_2016_2022['tip_amount'] < 0].index, axis = 0)\n",
    "nyc_2016_2022 = nyc_2016_2022.drop(nyc_2016_2022[nyc_2016_2022['tolls_amount'] < 0].index, axis = 0)\n",
    "# improvement surcharge starts at $0.30\n",
    "nyc_2016_2022 = nyc_2016_2022.drop(nyc_2016_2022[nyc_2016_2022['improvement_surcharge'] < 0.3].index, axis = 0)\n",
    "nyc_2016_2022 = nyc_2016_2022.drop(nyc_2016_2022[nyc_2016_2022['total_amount'] < 0].index, axis = 0)\n",
    "nyc_2016_2022 = nyc_2016_2022.drop(nyc_2016_2022[nyc_2016_2022['congestion_surcharge'] < 0].index, axis = 0)\n",
    "nyc_2016_2022 = nyc_2016_2022.drop(nyc_2016_2022[nyc_2016_2022['airport_fee'] < 0].index, axis = 0)\n",
    "# remove passenger count over 6 (maximum possible 6 by New York Law)\n",
    "nyc_2016_2022 = nyc_2016_2022.drop(nyc_2016_2022[nyc_2016_2022['passenger_count'] > 6].index, axis = 0)\n",
    "# removing huge trip distances, NYC is about 300 sq feet\n",
    "nyc_2016_2022 = nyc_2016_2022.drop(nyc_2016_2022[nyc_2016_2022['trip_distance'] > 300].index, axis = 0)"
   ]
  },
  {
   "cell_type": "code",
   "execution_count": 15,
   "metadata": {},
   "outputs": [],
   "source": [
    "# extracting possible useful features\n",
    "nyc_2016_2022['fare_per_mile'] = nyc_2016_2022['fare_amount'] / nyc_2016_2022['trip_distance']\n",
    "nyc_2016_2022['year'] = nyc_2016_2022.tpep_pickup_datetime.dt.year\n",
    "nyc_2016_2022['month'] = nyc_2016_2022.tpep_pickup_datetime.dt.day\n",
    "nyc_2016_2022['day_of_week'] = nyc_2016_2022.tpep_pickup_datetime.dt.weekday\n",
    "nyc_2016_2022['day_of_month'] = nyc_2016_2022.tpep_pickup_datetime.dt.month\n",
    "nyc_2016_2022['hour'] = nyc_2016_2022.tpep_pickup_datetime.dt.hour\n",
    "nyc_2016_2022['minute'] = nyc_2016_2022.tpep_pickup_datetime.dt.minute\n",
    "nyc_2016_2022['second'] = nyc_2016_2022.tpep_pickup_datetime.dt.second"
   ]
  },
  {
   "cell_type": "code",
   "execution_count": 16,
   "metadata": {},
   "outputs": [],
   "source": [
    "# drop datetime param since features extracted\n",
    "nyc_2016_2022.drop(columns = ['tpep_pickup_datetime', 'tpep_dropoff_datetime'], inplace = True)"
   ]
  },
  {
   "cell_type": "code",
   "execution_count": 17,
   "metadata": {},
   "outputs": [],
   "source": [
    "nyc_2016_2022.drop(columns = ['store_and_fwd_flag'], inplace = True)"
   ]
  },
  {
   "cell_type": "code",
   "execution_count": 18,
   "metadata": {},
   "outputs": [
    {
     "output_type": "execute_result",
     "data": {
      "text/plain": [
       "           VendorID  passenger_count  trip_distance  RatecodeID  PULocationID  \\\n",
       "Unnamed: 0                                                                      \n",
       "13                1                2           1.40           1           230   \n",
       "56                1                2           1.20           1           142   \n",
       "75                2                1           1.30           1           161   \n",
       "94                2                1           1.04           1           239   \n",
       "99                1                0           2.30           1            41   \n",
       "\n",
       "            DOLocationID  payment_type  fare_amount  extra  mta_tax  ...  \\\n",
       "Unnamed: 0                                                           ...   \n",
       "13                    68             1          8.5    3.0      0.5  ...   \n",
       "56                   239             1          6.0    3.0      0.5  ...   \n",
       "75                    48             2          8.0    0.5      0.5  ...   \n",
       "94                   151             1          5.5    0.5      0.5  ...   \n",
       "99                    42             2         12.0    0.5      0.5  ...   \n",
       "\n",
       "            congestion_surcharge  airport_fee  fare_per_mile  year  month  \\\n",
       "Unnamed: 0                                                                  \n",
       "13                           2.5          0.0       6.071429  2022      1   \n",
       "56                           2.5          0.0       5.000000  2022      1   \n",
       "75                           2.5          0.0       6.153846  2022     30   \n",
       "94                           2.5          0.0       5.288462  2022     30   \n",
       "99                           0.0          0.0       5.217391  2022      1   \n",
       "\n",
       "            day_of_week  day_of_month  hour  minute  second  \n",
       "Unnamed: 0                                                   \n",
       "13                    5            10     0      38      53  \n",
       "56                    5            10     0      56       0  \n",
       "75                    4             9    23      56      26  \n",
       "94                    4             9    23      56      55  \n",
       "99                    5            10     0       4      45  \n",
       "\n",
       "[5 rows x 24 columns]"
      ],
      "text/html": "<div>\n<style scoped>\n    .dataframe tbody tr th:only-of-type {\n        vertical-align: middle;\n    }\n\n    .dataframe tbody tr th {\n        vertical-align: top;\n    }\n\n    .dataframe thead th {\n        text-align: right;\n    }\n</style>\n<table border=\"1\" class=\"dataframe\">\n  <thead>\n    <tr style=\"text-align: right;\">\n      <th></th>\n      <th>VendorID</th>\n      <th>passenger_count</th>\n      <th>trip_distance</th>\n      <th>RatecodeID</th>\n      <th>PULocationID</th>\n      <th>DOLocationID</th>\n      <th>payment_type</th>\n      <th>fare_amount</th>\n      <th>extra</th>\n      <th>mta_tax</th>\n      <th>...</th>\n      <th>congestion_surcharge</th>\n      <th>airport_fee</th>\n      <th>fare_per_mile</th>\n      <th>year</th>\n      <th>month</th>\n      <th>day_of_week</th>\n      <th>day_of_month</th>\n      <th>hour</th>\n      <th>minute</th>\n      <th>second</th>\n    </tr>\n    <tr>\n      <th>Unnamed: 0</th>\n      <th></th>\n      <th></th>\n      <th></th>\n      <th></th>\n      <th></th>\n      <th></th>\n      <th></th>\n      <th></th>\n      <th></th>\n      <th></th>\n      <th></th>\n      <th></th>\n      <th></th>\n      <th></th>\n      <th></th>\n      <th></th>\n      <th></th>\n      <th></th>\n      <th></th>\n      <th></th>\n      <th></th>\n    </tr>\n  </thead>\n  <tbody>\n    <tr>\n      <th>13</th>\n      <td>1</td>\n      <td>2</td>\n      <td>1.40</td>\n      <td>1</td>\n      <td>230</td>\n      <td>68</td>\n      <td>1</td>\n      <td>8.5</td>\n      <td>3.0</td>\n      <td>0.5</td>\n      <td>...</td>\n      <td>2.5</td>\n      <td>0.0</td>\n      <td>6.071429</td>\n      <td>2022</td>\n      <td>1</td>\n      <td>5</td>\n      <td>10</td>\n      <td>0</td>\n      <td>38</td>\n      <td>53</td>\n    </tr>\n    <tr>\n      <th>56</th>\n      <td>1</td>\n      <td>2</td>\n      <td>1.20</td>\n      <td>1</td>\n      <td>142</td>\n      <td>239</td>\n      <td>1</td>\n      <td>6.0</td>\n      <td>3.0</td>\n      <td>0.5</td>\n      <td>...</td>\n      <td>2.5</td>\n      <td>0.0</td>\n      <td>5.000000</td>\n      <td>2022</td>\n      <td>1</td>\n      <td>5</td>\n      <td>10</td>\n      <td>0</td>\n      <td>56</td>\n      <td>0</td>\n    </tr>\n    <tr>\n      <th>75</th>\n      <td>2</td>\n      <td>1</td>\n      <td>1.30</td>\n      <td>1</td>\n      <td>161</td>\n      <td>48</td>\n      <td>2</td>\n      <td>8.0</td>\n      <td>0.5</td>\n      <td>0.5</td>\n      <td>...</td>\n      <td>2.5</td>\n      <td>0.0</td>\n      <td>6.153846</td>\n      <td>2022</td>\n      <td>30</td>\n      <td>4</td>\n      <td>9</td>\n      <td>23</td>\n      <td>56</td>\n      <td>26</td>\n    </tr>\n    <tr>\n      <th>94</th>\n      <td>2</td>\n      <td>1</td>\n      <td>1.04</td>\n      <td>1</td>\n      <td>239</td>\n      <td>151</td>\n      <td>1</td>\n      <td>5.5</td>\n      <td>0.5</td>\n      <td>0.5</td>\n      <td>...</td>\n      <td>2.5</td>\n      <td>0.0</td>\n      <td>5.288462</td>\n      <td>2022</td>\n      <td>30</td>\n      <td>4</td>\n      <td>9</td>\n      <td>23</td>\n      <td>56</td>\n      <td>55</td>\n    </tr>\n    <tr>\n      <th>99</th>\n      <td>1</td>\n      <td>0</td>\n      <td>2.30</td>\n      <td>1</td>\n      <td>41</td>\n      <td>42</td>\n      <td>2</td>\n      <td>12.0</td>\n      <td>0.5</td>\n      <td>0.5</td>\n      <td>...</td>\n      <td>0.0</td>\n      <td>0.0</td>\n      <td>5.217391</td>\n      <td>2022</td>\n      <td>1</td>\n      <td>5</td>\n      <td>10</td>\n      <td>0</td>\n      <td>4</td>\n      <td>45</td>\n    </tr>\n  </tbody>\n</table>\n<p>5 rows × 24 columns</p>\n</div>"
     },
     "metadata": {},
     "execution_count": 18
    }
   ],
   "source": [
    "nyc_2016_2022.head()"
   ]
  },
  {
   "cell_type": "code",
   "execution_count": 19,
   "metadata": {},
   "outputs": [
    {
     "output_type": "execute_result",
     "data": {
      "text/plain": [
       "VendorID                  object\n",
       "passenger_count             int8\n",
       "trip_distance            float64\n",
       "RatecodeID                  int8\n",
       "PULocationID               int16\n",
       "DOLocationID               int16\n",
       "payment_type                int8\n",
       "fare_amount              float64\n",
       "extra                    float64\n",
       "mta_tax                  float64\n",
       "tip_amount               float64\n",
       "tolls_amount             float64\n",
       "improvement_surcharge    float64\n",
       "total_amount             float64\n",
       "congestion_surcharge     float64\n",
       "airport_fee              float64\n",
       "fare_per_mile            float64\n",
       "year                       int64\n",
       "month                      int64\n",
       "day_of_week                int64\n",
       "day_of_month               int64\n",
       "hour                       int64\n",
       "minute                     int64\n",
       "second                     int64\n",
       "dtype: object"
      ]
     },
     "metadata": {},
     "execution_count": 19
    }
   ],
   "source": [
    "nyc_2016_2022.dtypes"
   ]
  },
  {
   "cell_type": "code",
   "execution_count": 128,
   "metadata": {},
   "outputs": [],
   "source": [
    "# splitting data\n",
    "from sklearn.model_selection import train_test_split\n",
    "from sklearn.linear_model import LinearRegression\n",
    "from sklearn.metrics import mean_squared_error\n",
    "from sklearn.metrics import mean_absolute_error\n",
    "from sklearn.preprocessing import StandardScaler\n",
    "from sklearn.feature_selection import SelectKBest\n",
    "from sklearn.feature_selection import f_regression"
   ]
  },
  {
   "cell_type": "code",
   "execution_count": 21,
   "metadata": {},
   "outputs": [],
   "source": [
    "nyc_2016_2022.replace([np.inf, -np.inf], np.nan, inplace=True)\n",
    "nyc_2016_2022.fillna(0, inplace=True)"
   ]
  },
  {
   "cell_type": "code",
   "execution_count": 22,
   "metadata": {},
   "outputs": [],
   "source": [
    "X = nyc_2016_2022.iloc[:, nyc_2016_2022.columns != \"fare_amount\"]\n",
    "y = nyc_2016_2022['fare_amount']"
   ]
  },
  {
   "cell_type": "code",
   "execution_count": 23,
   "metadata": {},
   "outputs": [
    {
     "output_type": "stream",
     "name": "stdout",
     "text": [
      "(2926572, 23)\n"
     ]
    }
   ],
   "source": [
    "print(X.shape)"
   ]
  },
  {
   "cell_type": "code",
   "execution_count": 115,
   "metadata": {},
   "outputs": [],
   "source": [
    "# backward feature selection removing all but k highest scoring features\n",
    "# big change in error between k = 2 through 6, very small change between 6 and 7\n",
    "X_new = SelectKBest(f_regression, k = 6).fit_transform(X, y)"
   ]
  },
  {
   "cell_type": "code",
   "execution_count": 116,
   "metadata": {},
   "outputs": [
    {
     "output_type": "stream",
     "name": "stdout",
     "text": [
      "(2926572, 7)\n"
     ]
    }
   ],
   "source": [
    "print(X_new.shape)"
   ]
  },
  {
   "cell_type": "code",
   "execution_count": 117,
   "metadata": {},
   "outputs": [],
   "source": [
    "X_train, X_valid, y_train, y_valid = train_test_split(X_new, y, train_size = 0.8, test_size = 0.2, random_state = 42, shuffle = True)"
   ]
  },
  {
   "cell_type": "code",
   "execution_count": 118,
   "metadata": {},
   "outputs": [],
   "source": [
    "# normalize data\n",
    "scaler = StandardScaler()"
   ]
  },
  {
   "cell_type": "code",
   "execution_count": 119,
   "metadata": {},
   "outputs": [],
   "source": [
    "X_train = scaler.fit_transform(X_train)"
   ]
  },
  {
   "cell_type": "code",
   "execution_count": 120,
   "metadata": {},
   "outputs": [],
   "source": [
    "X_valid = scaler.transform(X_valid)"
   ]
  },
  {
   "cell_type": "code",
   "execution_count": 121,
   "metadata": {},
   "outputs": [],
   "source": [
    "linReg = LinearRegression()"
   ]
  },
  {
   "cell_type": "code",
   "execution_count": 122,
   "metadata": {},
   "outputs": [
    {
     "output_type": "execute_result",
     "data": {
      "text/plain": [
       "LinearRegression()"
      ]
     },
     "metadata": {},
     "execution_count": 122
    }
   ],
   "source": [
    "linReg.fit(X_train, y_train)"
   ]
  },
  {
   "cell_type": "code",
   "execution_count": 123,
   "metadata": {},
   "outputs": [],
   "source": [
    "y_predicted = linReg.predict(X_valid)"
   ]
  },
  {
   "cell_type": "code",
   "execution_count": 124,
   "metadata": {},
   "outputs": [
    {
     "output_type": "stream",
     "name": "stdout",
     "text": [
      "Validation Root Mean Squared Error:  0.5145148410835819\n"
     ]
    }
   ],
   "source": [
    "print('Validation Root Mean Squared Error: ', np.sqrt(mean_squared_error(y_valid, y_predicted)))"
   ]
  },
  {
   "cell_type": "code",
   "execution_count": 125,
   "metadata": {},
   "outputs": [
    {
     "output_type": "stream",
     "name": "stdout",
     "text": [
      "Validation Mean Absolute Error 0.3856928646572259\n"
     ]
    }
   ],
   "source": [
    "print('Validation Mean Absolute Error', mean_absolute_error(y_valid, y_predicted))"
   ]
  },
  {
   "cell_type": "code",
   "execution_count": null,
   "metadata": {},
   "outputs": [],
   "source": []
  }
 ]
}